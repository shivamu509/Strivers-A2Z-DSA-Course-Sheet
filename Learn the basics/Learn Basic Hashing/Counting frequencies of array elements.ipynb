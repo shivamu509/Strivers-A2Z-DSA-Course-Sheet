{
 "cells": [
  {
   "cell_type": "markdown",
   "id": "640cb9da",
   "metadata": {},
   "source": [
    "#### Given an array A[ ] of N positive integers which can contain integers from 1 to P where elements can be repeated or can be absent from the array. Your task is to count the frequency of all elements from 1 to N.\n",
    "\n",
    "Example 1:\n",
    "\n",
    "Input:<br>\n",
    "N = 5<br>\n",
    "arr[ ] = [2, 3, 2, 3, 5]<br>\n",
    "P = 5<br>\n",
    "Output:<br>\n",
    "0 2 2 0 1<br>\n",
    "Explanation: <br>\n",
    "Counting frequencies of each array element<br>\n",
    "We have:<br>\n",
    "1 occurring 0 times.<br>\n",
    "2 occurring 2 times.<br>\n",
    "3 occurring 2 times.<br>\n",
    "4 occurring 0 times.<br>\n",
    "5 occurring 1 time.\n",
    "\n",
    "Example 2:\n",
    "\n",
    "Input:<br>\n",
    "N = 4<br>\n",
    "arr[ ] = [3,3,3,3]<br>\n",
    "P = 3<br>\n",
    "Output:<br>\n",
    "0 0 4 0<br>\n",
    "Explanation: <br>\n",
    "Counting frequencies of each array element<br>\n",
    "We have:<br>\n",
    "1 occurring 0 times.<br>\n",
    "2 occurring 0 times.<br>\n",
    "3 occurring 4 times.<br>\n",
    "4 occurring 0 times."
   ]
  },
  {
   "cell_type": "code",
   "execution_count": null,
   "id": "f9f98113",
   "metadata": {},
   "outputs": [],
   "source": []
  },
  {
   "cell_type": "code",
   "execution_count": 1,
   "id": "b198b1ea",
   "metadata": {},
   "outputs": [],
   "source": [
    "#TC: O(N)\n",
    "#SC: O(N) (dictonary space)\n",
    "\n",
    "def frequencyCount(arr, N, P):\n",
    "    d = {}\n",
    "    for i in arr:\n",
    "        if i in d:\n",
    "            d[i] += 1\n",
    "        else:\n",
    "            d[i] = 1\n",
    "    for i in range(1,N+1):\n",
    "        if i in d:\n",
    "            arr[i-1] = d[i]\n",
    "        else:\n",
    "            arr[i-1] = 0\n",
    "    return arr"
   ]
  },
  {
   "cell_type": "code",
   "execution_count": 3,
   "id": "0ccd2709",
   "metadata": {},
   "outputs": [
    {
     "data": {
      "text/plain": [
       "[0, 2, 2, 0, 1]"
      ]
     },
     "execution_count": 3,
     "metadata": {},
     "output_type": "execute_result"
    }
   ],
   "source": [
    "frequencyCount([2, 3, 2, 3, 5],5,5)"
   ]
  },
  {
   "cell_type": "code",
   "execution_count": null,
   "id": "3e0be300",
   "metadata": {},
   "outputs": [],
   "source": []
  }
 ],
 "metadata": {
  "kernelspec": {
   "display_name": "Python 3",
   "language": "python",
   "name": "python3"
  },
  "language_info": {
   "codemirror_mode": {
    "name": "ipython",
    "version": 3
   },
   "file_extension": ".py",
   "mimetype": "text/x-python",
   "name": "python",
   "nbconvert_exporter": "python",
   "pygments_lexer": "ipython3",
   "version": "3.8.8"
  }
 },
 "nbformat": 4,
 "nbformat_minor": 5
}
