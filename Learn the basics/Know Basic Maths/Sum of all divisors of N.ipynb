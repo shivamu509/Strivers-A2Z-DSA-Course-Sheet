{
 "cells": [
  {
   "cell_type": "markdown",
   "id": "08cd87ea",
   "metadata": {},
   "source": [
    "#### Given a positive integer N., The task is to find the value of  <br>\n",
    "<img src=\"https://www.geeksforgeeks.org/wp-content/ql-cache/quicklatex.com-45420250014fd620fb684acbf2dc1527_l3.svg\">  <br>\n",
    "#### where function F(i) for the number i be defined as the sum of all divisors of ‘i‘.\n",
    "\n",
    "\n",
    "##### Input:<br>\n",
    "N = 5<br>\n",
    "##### Output:<br>\n",
    "21<br>\n",
    "##### Explanation:<br>\n",
    "F(1) = 1<br>\n",
    "F(2) = 1 + 2 = 3<br>\n",
    "F(3) = 1 + 3 = 4<br>\n",
    "F(4) = 1 + 2 + 4 = 7<br>\n",
    "F(5) = 1 + 5 = 6<br>\n",
    "ans = F(1) + F(2) + F(3) + F(4) + F(5)<br>\n",
    "    = 1 + 3 + 4 + 7 + 6<br>\n",
    "    = 21<br>"
   ]
  },
  {
   "cell_type": "code",
   "execution_count": null,
   "id": "94653545",
   "metadata": {},
   "outputs": [],
   "source": []
  },
  {
   "cell_type": "markdown",
   "id": "ec77b490",
   "metadata": {},
   "source": [
    "#### Efficient Approach Observation\n",
    "Let n = 6,<br>\n",
    "=> F(1) + F(2) + F(3) + F(4) + F(5) + F(6)<br>\n",
    "=> 1 will occurs 6 times in F(1), F(2), F(3), F(4), F(5) and F(6)<br>\n",
    "=> 2 will occurs 3 times in F(2), F(4) and F(6)<br>\n",
    "=> 3 will occur 2 times in F(3) and F(6)<br>\n",
    "=> 4 will occur 1 times in F(4)<br>\n",
    "=> 5 will occur 1 times in F(5)<br>\n",
    "=> 6 will occur 1 times in F(6)\n",
    "\n",
    "From the above observation, it can easily be observed that number i is occurring only in their multiples less than or equal to n. Thus, we just need to find the count of multiples and then multiply it with i for full contribution in the final sum. It can easily be done in O(1) time by taking the floor of (n / i) and then multiply it with i for the sum. "
   ]
  },
  {
   "cell_type": "code",
   "execution_count": 6,
   "id": "b793aa14",
   "metadata": {},
   "outputs": [],
   "source": [
    "#Efficient Approach\n",
    "#Time complexity: O(n) \n",
    "#Auxiliary space: O(1)\n",
    "\n",
    "def divisorSum(n):\n",
    "    ans = 0\n",
    "    for i in range(1, n+1):\n",
    "        ans += (n//i)*i\n",
    "    return ans"
   ]
  },
  {
   "cell_type": "code",
   "execution_count": 7,
   "id": "b7dfd7a5",
   "metadata": {},
   "outputs": [
    {
     "data": {
      "text/plain": [
       "21"
      ]
     },
     "execution_count": 7,
     "metadata": {},
     "output_type": "execute_result"
    }
   ],
   "source": [
    "divisorSum(5)"
   ]
  },
  {
   "cell_type": "code",
   "execution_count": null,
   "id": "de7c19f8",
   "metadata": {},
   "outputs": [],
   "source": []
  },
  {
   "cell_type": "code",
   "execution_count": null,
   "id": "d2dbd021",
   "metadata": {},
   "outputs": [],
   "source": []
  }
 ],
 "metadata": {
  "kernelspec": {
   "display_name": "Python 3",
   "language": "python",
   "name": "python3"
  },
  "language_info": {
   "codemirror_mode": {
    "name": "ipython",
    "version": 3
   },
   "file_extension": ".py",
   "mimetype": "text/x-python",
   "name": "python",
   "nbconvert_exporter": "python",
   "pygments_lexer": "ipython3",
   "version": "3.8.8"
  }
 },
 "nbformat": 4,
 "nbformat_minor": 5
}
