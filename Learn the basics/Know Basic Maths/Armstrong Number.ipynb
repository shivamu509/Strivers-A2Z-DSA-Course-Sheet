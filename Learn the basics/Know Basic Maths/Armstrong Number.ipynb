{
 "cells": [
  {
   "cell_type": "markdown",
   "id": "253c22ef",
   "metadata": {},
   "source": [
    "#### Given a number, check if it is Armstrong Number or Not.\n",
    "\n",
    "Armstrong Numbers are the numbers having the sum of digits raised to power no. of digits is equal to a given number. Examples- 0, 1, 153, 370, 371, 407, and 1634 are some of the Armstrong Numbers.\n",
    "\n",
    "Example 1:<br>\n",
    "Input:153 <br>\n",
    "Output: Yes, it is an Armstrong Number<br>\n",
    "Explanation: 1^3 + 5^3 + 3^3 = 153<br>\n",
    "\n",
    "Input:170 <br>\n",
    "Output: No, it is not an Armstrong Number<br>\n",
    "Explanation: 1^3 + 7^3 + 0^3 != 170<br>"
   ]
  },
  {
   "cell_type": "markdown",
   "id": "bfb29623",
   "metadata": {},
   "source": [
    "<img src=\"https://lh5.googleusercontent.com/n4-FlLhDcXgVCadRsK-U4ReeCxNuHYU1I69UEgHgaCClgz8xn4RG1cFPPp8PP9cBnvfzH1Ka316ozRqkadla1W2EiMg1CfPbgBWxKuWA-Qj8c4BEA_n1LxZFzhVvesdzoF2Kx1t_\">"
   ]
  },
  {
   "cell_type": "markdown",
   "id": "51e46428",
   "metadata": {},
   "source": [
    "<img src=\"https://lh3.googleusercontent.com/bkNo1WTv2oW_k21UV-qPonQ6H3dKcrWHlkpRn3YQ__gzs5pziMo-xA8doVF4H4znfjYHKvINf9GGAWojgkocNrU4hRxw3OoLQ9YUy_xXxoB6BYLIBn8_zQOYlSVeUM8ypkKpeDbM\">"
   ]
  },
  {
   "cell_type": "code",
   "execution_count": 5,
   "id": "2dfb3c07",
   "metadata": {},
   "outputs": [],
   "source": [
    "#TC: O(N)\n",
    "#SC: O(1)\n",
    "\n",
    "import math\n",
    "\n",
    "def armstrongNumber(n):\n",
    "    l = math.floor(math.log10(n)+1) #length of digits\n",
    "    ans = 0\n",
    "    y = n\n",
    "    while y>=1:\n",
    "        ans += (y%10)**l\n",
    "        y //= 10\n",
    "    return \"Yes\" if ans==n else \"No\""
   ]
  },
  {
   "cell_type": "code",
   "execution_count": 6,
   "id": "9971fef9",
   "metadata": {},
   "outputs": [
    {
     "data": {
      "text/plain": [
       "'Yes'"
      ]
     },
     "execution_count": 6,
     "metadata": {},
     "output_type": "execute_result"
    }
   ],
   "source": [
    "armstrongNumber(153)"
   ]
  },
  {
   "cell_type": "code",
   "execution_count": 7,
   "id": "04be717e",
   "metadata": {},
   "outputs": [
    {
     "data": {
      "text/plain": [
       "'No'"
      ]
     },
     "execution_count": 7,
     "metadata": {},
     "output_type": "execute_result"
    }
   ],
   "source": [
    "armstrongNumber(170)"
   ]
  },
  {
   "cell_type": "code",
   "execution_count": 8,
   "id": "005ad72e",
   "metadata": {},
   "outputs": [
    {
     "data": {
      "text/plain": [
       "'Yes'"
      ]
     },
     "execution_count": 8,
     "metadata": {},
     "output_type": "execute_result"
    }
   ],
   "source": [
    "armstrongNumber(370)"
   ]
  },
  {
   "cell_type": "code",
   "execution_count": null,
   "id": "b0439324",
   "metadata": {},
   "outputs": [],
   "source": []
  }
 ],
 "metadata": {
  "kernelspec": {
   "display_name": "Python 3",
   "language": "python",
   "name": "python3"
  },
  "language_info": {
   "codemirror_mode": {
    "name": "ipython",
    "version": 3
   },
   "file_extension": ".py",
   "mimetype": "text/x-python",
   "name": "python",
   "nbconvert_exporter": "python",
   "pygments_lexer": "ipython3",
   "version": "3.8.8"
  }
 },
 "nbformat": 4,
 "nbformat_minor": 5
}
