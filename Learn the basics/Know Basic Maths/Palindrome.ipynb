{
 "cells": [
  {
   "cell_type": "markdown",
   "id": "1aba882e",
   "metadata": {},
   "source": [
    "#### Leetcode (9)\n",
    "Q. Write a program to check wheather a given number is Palindrome or not.\n",
    " \n",
    "   Example 1:<br>\n",
    "   Input: x = 121<br>\n",
    "   Output: true<br>\n",
    "   Explanation: 121 reads as 121 from left to right and from right to left.<br>\n",
    "   \n",
    "   Example 2:<br>\n",
    "   Input: x = -121<br>\n",
    "   Output: false<br>\n",
    "   Explanation: From left to right, it reads -121. From right to left, it becomes 121-. Therefore it is not a palindrome.\n"
   ]
  },
  {
   "cell_type": "code",
   "execution_count": 2,
   "id": "aad47076",
   "metadata": {},
   "outputs": [],
   "source": [
    "def isPalindrome(x):\n",
    "    if x<0:\n",
    "        return False\n",
    "    n = 0\n",
    "    y = x\n",
    "    while x>=1:\n",
    "        n = n*10 + x%10\n",
    "        x //= 10\n",
    "    return y==n"
   ]
  },
  {
   "cell_type": "code",
   "execution_count": 3,
   "id": "7d7a3f4b",
   "metadata": {},
   "outputs": [
    {
     "data": {
      "text/plain": [
       "False"
      ]
     },
     "execution_count": 3,
     "metadata": {},
     "output_type": "execute_result"
    }
   ],
   "source": [
    "isPalindrome(-121)"
   ]
  },
  {
   "cell_type": "code",
   "execution_count": 4,
   "id": "2f095200",
   "metadata": {},
   "outputs": [
    {
     "data": {
      "text/plain": [
       "True"
      ]
     },
     "execution_count": 4,
     "metadata": {},
     "output_type": "execute_result"
    }
   ],
   "source": [
    "isPalindrome(121)"
   ]
  },
  {
   "cell_type": "code",
   "execution_count": 5,
   "id": "3aa5842d",
   "metadata": {},
   "outputs": [
    {
     "data": {
      "text/plain": [
       "False"
      ]
     },
     "execution_count": 5,
     "metadata": {},
     "output_type": "execute_result"
    }
   ],
   "source": [
    "isPalindrome(123)"
   ]
  },
  {
   "cell_type": "code",
   "execution_count": null,
   "id": "4ffdf6cc",
   "metadata": {},
   "outputs": [],
   "source": []
  },
  {
   "cell_type": "code",
   "execution_count": null,
   "id": "8f5deada",
   "metadata": {},
   "outputs": [],
   "source": []
  },
  {
   "cell_type": "code",
   "execution_count": 6,
   "id": "9cd11614",
   "metadata": {},
   "outputs": [],
   "source": [
    "#Other approach\n",
    "def isPalindrome(x):\n",
    "    x=str(x)\n",
    "    return x==x[::-1]"
   ]
  },
  {
   "cell_type": "code",
   "execution_count": 7,
   "id": "3d2bcda8",
   "metadata": {},
   "outputs": [
    {
     "data": {
      "text/plain": [
       "False"
      ]
     },
     "execution_count": 7,
     "metadata": {},
     "output_type": "execute_result"
    }
   ],
   "source": [
    "isPalindrome(123)"
   ]
  },
  {
   "cell_type": "code",
   "execution_count": null,
   "id": "d9d8140b",
   "metadata": {},
   "outputs": [],
   "source": []
  }
 ],
 "metadata": {
  "kernelspec": {
   "display_name": "Python 3",
   "language": "python",
   "name": "python3"
  },
  "language_info": {
   "codemirror_mode": {
    "name": "ipython",
    "version": 3
   },
   "file_extension": ".py",
   "mimetype": "text/x-python",
   "name": "python",
   "nbconvert_exporter": "python",
   "pygments_lexer": "ipython3",
   "version": "3.8.8"
  }
 },
 "nbformat": 4,
 "nbformat_minor": 5
}
