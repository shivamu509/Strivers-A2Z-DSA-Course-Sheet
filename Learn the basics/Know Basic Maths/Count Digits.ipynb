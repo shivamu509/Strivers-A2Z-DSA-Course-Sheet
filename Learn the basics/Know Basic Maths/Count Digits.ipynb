{
 "cells": [
  {
   "cell_type": "markdown",
   "id": "7b48b3d9",
   "metadata": {},
   "source": [
    "Count digits in a number<br>\n",
    "Problem Statement: Given an integer N , write program to count number of digits in N.\n",
    "\n",
    "Examples:\n",
    "\n",
    "Example 1:<br>\n",
    "Input: N = 12345<br>\n",
    "Output: 5<br>\n",
    "Explanation: N has 5 digits<br>\n",
    "<br>\n",
    "Example 2:<br>\n",
    "Input: N = 8394<br>\n",
    "Output: 4<br>\n",
    "Explanation: N has 4 digits<br>"
   ]
  },
  {
   "cell_type": "code",
   "execution_count": 1,
   "id": "4d6f92a7",
   "metadata": {},
   "outputs": [
    {
     "name": "stdout",
     "output_type": "stream",
     "text": [
      "12345\n",
      "5\n"
     ]
    }
   ],
   "source": [
    "#My approach\n",
    "#Time Complexity: O (n) where n is the number of digits in the given integer\n",
    "#Space Complexity: O(1)\n",
    "    \n",
    "n = int(input())\n",
    "cnt = 0\n",
    "while n>=1:\n",
    "    cnt+=1\n",
    "    n=n//10\n",
    "print(cnt)"
   ]
  },
  {
   "cell_type": "code",
   "execution_count": 3,
   "id": "c115eae2",
   "metadata": {},
   "outputs": [
    {
     "name": "stdout",
     "output_type": "stream",
     "text": [
      "Number of digits in  12345  is  5\n"
     ]
    }
   ],
   "source": [
    "#Other's best approach\n",
    "#Time Complexity: O(n) \n",
    "#Space Complexity: O(1)\n",
    "\n",
    "def count_digits(n):\n",
    "    x = str(n)\n",
    "    return len(x)\n",
    "\n",
    "n = 12345\n",
    "print(\"Number of digits in \", n, \" is \", count_digits(n))"
   ]
  },
  {
   "cell_type": "code",
   "execution_count": null,
   "id": "29d1d0a3",
   "metadata": {},
   "outputs": [],
   "source": []
  },
  {
   "cell_type": "markdown",
   "id": "9ecb035d",
   "metadata": {},
   "source": [
    " <br>\n",
    "Use logarithm base 10 to count the number of digits. As<br>\n",
    "\n",
    "The number of digits in an integer = the upper bound of log10(n).<br>\n",
    "\n",
    "Example :<br>\n",
    "\n",
    "n = 12345<br>\n",
    "log10(12345) = 4.091<br>\n",
    "Integral part of 4.091 is 4 and 4 + 1 =  5 which is also the number of digits in 12345<br>"
   ]
  },
  {
   "cell_type": "code",
   "execution_count": 4,
   "id": "abf466ea",
   "metadata": {},
   "outputs": [
    {
     "name": "stdout",
     "output_type": "stream",
     "text": [
      "Number of digits in  12345  is  5\n"
     ]
    }
   ],
   "source": [
    "#Time Complexity: O (1) \n",
    "\n",
    "#Space Complexity: O(1)\n",
    "\n",
    "import math\n",
    "def count_digits(n):\n",
    "    digits = math.floor(math.log10(n) + 1)\n",
    "    return digits\n",
    "n = 12345\n",
    "print(\"Number of digits in \", n, \" is \", count_digits(n))"
   ]
  },
  {
   "cell_type": "code",
   "execution_count": null,
   "id": "04051e37",
   "metadata": {},
   "outputs": [],
   "source": []
  },
  {
   "cell_type": "markdown",
   "id": "2cfaea8f",
   "metadata": {},
   "source": [
    " * Q. Given a number N. Count the number of digits in N which evenly divides N.\n",
    " * \n",
    " * Example: \n",
    " * Input:<br>\n",
    "   N = 12<br>\n",
    "   Output:<br>\n",
    "   2<br>\n",
    "   Explanation:<br>\n",
    "   1, 2 both divide 12 evenly<br>"
   ]
  },
  {
   "cell_type": "code",
   "execution_count": 4,
   "id": "495a39ea",
   "metadata": {},
   "outputs": [
    {
     "name": "stdout",
     "output_type": "stream",
     "text": [
      "1204\n",
      "3\n"
     ]
    }
   ],
   "source": [
    "#TC: O(N)\n",
    "#SC: O(N)\n",
    "\n",
    "def count_digits(n):\n",
    "    cnt = 0\n",
    "    while n>= 1:\n",
    "        t = n%10\n",
    "        if t!=0 and n%t==0:\n",
    "            cnt += 1\n",
    "        n //= 10\n",
    "    return cnt\n",
    "print(count_digits(int(input())))"
   ]
  },
  {
   "cell_type": "code",
   "execution_count": null,
   "id": "174e2675",
   "metadata": {},
   "outputs": [],
   "source": []
  }
 ],
 "metadata": {
  "kernelspec": {
   "display_name": "Python 3",
   "language": "python",
   "name": "python3"
  },
  "language_info": {
   "codemirror_mode": {
    "name": "ipython",
    "version": 3
   },
   "file_extension": ".py",
   "mimetype": "text/x-python",
   "name": "python",
   "nbconvert_exporter": "python",
   "pygments_lexer": "ipython3",
   "version": "3.8.8"
  }
 },
 "nbformat": 4,
 "nbformat_minor": 5
}
