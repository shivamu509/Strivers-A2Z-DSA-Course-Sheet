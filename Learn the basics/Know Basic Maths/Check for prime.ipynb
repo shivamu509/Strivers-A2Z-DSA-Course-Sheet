{
 "cells": [
  {
   "cell_type": "markdown",
   "id": "fd1d3edb",
   "metadata": {},
   "source": [
    "#### Check if a number is prime number or not\n",
    "\n",
    "*A prime number is a natural number that is only divisible by 1 and by itself. Examples 1 2 3 5 7 11 13 17 19\n",
    "\n",
    "Example 1:<br>\n",
    "Input: N = 3<br>\n",
    "Output: Prime<br>\n",
    "Explanation: 3 is a prime number\n",
    "\n",
    "Example 2:<br>\n",
    "Input: N = 26<br>\n",
    "Output: Non-Prime<br>\n",
    "Explanation: 26 is not prime"
   ]
  },
  {
   "cell_type": "code",
   "execution_count": 1,
   "id": "c8f6ac70",
   "metadata": {},
   "outputs": [],
   "source": [
    "import math\n",
    "\n",
    "def isPrime(n):\n",
    "    for i in range(2,math.floor(math.sqrt(n))+1):\n",
    "        if n%i==0:\n",
    "            return \"Non-Prime\"\n",
    "    return \"Prime\""
   ]
  },
  {
   "cell_type": "code",
   "execution_count": 2,
   "id": "b5545f26",
   "metadata": {},
   "outputs": [
    {
     "data": {
      "text/plain": [
       "'Prime'"
      ]
     },
     "execution_count": 2,
     "metadata": {},
     "output_type": "execute_result"
    }
   ],
   "source": [
    "isPrime(3)"
   ]
  },
  {
   "cell_type": "code",
   "execution_count": 3,
   "id": "cfe9fa61",
   "metadata": {},
   "outputs": [
    {
     "data": {
      "text/plain": [
       "'Non-Prime'"
      ]
     },
     "execution_count": 3,
     "metadata": {},
     "output_type": "execute_result"
    }
   ],
   "source": [
    "isPrime(26)"
   ]
  },
  {
   "cell_type": "code",
   "execution_count": null,
   "id": "cb985ebe",
   "metadata": {},
   "outputs": [],
   "source": []
  }
 ],
 "metadata": {
  "kernelspec": {
   "display_name": "Python 3",
   "language": "python",
   "name": "python3"
  },
  "language_info": {
   "codemirror_mode": {
    "name": "ipython",
    "version": 3
   },
   "file_extension": ".py",
   "mimetype": "text/x-python",
   "name": "python",
   "nbconvert_exporter": "python",
   "pygments_lexer": "ipython3",
   "version": "3.8.8"
  }
 },
 "nbformat": 4,
 "nbformat_minor": 5
}
