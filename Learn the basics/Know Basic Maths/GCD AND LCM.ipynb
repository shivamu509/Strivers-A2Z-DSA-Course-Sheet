{
 "cells": [
  {
   "cell_type": "markdown",
   "id": "b0bf07d4",
   "metadata": {},
   "source": [
    "#### Given two numbers A and B. The task is to find out their LCM and GCD.\n",
    "\n",
    "Input:<br>\n",
    "A = 5 , B = 10<br>\n",
    "Output:<br>\n",
    "10 5<br>\n",
    "Explanation:<br>\n",
    "LCM of 5 and 10 is 10, while thier GCD is 5.<br>\n",
    "\n",
    "Input:<br>\n",
    "A = 14 , B = 8<br>\n",
    "Output:<br>\n",
    "56 2<br>\n",
    "Explanation:<br>\n",
    "LCM of 14 and 8 is 56, while thier GCD is 2."
   ]
  },
  {
   "cell_type": "code",
   "execution_count": null,
   "id": "45b0ac99",
   "metadata": {},
   "outputs": [],
   "source": []
  },
  {
   "cell_type": "code",
   "execution_count": 5,
   "id": "058ce36f",
   "metadata": {},
   "outputs": [],
   "source": [
    "#TC: O(log(min(A, B))\n",
    "#SC: O(1)\n",
    "def lcmAndGcd(A , B):\n",
    "    def gcd(a,b):\n",
    "        if b==0:\n",
    "            return a\n",
    "        return gcd(b,a%b)\n",
    "    ans = gcd(A,B)\n",
    "    return [(A*B)//ans,ans]"
   ]
  },
  {
   "cell_type": "code",
   "execution_count": 7,
   "id": "9f7e467e",
   "metadata": {},
   "outputs": [
    {
     "name": "stdout",
     "output_type": "stream",
     "text": [
      "56 2\n"
     ]
    }
   ],
   "source": [
    "ans =lcmAndGcd(14,8)\n",
    "print(ans[0],ans[1])"
   ]
  },
  {
   "cell_type": "code",
   "execution_count": null,
   "id": "dcd430eb",
   "metadata": {},
   "outputs": [],
   "source": []
  },
  {
   "cell_type": "code",
   "execution_count": 11,
   "id": "f15effb0",
   "metadata": {},
   "outputs": [],
   "source": [
    "#Brute force\n",
    "#Time Complexity: O(N).\n",
    "#Space Complexity: O(1).\n",
    "\n",
    "def lcmAndGcd(A,B):\n",
    "    ans = 1\n",
    "    for i in range(2,min(A,B)+1):\n",
    "        if A%i==0 and B%i==0:\n",
    "            ans = i\n",
    "    return [(A*B)//ans,ans]"
   ]
  },
  {
   "cell_type": "code",
   "execution_count": 12,
   "id": "6c4e1df3",
   "metadata": {},
   "outputs": [
    {
     "name": "stdout",
     "output_type": "stream",
     "text": [
      "10 5\n"
     ]
    }
   ],
   "source": [
    "ans = lcmAndGcd(5,10)\n",
    "print(ans[0],ans[1])"
   ]
  },
  {
   "cell_type": "code",
   "execution_count": null,
   "id": "e893f207",
   "metadata": {},
   "outputs": [],
   "source": []
  }
 ],
 "metadata": {
  "kernelspec": {
   "display_name": "Python 3",
   "language": "python",
   "name": "python3"
  },
  "language_info": {
   "codemirror_mode": {
    "name": "ipython",
    "version": 3
   },
   "file_extension": ".py",
   "mimetype": "text/x-python",
   "name": "python",
   "nbconvert_exporter": "python",
   "pygments_lexer": "ipython3",
   "version": "3.8.8"
  }
 },
 "nbformat": 4,
 "nbformat_minor": 5
}
