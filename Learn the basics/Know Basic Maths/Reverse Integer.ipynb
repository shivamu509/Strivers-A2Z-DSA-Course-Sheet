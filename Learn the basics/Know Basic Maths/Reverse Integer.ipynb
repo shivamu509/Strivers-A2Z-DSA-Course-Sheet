{
 "cells": [
  {
   "cell_type": "markdown",
   "id": "f67e8851",
   "metadata": {},
   "source": [
    "#### Leetcode(7. Reverse Integer)\n",
    "\n",
    "Given a signed 32-bit integer x, return x with its digits reversed. If reversing x causes the value to go outside the signed 32-bit integer range [-231, 231 - 1], then return 0.\n",
    "\n",
    "##### Assume the environment does not allow you to store 64-bit integers (signed or unsigned).\n",
    "\n",
    " \n",
    "\n",
    "Example 1:\n",
    "\n",
    "Input: x = 123<br>\n",
    "Output: 321<br>\n",
    "Example 2:<br>\n",
    "\n",
    "Input: x = -123<br>\n",
    "Output: -321<br>"
   ]
  },
  {
   "cell_type": "code",
   "execution_count": 1,
   "id": "3fabb53e",
   "metadata": {},
   "outputs": [],
   "source": [
    "#My approach\n",
    "#TC: O(N)\n",
    "#SC: 0(1)\n",
    "def reverse(x):\n",
    "    if x<0:\n",
    "        x *= -1\n",
    "        t=0\n",
    "        while x>=1:\n",
    "            t = t*10+x%10\n",
    "            x //= 10\n",
    "        t *= -1\n",
    "        return t if t>-2**31 else 0\n",
    "    else:\n",
    "        t=0\n",
    "        while x>=1:\n",
    "            t = t*10+x%10\n",
    "            x //= 10\n",
    "        return t if t<(2**31)-1 else 0"
   ]
  },
  {
   "cell_type": "code",
   "execution_count": 2,
   "id": "ecf2304f",
   "metadata": {},
   "outputs": [
    {
     "data": {
      "text/plain": [
       "-321"
      ]
     },
     "execution_count": 2,
     "metadata": {},
     "output_type": "execute_result"
    }
   ],
   "source": [
    "reverse(-123)"
   ]
  },
  {
   "cell_type": "code",
   "execution_count": 3,
   "id": "2f5e893f",
   "metadata": {},
   "outputs": [
    {
     "data": {
      "text/plain": [
       "0"
      ]
     },
     "execution_count": 3,
     "metadata": {},
     "output_type": "execute_result"
    }
   ],
   "source": [
    "reverse(1534236469)"
   ]
  },
  {
   "cell_type": "code",
   "execution_count": null,
   "id": "dd896593",
   "metadata": {},
   "outputs": [],
   "source": []
  },
  {
   "cell_type": "code",
   "execution_count": null,
   "id": "b9adb509",
   "metadata": {},
   "outputs": [],
   "source": []
  },
  {
   "cell_type": "code",
   "execution_count": 6,
   "id": "4c173653",
   "metadata": {},
   "outputs": [],
   "source": [
    "#Other's best approach\n",
    "#TC: O(N)\n",
    "#SC: O(1)\n",
    "def reverse(x):\n",
    "    sign = 1\n",
    "    if x < 0:\n",
    "        sign = -1\n",
    "        x *= -1\n",
    "\n",
    "    x = int(str(x)[::-1])\n",
    "    if x > 2**31-1 or x < 2**31 * -1:\n",
    "        return 0\n",
    "    return sign * x"
   ]
  },
  {
   "cell_type": "code",
   "execution_count": 7,
   "id": "622940ae",
   "metadata": {},
   "outputs": [
    {
     "data": {
      "text/plain": [
       "-321"
      ]
     },
     "execution_count": 7,
     "metadata": {},
     "output_type": "execute_result"
    }
   ],
   "source": [
    "reverse(-123)"
   ]
  },
  {
   "cell_type": "code",
   "execution_count": null,
   "id": "a5ea5b32",
   "metadata": {},
   "outputs": [],
   "source": []
  }
 ],
 "metadata": {
  "kernelspec": {
   "display_name": "Python 3",
   "language": "python",
   "name": "python3"
  },
  "language_info": {
   "codemirror_mode": {
    "name": "ipython",
    "version": 3
   },
   "file_extension": ".py",
   "mimetype": "text/x-python",
   "name": "python",
   "nbconvert_exporter": "python",
   "pygments_lexer": "ipython3",
   "version": "3.8.8"
  }
 },
 "nbformat": 4,
 "nbformat_minor": 5
}
