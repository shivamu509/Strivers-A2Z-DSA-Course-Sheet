{
 "cells": [
  {
   "cell_type": "markdown",
   "id": "383803bb",
   "metadata": {},
   "source": [
    "Example:\n",
    "\n",
    "Input<br>\n",
    "recursion<br>\n",
    "4\n",
    "\n",
    "Output<br>\n",
    "recursion<br>\n",
    "recursion<br>\n",
    "recursion<br>\n",
    "recursion"
   ]
  },
  {
   "cell_type": "code",
   "execution_count": null,
   "id": "9db8b688",
   "metadata": {},
   "outputs": [],
   "source": []
  },
  {
   "cell_type": "code",
   "execution_count": 1,
   "id": "3d39e075",
   "metadata": {},
   "outputs": [],
   "source": [
    "#TC: O(N)\n",
    "#SC: O(N) (Stack space)\n",
    "\n",
    "def print_name(name,n):\n",
    "    if n==0:\n",
    "        return\n",
    "    print(name)\n",
    "    print_name(name,n-1)"
   ]
  },
  {
   "cell_type": "code",
   "execution_count": 2,
   "id": "ac78f5f2",
   "metadata": {},
   "outputs": [
    {
     "name": "stdout",
     "output_type": "stream",
     "text": [
      "recursion\n",
      "recursion\n",
      "recursion\n",
      "recursion\n"
     ]
    }
   ],
   "source": [
    "print_name(\"recursion\", 4)"
   ]
  },
  {
   "cell_type": "code",
   "execution_count": null,
   "id": "59d8e1bb",
   "metadata": {},
   "outputs": [],
   "source": []
  }
 ],
 "metadata": {
  "kernelspec": {
   "display_name": "Python 3",
   "language": "python",
   "name": "python3"
  },
  "language_info": {
   "codemirror_mode": {
    "name": "ipython",
    "version": 3
   },
   "file_extension": ".py",
   "mimetype": "text/x-python",
   "name": "python",
   "nbconvert_exporter": "python",
   "pygments_lexer": "ipython3",
   "version": "3.8.8"
  }
 },
 "nbformat": 4,
 "nbformat_minor": 5
}
