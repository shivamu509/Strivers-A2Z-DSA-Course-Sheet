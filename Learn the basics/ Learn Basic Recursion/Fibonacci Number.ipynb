{
 "cells": [
  {
   "cell_type": "markdown",
   "id": "d8ad1d85",
   "metadata": {},
   "source": [
    "#### Given an integer N. Print the Fibonacci series up to the Nth term.\n",
    "\n",
    "The Fibonacci numbers, commonly denoted F(n) form a sequence, called the Fibonacci sequence, such that each number is the sum of the two preceding ones, starting from 0 and 1. That is,\n",
    "\n",
    "F(0) = 0, F(1) = 1<br>\n",
    "F(n) = F(n - 1) + F(n - 2), for n > 1.<br>\n",
    "\n",
    "Input:<br> \n",
    "N = 5<br>\n",
    "Output: 0 1 1 2 3 5<br>\n",
    "Explanation: 0 1 1 2 3 5 is the fibonacci series up to 5th term.(0 based indexing)<br>"
   ]
  },
  {
   "cell_type": "code",
   "execution_count": null,
   "id": "140ea360",
   "metadata": {},
   "outputs": [],
   "source": []
  },
  {
   "cell_type": "code",
   "execution_count": 13,
   "id": "bcd45aa3",
   "metadata": {},
   "outputs": [],
   "source": [
    "def ans(n):\n",
    "    def helper(a,b,n):\n",
    "        if b>=n:\n",
    "            return\n",
    "        print(a+b,end=\" \")\n",
    "        helper(b,a+b,n)\n",
    "        \n",
    "    if n>=0:\n",
    "        print(0,end=\" \")\n",
    "    if n>=1:\n",
    "        print(1,end=\" \")\n",
    "    helper(0,1,n)"
   ]
  },
  {
   "cell_type": "code",
   "execution_count": 14,
   "id": "c3ab24b5",
   "metadata": {},
   "outputs": [
    {
     "name": "stdout",
     "output_type": "stream",
     "text": [
      "0 1 1 2 3 5 "
     ]
    }
   ],
   "source": [
    "ans(5)"
   ]
  },
  {
   "cell_type": "code",
   "execution_count": null,
   "id": "27eac9e9",
   "metadata": {},
   "outputs": [],
   "source": []
  },
  {
   "cell_type": "code",
   "execution_count": null,
   "id": "225be7dd",
   "metadata": {},
   "outputs": [],
   "source": []
  },
  {
   "cell_type": "code",
   "execution_count": null,
   "id": "841912e9",
   "metadata": {},
   "outputs": [],
   "source": []
  }
 ],
 "metadata": {
  "kernelspec": {
   "display_name": "Python 3",
   "language": "python",
   "name": "python3"
  },
  "language_info": {
   "codemirror_mode": {
    "name": "ipython",
    "version": 3
   },
   "file_extension": ".py",
   "mimetype": "text/x-python",
   "name": "python",
   "nbconvert_exporter": "python",
   "pygments_lexer": "ipython3",
   "version": "3.8.8"
  }
 },
 "nbformat": 4,
 "nbformat_minor": 5
}
