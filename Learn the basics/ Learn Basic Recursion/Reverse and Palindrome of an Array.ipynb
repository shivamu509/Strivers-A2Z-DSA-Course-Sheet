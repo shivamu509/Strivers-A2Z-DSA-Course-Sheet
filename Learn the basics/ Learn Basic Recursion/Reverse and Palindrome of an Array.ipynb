{
 "cells": [
  {
   "cell_type": "markdown",
   "id": "4f43f477",
   "metadata": {},
   "source": [
    "#### Given an array A of size N, print the reverse of it.\n",
    "\n",
    "Example:\n",
    "\n",
    "Input:<br>\n",
    "1<br>\n",
    "4<br>\n",
    "1 2 3 4<br>\n",
    "Output:<br>\n",
    "4 3 2 1"
   ]
  },
  {
   "cell_type": "code",
   "execution_count": null,
   "id": "1d395c8a",
   "metadata": {},
   "outputs": [],
   "source": []
  },
  {
   "cell_type": "code",
   "execution_count": 1,
   "id": "5966c317",
   "metadata": {},
   "outputs": [
    {
     "name": "stdout",
     "output_type": "stream",
     "text": [
      "1\n",
      "4\n",
      "1 2 3 4\n",
      "4 3 2 1 \n"
     ]
    }
   ],
   "source": [
    "#TC: O(N)\n",
    "#SC: O(N) (STACK SPACE)\n",
    "\n",
    "for _ in range(int(input())):\n",
    "    n = int(input())\n",
    "    arr = list(map(int,input().split()))\n",
    "    \n",
    "    def ans(arr,n):\n",
    "        if n<0:\n",
    "            return\n",
    "        print(arr[n],end=\" \")\n",
    "        ans(arr,n-1)\n",
    "    \n",
    "    ans(arr,n-1)\n",
    "    print()"
   ]
  },
  {
   "cell_type": "code",
   "execution_count": null,
   "id": "9e9a0ee9",
   "metadata": {},
   "outputs": [],
   "source": []
  },
  {
   "cell_type": "markdown",
   "id": "9504a466",
   "metadata": {},
   "source": [
    "#### Given a string S, check if it is palindrome or not.\n",
    "\n",
    "Example 1:\n",
    "\n",
    "Input: S = \"abba\"<br>\n",
    "Output: 1<br>\n",
    "Explanation: S is a palindrome\n",
    "\n",
    "Example 2:\n",
    "\n",
    "Input: S = \"abc\" <br>\n",
    "Output: 0<br>\n",
    "Explanation: S is not a palindrome"
   ]
  },
  {
   "cell_type": "code",
   "execution_count": 2,
   "id": "9b5ed935",
   "metadata": {},
   "outputs": [],
   "source": [
    "def isPalindrome(S):\n",
    "    # code here\n",
    "    n = len(S)\n",
    "    def ans(s,n,i):\n",
    "        if i>n//2:\n",
    "            return 1\n",
    "        if s[i]!=s[n-i-1]:\n",
    "            return 0\n",
    "        return ans(s,n,i+1)\n",
    "\n",
    "    return ans(S,n,0)"
   ]
  },
  {
   "cell_type": "code",
   "execution_count": 3,
   "id": "5ca701e9",
   "metadata": {},
   "outputs": [
    {
     "name": "stdout",
     "output_type": "stream",
     "text": [
      "abba\n"
     ]
    },
    {
     "data": {
      "text/plain": [
       "1"
      ]
     },
     "execution_count": 3,
     "metadata": {},
     "output_type": "execute_result"
    }
   ],
   "source": [
    "isPalindrome(input())"
   ]
  },
  {
   "cell_type": "code",
   "execution_count": 4,
   "id": "8463c772",
   "metadata": {},
   "outputs": [
    {
     "name": "stdout",
     "output_type": "stream",
     "text": [
      "abc\n"
     ]
    },
    {
     "data": {
      "text/plain": [
       "0"
      ]
     },
     "execution_count": 4,
     "metadata": {},
     "output_type": "execute_result"
    }
   ],
   "source": [
    "isPalindrome(input())"
   ]
  },
  {
   "cell_type": "code",
   "execution_count": null,
   "id": "507d162a",
   "metadata": {},
   "outputs": [],
   "source": []
  }
 ],
 "metadata": {
  "kernelspec": {
   "display_name": "Python 3",
   "language": "python",
   "name": "python3"
  },
  "language_info": {
   "codemirror_mode": {
    "name": "ipython",
    "version": 3
   },
   "file_extension": ".py",
   "mimetype": "text/x-python",
   "name": "python",
   "nbconvert_exporter": "python",
   "pygments_lexer": "ipython3",
   "version": "3.8.8"
  }
 },
 "nbformat": 4,
 "nbformat_minor": 5
}
