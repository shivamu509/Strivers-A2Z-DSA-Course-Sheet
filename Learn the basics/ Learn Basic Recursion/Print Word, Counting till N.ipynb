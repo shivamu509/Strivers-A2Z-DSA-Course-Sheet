{
 "cells": [
  {
   "cell_type": "markdown",
   "id": "383803bb",
   "metadata": {},
   "source": [
    "#### Q1 Program to print \"Hello World\" N times without using loops\n",
    "\n",
    "Example:\n",
    "\n",
    "Input<br>\n",
    "Hello World<br>\n",
    "4\n",
    "\n",
    "Output<br>\n",
    "Hello World<br>\n",
    "Hello World<br>\n",
    "Hello World<br>\n",
    "Hello World"
   ]
  },
  {
   "cell_type": "code",
   "execution_count": null,
   "id": "9db8b688",
   "metadata": {},
   "outputs": [],
   "source": []
  },
  {
   "cell_type": "code",
   "execution_count": 1,
   "id": "3d39e075",
   "metadata": {},
   "outputs": [],
   "source": [
    "#TC: O(N)\n",
    "#SC: O(N) (Stack space)\n",
    "\n",
    "def print_name(name,n):\n",
    "    if n==0:\n",
    "        return\n",
    "    print(name)\n",
    "    print_name(name,n-1)"
   ]
  },
  {
   "cell_type": "code",
   "execution_count": 2,
   "id": "ac78f5f2",
   "metadata": {},
   "outputs": [
    {
     "name": "stdout",
     "output_type": "stream",
     "text": [
      "Hello World\n",
      "Hello World\n",
      "Hello World\n",
      "Hello World\n"
     ]
    }
   ],
   "source": [
    "print_name(\"Hello World\", 4)"
   ]
  },
  {
   "cell_type": "code",
   "execution_count": null,
   "id": "59d8e1bb",
   "metadata": {},
   "outputs": [],
   "source": []
  },
  {
   "cell_type": "markdown",
   "id": "f5047721",
   "metadata": {},
   "source": [
    "#### Q2. Write a program to print 1 to N without loop\n",
    "\n",
    "Example:\n",
    "\n",
    "Input<br>\n",
    "4\n",
    "\n",
    "Output<br>\n",
    "1 2 3 4"
   ]
  },
  {
   "cell_type": "code",
   "execution_count": 7,
   "id": "a186a002",
   "metadata": {},
   "outputs": [],
   "source": [
    "#TC: O(N)\n",
    "#SC: O(N) (Stack space)\n",
    "\n",
    "def printNos(N):\n",
    "    if N<1:\n",
    "        return\n",
    "    \n",
    "    printNos(N-1)\n",
    "    \n",
    "    print(N,end=\" \")"
   ]
  },
  {
   "cell_type": "code",
   "execution_count": 8,
   "id": "d467ca6c",
   "metadata": {},
   "outputs": [
    {
     "name": "stdout",
     "output_type": "stream",
     "text": [
      "1 2 3 4 "
     ]
    }
   ],
   "source": [
    "printNos(4)"
   ]
  },
  {
   "cell_type": "code",
   "execution_count": null,
   "id": "72fccf54",
   "metadata": {},
   "outputs": [],
   "source": []
  },
  {
   "cell_type": "markdown",
   "id": "b91f71bc",
   "metadata": {},
   "source": [
    "#### Q3. Write a program to print N to 1\n",
    "\n",
    "Example:\n",
    "\n",
    "Input<br>\n",
    "4\n",
    "\n",
    "Output<br>\n",
    "4 3 2 1"
   ]
  },
  {
   "cell_type": "code",
   "execution_count": 13,
   "id": "2896e665",
   "metadata": {},
   "outputs": [],
   "source": [
    "#TC: O(N)\n",
    "#SC: O(N) (Stack space)\n",
    "\n",
    "def printNos(N):\n",
    "    if N<1:\n",
    "        return\n",
    "    \n",
    "    print(N,end=\" \")\n",
    "    \n",
    "    printNos(N-1)"
   ]
  },
  {
   "cell_type": "code",
   "execution_count": 14,
   "id": "efd9e324",
   "metadata": {},
   "outputs": [
    {
     "name": "stdout",
     "output_type": "stream",
     "text": [
      "4 3 2 1 "
     ]
    }
   ],
   "source": [
    "printNos(4)"
   ]
  },
  {
   "cell_type": "code",
   "execution_count": null,
   "id": "c5ba2b6e",
   "metadata": {},
   "outputs": [],
   "source": []
  }
 ],
 "metadata": {
  "kernelspec": {
   "display_name": "Python 3",
   "language": "python",
   "name": "python3"
  },
  "language_info": {
   "codemirror_mode": {
    "name": "ipython",
    "version": 3
   },
   "file_extension": ".py",
   "mimetype": "text/x-python",
   "name": "python",
   "nbconvert_exporter": "python",
   "pygments_lexer": "ipython3",
   "version": "3.8.8"
  }
 },
 "nbformat": 4,
 "nbformat_minor": 5
}
