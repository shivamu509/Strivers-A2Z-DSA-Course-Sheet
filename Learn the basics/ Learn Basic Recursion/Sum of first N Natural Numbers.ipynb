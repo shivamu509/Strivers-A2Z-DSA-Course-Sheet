{
 "cells": [
  {
   "cell_type": "markdown",
   "id": "516556e7",
   "metadata": {},
   "source": [
    "#### Problem statement: Given a number ‘N’, find out the sum of the first N natural numbers.\n",
    "\n",
    "Examples:\n",
    "\n",
    "Example 1:<br>\n",
    "Input: N=5<br>\n",
    "Output: 15<br>\n",
    "Explanation: 1+2+3+4+5=15\n",
    "\n",
    "Example 2:<br>\n",
    "Input: N=6<br>\n",
    "Output: 21<br>\n",
    "Explanation: 1+2+3+4+5+6=21"
   ]
  },
  {
   "cell_type": "code",
   "execution_count": 1,
   "id": "8ed611bd",
   "metadata": {},
   "outputs": [],
   "source": [
    "#TC: O(N)\n",
    "#SC: O(N) (STACK SPACE)\n",
    "\n",
    "def num(n):\n",
    "    if n<1:\n",
    "        return 0\n",
    "    return num(n-1)+n"
   ]
  },
  {
   "cell_type": "code",
   "execution_count": 3,
   "id": "fb379d80",
   "metadata": {},
   "outputs": [
    {
     "data": {
      "text/plain": [
       "21"
      ]
     },
     "execution_count": 3,
     "metadata": {},
     "output_type": "execute_result"
    }
   ],
   "source": [
    "num(6)"
   ]
  },
  {
   "cell_type": "code",
   "execution_count": null,
   "id": "0b681b41",
   "metadata": {},
   "outputs": [],
   "source": []
  }
 ],
 "metadata": {
  "kernelspec": {
   "display_name": "Python 3",
   "language": "python",
   "name": "python3"
  },
  "language_info": {
   "codemirror_mode": {
    "name": "ipython",
    "version": 3
   },
   "file_extension": ".py",
   "mimetype": "text/x-python",
   "name": "python",
   "nbconvert_exporter": "python",
   "pygments_lexer": "ipython3",
   "version": "3.8.8"
  }
 },
 "nbformat": 4,
 "nbformat_minor": 5
}
