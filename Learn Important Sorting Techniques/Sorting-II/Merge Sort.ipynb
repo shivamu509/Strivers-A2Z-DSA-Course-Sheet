{
 "cells": [
  {
   "cell_type": "markdown",
   "id": "7208e4f7",
   "metadata": {},
   "source": [
    "## Problem:  Given an array of size n, sort the array using Merge Sort.\n",
    "\n",
    "Examples:\n",
    "\n",
    "Example 1:<br>\n",
    "Input: N=5, arr[ ]=[4,2,1,6,7]<br>\n",
    "Output: 1,2,4,6,7,<br>"
   ]
  },
  {
   "cell_type": "code",
   "execution_count": null,
   "id": "e0158758",
   "metadata": {},
   "outputs": [],
   "source": []
  },
  {
   "cell_type": "markdown",
   "id": "6ec3d4df",
   "metadata": {},
   "source": [
    "<img src=\"https://imgs.search.brave.com/YvjmFxFxFHYI9F-UZtxbnte5Jh9K1UZebZ-6BKuammo/rs:fit:1200:630:1/g:ce/aHR0cHM6Ly80LmJw/LmJsb2dzcG90LmNv/bS8tazV3Z1M0bHdN/clUvV3B0cHNfbHlW/V0kvQUFBQUFBQUFL/NzAvbUZDNkNKeEla/Zm90WHV1M1ZpQzh5/X2NMMUFuSEItdi1n/Q0xjQkdBcy93MTIw/MC1oNjMwLXAtay1u/by1udS9ob3clMkJt/ZXJnZSUyQnNvcnQl/MkJhbGdvcml0aG0l/MkJ3b3JrcyUyQmlu/JTJCSmF2YS5wbmc\">"
   ]
  },
  {
   "cell_type": "code",
   "execution_count": null,
   "id": "106f4105",
   "metadata": {},
   "outputs": [],
   "source": []
  },
  {
   "cell_type": "markdown",
   "id": "24b688b9",
   "metadata": {},
   "source": [
    "### Intuition: \n",
    "\n",
    "-> Merge Sort is a divide and conquers algorithm, it divides the given array into equal parts and then merges the 2 sorted parts. \n",
    "\n",
    "-> There are 2 main functions : \n",
    "\n",
    "Merge() : This function is used to merge the 2 halves of the array . It assumes that both part of the array are sorted and merges both of them\n",
    "\n",
    "MergeSort() : This function divides the array into 2 parts . L to Miid and Mid+1 to R where,\n",
    "\n",
    "  L = leftmost index of array\n",
    "\n",
    "  R = rightmost index of array\n",
    "\n",
    "  Mid = Middle index of array \n",
    "\n",
    "-> We recursively split the array, go from top-down until all sub-arrays size becomes 1"
   ]
  },
  {
   "cell_type": "code",
   "execution_count": null,
   "id": "6c5adbc3",
   "metadata": {},
   "outputs": [],
   "source": []
  },
  {
   "cell_type": "markdown",
   "id": "6e9db92f",
   "metadata": {},
   "source": [
    "### Approach : \n",
    "\n",
    "-> We will be creating 2 functions mergeSort() and merge()\n",
    "\n",
    "-> In mergeSort(), we will divide the array around the middle element by making the recursive call :\n",
    "\n",
    "1.mergeSort(arr,l,mid)   2. mergeSort(arr,mid+1,r)    \n",
    "\n",
    "where l = leftmost index of array, r = rightmost index of array , mid = middle index of array\n",
    "\n",
    "-> In merge(),  we will use a temporary array named temp. This will be used to store elements in sorted order from both the arrays which we divided.\n",
    "\n",
    "->From the temporary array, we will return back the elements in the original array.\n",
    "\n",
    "-> Now , let   i = leftmost index of array, j = mid+1 index of array , f = leftmost index of array ( this index will be used to store elements in the original array ) \n",
    "\n",
    "-> While i<= mid && j <= r , we will store elements from both the parts in temporary array in sorted manner \n",
    "\n",
    "-> Finally will transfer all elements from the temporary array to the original array."
   ]
  },
  {
   "cell_type": "code",
   "execution_count": null,
   "id": "fce8ccd6",
   "metadata": {},
   "outputs": [],
   "source": []
  },
  {
   "cell_type": "markdown",
   "id": "9eab347f",
   "metadata": {},
   "source": [
    "### Time complexity: O(nlogn) \n",
    "\n",
    "Reason: At each step, we divide the whole array, for that logn and we assume n steps are taken to get sorted array, so overall time complexity will be nlogn\n",
    "\n",
    "### Space complexity: O(n)  \n",
    "\n",
    "Reason: We are using a temporary array to store elements in sorted order.\n",
    "\n",
    "### Auxiliary Space Complexity: O(n)"
   ]
  },
  {
   "cell_type": "code",
   "execution_count": null,
   "id": "663ccc8a",
   "metadata": {},
   "outputs": [],
   "source": []
  },
  {
   "cell_type": "markdown",
   "id": "b0612b18",
   "metadata": {},
   "source": [
    "##### P.S: approach is taken from <a href=\"https://takeuforward.org/data-structure/merge-sort-algorithm/\">Here</a>"
   ]
  },
  {
   "cell_type": "code",
   "execution_count": null,
   "id": "695eeab7",
   "metadata": {},
   "outputs": [],
   "source": []
  },
  {
   "cell_type": "markdown",
   "id": "8ceee983",
   "metadata": {},
   "source": [
    "### Code"
   ]
  },
  {
   "cell_type": "code",
   "execution_count": 36,
   "id": "5a2f5aa6",
   "metadata": {},
   "outputs": [],
   "source": [
    "def merge(arr,l,m,r): #used for joining array in sorted order\n",
    "    i = l\n",
    "    j = m+1\n",
    "    temp = []\n",
    "    while i<m+1 and j<=r:\n",
    "        if arr[i]<arr[j]:\n",
    "            temp.append(arr[i])\n",
    "            i+=1\n",
    "        else:\n",
    "            temp.append(arr[j])\n",
    "            j+=1\n",
    "    while i<m+1:\n",
    "        temp.append(arr[i])\n",
    "        i+=1\n",
    "    while j<=r:\n",
    "        temp.append(arr[j])\n",
    "        j+=1    \n",
    "    for i in temp:\n",
    "        arr[l]=i\n",
    "        l+=1\n",
    "    print('sorted subarray:-',temp)\n",
    "    \n",
    "def mergeSort(arr,l,r): #used for dividing arrray\n",
    "    if l>=r:\n",
    "        return\n",
    "    m = (l+r)//2\n",
    "    mergeSort(arr,l,m)\n",
    "    mergeSort(arr,m+1,r)\n",
    "    merge(arr,l,m,r)"
   ]
  },
  {
   "cell_type": "code",
   "execution_count": 37,
   "id": "5d186edb",
   "metadata": {},
   "outputs": [
    {
     "name": "stdout",
     "output_type": "stream",
     "text": [
      "sorted subarray:- [27, 38]\n",
      "sorted subarray:- [3, 43]\n",
      "sorted subarray:- [3, 27, 38, 43]\n",
      "sorted subarray:- [9, 82]\n",
      "sorted subarray:- [9, 10, 82]\n",
      "sorted subarray:- [3, 9, 10, 27, 38, 43, 82]\n",
      "[3, 9, 10, 27, 38, 43, 82]\n"
     ]
    }
   ],
   "source": [
    "arr=[38,27,43,3,9,82,10]\n",
    "n = len(arr)\n",
    "mergeSort(arr,0,n-1)\n",
    "print(arr)"
   ]
  },
  {
   "cell_type": "code",
   "execution_count": null,
   "id": "e4ca4b49",
   "metadata": {},
   "outputs": [],
   "source": []
  }
 ],
 "metadata": {
  "kernelspec": {
   "display_name": "Python 3",
   "language": "python",
   "name": "python3"
  },
  "language_info": {
   "codemirror_mode": {
    "name": "ipython",
    "version": 3
   },
   "file_extension": ".py",
   "mimetype": "text/x-python",
   "name": "python",
   "nbconvert_exporter": "python",
   "pygments_lexer": "ipython3",
   "version": "3.8.8"
  }
 },
 "nbformat": 4,
 "nbformat_minor": 5
}
