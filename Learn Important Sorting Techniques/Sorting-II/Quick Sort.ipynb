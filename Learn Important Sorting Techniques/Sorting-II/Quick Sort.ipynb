{
 "cells": [
  {
   "cell_type": "markdown",
   "id": "29eb620e",
   "metadata": {},
   "source": [
    "### Problem Statement:  Given an array of n integers, sort the array using the Quicksort method.\n",
    "\n",
    "Examples:\n",
    "\n",
    "Example 1:<br>\n",
    "Input:  N = 5  , Arr[ ] = [4,1,7,9,3]<br>\n",
    "Output: 1 3 4 7 9 \n"
   ]
  },
  {
   "cell_type": "code",
   "execution_count": null,
   "id": "e1123163",
   "metadata": {},
   "outputs": [],
   "source": []
  },
  {
   "cell_type": "markdown",
   "id": "0c322f4b",
   "metadata": {},
   "source": [
    "## How Quick Sort Works\n",
    "\n",
    "<img src=\"https://imgs.search.brave.com/bpBF47mk1PwKw3PCwd3YrgI4dCuhp8mkY3xTOco5aJM/rs:fit:577:410:1/g:ce/aHR0cHM6Ly9qb3lj/ZWtpbGxpYW4uY29t/L2ltYWdlcy8yYTkw/MWIzZTlhNjkxMThm/ZmEwMmUzOTYyZjlk/Yjg3ZS5qcGc\">"
   ]
  },
  {
   "cell_type": "code",
   "execution_count": null,
   "id": "53c8d684",
   "metadata": {},
   "outputs": [],
   "source": []
  },
  {
   "cell_type": "markdown",
   "id": "54a259ae",
   "metadata": {},
   "source": [
    "## Intuition: \n",
    "\n",
    "-> First let’s understand what <b>Quicksort</b> is. It is a <b>divide and conquer algorithm</b> which can be used to sort an array of elements. An element is chosen ( namely as the <b>pivot</b> ) and the partition of the array is done to the left and the right of the pivot.\n",
    "\n",
    "-> Pivot can be chosen in 4 different ways : \n",
    "\n",
    "1. Median of Array<br>\n",
    "2. First element of the Array<br>\n",
    "3. Last element of the Array<br>\n",
    "4. Any Random element of the Array\n",
    "\n",
    "-> The Main process of Quicksort is Partition. Once we decide on our pivot, we will put all values smaller than or equal to pivot in the left half and all the values greater than pivot in the right half of the pivot.\n",
    "\n",
    "-> This means the pivot will be at its final sorted position after this process ends. Now we will recursively call to the left and right of the pivot so that the rest of the array also gets sorted. \n",
    "\n",
    "-> The main intention of this process is to place the pivot at its final position, this is the position where the pivot will be in the final sorted array."
   ]
  },
  {
   "cell_type": "code",
   "execution_count": null,
   "id": "9dcb194c",
   "metadata": {},
   "outputs": [],
   "source": []
  },
  {
   "cell_type": "markdown",
   "id": "57ef6069",
   "metadata": {},
   "source": [
    "### Approach : \n",
    "\n",
    "-> We will be using 2 pointers namely <b>i, j</b>. Initializing i at index 0 and j at index n-1 ( if the length of the array is n ).\n",
    "\n",
    "-> We will swap arr[ i ] and arr[ j ] if  arr[ i ] > pivot  and arr[ j ] < pivot  and will increment i and decrement j . This goes on until i < j . \n",
    "\n",
    "-> Finally when i > j, we will stop swapping arr[ i ] and arr[ j ] and swap pivot with arr[ j ] so that pivot gets its final position.\n",
    "\n",
    "-> We will now recursively repeat this process in the left and right of the pivot so that we get our final sorted array."
   ]
  },
  {
   "cell_type": "code",
   "execution_count": null,
   "id": "6306fdb9",
   "metadata": {},
   "outputs": [],
   "source": []
  },
  {
   "cell_type": "code",
   "execution_count": 11,
   "id": "9a057332",
   "metadata": {},
   "outputs": [],
   "source": [
    "#Assuming pivot at end\n",
    "\n",
    "def quickSort(arr,low,high):\n",
    "    if low >= high:\n",
    "        return\n",
    "    pivot = high\n",
    "    i, j = low, low\n",
    "    while j != pivot:\n",
    "        if arr[j] < arr[pivot]:\n",
    "            arr[i], arr[j]=arr[j], arr[i]\n",
    "            i+=1\n",
    "        j+=1\n",
    "\n",
    "    arr[i], arr[pivot] = arr[pivot], arr[i]\n",
    "    print('pivot element and array' , arr,arr[i])\n",
    "    quickSort(arr,low,i-1)\n",
    "    quickSort(arr,i+1,high)"
   ]
  },
  {
   "cell_type": "code",
   "execution_count": 12,
   "id": "5c52acac",
   "metadata": {},
   "outputs": [
    {
     "name": "stdout",
     "output_type": "stream",
     "text": [
      "Starting array:  [9, -3, 5, 2, 6, 8, -6, 1, 3]\n",
      "pivot element and array [-3, 2, -6, 1, 3, 8, 5, 9, 6] 3\n",
      "pivot element and array [-3, -6, 1, 2, 3, 8, 5, 9, 6] 1\n",
      "pivot element and array [-6, -3, 1, 2, 3, 8, 5, 9, 6] -6\n",
      "pivot element and array [-6, -3, 1, 2, 3, 5, 6, 9, 8] 6\n",
      "pivot element and array [-6, -3, 1, 2, 3, 5, 6, 8, 9] 8\n",
      "Sorted array:-  [-6, -3, 1, 2, 3, 5, 6, 8, 9]\n"
     ]
    }
   ],
   "source": [
    "arr= [9,-3,5,2,6,8,-6,1,3]\n",
    "n = len(arr)\n",
    "print(\"Starting array: \",arr)\n",
    "quickSort(arr,0,n-1)\n",
    "print(\"Sorted array:- \",arr)"
   ]
  },
  {
   "cell_type": "code",
   "execution_count": null,
   "id": "83a76114",
   "metadata": {},
   "outputs": [],
   "source": []
  },
  {
   "cell_type": "markdown",
   "id": "4623d8d9",
   "metadata": {},
   "source": [
    "### Time Complexity : \n",
    "\n",
    "Following recurrence relation can be written for Quick sort : \n",
    "\n",
    "F(n) = F(k) + F(n-1-k) \n",
    "\n",
    "Here k is the number of elements smaller or equal to pivot and n-1-k denotes elements greater than the pivot.\n",
    "\n",
    "There can be 2 cases :\n",
    "\n",
    "<b>Worst Case</b> – This case occurs when pivot is the greatest or smallest element of the array . If partition is done and the last element is pivot , then the worst case would be either increasing order of the array or decreasing order of the array.\n",
    "Recurrence:\n",
    "\n",
    "F(n) = F(0)+F(n-1)  or  F(n) = F(n-1) + F(0) \n",
    "\n",
    "<b>Worst Case : O(n^2) </b>\n",
    "\n",
    "<b>Best Case</b> – This case occurs when pivot is the middle element of the array. \n",
    "            Recurrence : \n",
    "\n",
    "F(n) = 2F(n/2) \n",
    "\n",
    "<b>Best Case : O(nLogn)</b>\n",
    "\n",
    "### Space Complexity:  O(n)"
   ]
  },
  {
   "cell_type": "code",
   "execution_count": null,
   "id": "5f4e71ce",
   "metadata": {},
   "outputs": [],
   "source": []
  },
  {
   "cell_type": "markdown",
   "id": "f1f2bb37",
   "metadata": {},
   "source": [
    "For java and c++ code do check it out <a href=\"https://takeuforward.org/data-structure/quick-sort-algorithm/\">Here</a>"
   ]
  },
  {
   "cell_type": "code",
   "execution_count": null,
   "id": "fad9468d",
   "metadata": {},
   "outputs": [],
   "source": []
  }
 ],
 "metadata": {
  "kernelspec": {
   "display_name": "Python 3",
   "language": "python",
   "name": "python3"
  },
  "language_info": {
   "codemirror_mode": {
    "name": "ipython",
    "version": 3
   },
   "file_extension": ".py",
   "mimetype": "text/x-python",
   "name": "python",
   "nbconvert_exporter": "python",
   "pygments_lexer": "ipython3",
   "version": "3.8.8"
  }
 },
 "nbformat": 4,
 "nbformat_minor": 5
}
