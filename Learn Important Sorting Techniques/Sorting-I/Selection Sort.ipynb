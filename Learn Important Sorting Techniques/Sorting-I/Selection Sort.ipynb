{
 "cells": [
  {
   "cell_type": "markdown",
   "id": "aa21e170",
   "metadata": {},
   "source": [
    "#### Given an unsorted array of size N, use selection sort to sort arr[ ] in increasing order.\n",
    "\n",
    "\n",
    "Example 1:\n",
    "\n",
    "##### Input:<br>\n",
    "N = 5<br>\n",
    "arr[ ] = [4, 1, 3, 9, 7]<br>\n",
    "##### Output:<br>\n",
    "1 3 4 7 9<br>\n",
    "##### Explanation:<br>\n",
    "Maintain sorted (in bold) and unsorted subarrays.<br>\n",
    "Select 1. Array becomes <b>1</b> 4 3 9 7.<br>\n",
    "Select 3. Array becomes <b>1 3</b> 4 9 7.<br>\n",
    "Select 4. Array becomes <b>1 3 4</b> 9 7.<br>\n",
    "Select 7. Array becomes <b>1 3 4 7</b> 9.<br>\n",
    "Select 9. Array becomes <b>1 3 4 7 9</b>.<br>"
   ]
  },
  {
   "cell_type": "code",
   "execution_count": null,
   "id": "551d36bb",
   "metadata": {},
   "outputs": [],
   "source": []
  },
  {
   "cell_type": "code",
   "execution_count": 5,
   "id": "d6cac537",
   "metadata": {},
   "outputs": [],
   "source": [
    "#TC: O(N^2)\n",
    "#SC: O(N)\n",
    "\n",
    "def select(arr, i):\n",
    "    mini = i\n",
    "    for j in range(i+1,len(arr)):\n",
    "        if arr[mini]>arr[j]:\n",
    "            mini = j\n",
    "    return mini\n",
    "\n",
    "def selectionSort(arr,n):\n",
    "    for i in range(n):\n",
    "        j = select(arr,i)\n",
    "        arr[i],arr[j]=arr[j],arr[i]\n",
    "        print(arr[i],arr)\n",
    "    return arr"
   ]
  },
  {
   "cell_type": "code",
   "execution_count": 6,
   "id": "ea04f407",
   "metadata": {},
   "outputs": [
    {
     "name": "stdout",
     "output_type": "stream",
     "text": [
      "1 [1, 4, 3, 9, 7]\n",
      "3 [1, 3, 4, 9, 7]\n",
      "4 [1, 3, 4, 9, 7]\n",
      "7 [1, 3, 4, 7, 9]\n",
      "9 [1, 3, 4, 7, 9]\n"
     ]
    },
    {
     "data": {
      "text/plain": [
       "[1, 3, 4, 7, 9]"
      ]
     },
     "execution_count": 6,
     "metadata": {},
     "output_type": "execute_result"
    }
   ],
   "source": [
    "selectionSort( [4, 1, 3, 9, 7], 5)"
   ]
  },
  {
   "cell_type": "code",
   "execution_count": null,
   "id": "fd00de52",
   "metadata": {},
   "outputs": [],
   "source": []
  },
  {
   "cell_type": "markdown",
   "id": "c9e52c04",
   "metadata": {},
   "source": [
    "## For Reference how it works"
   ]
  },
  {
   "cell_type": "markdown",
   "id": "357d572b",
   "metadata": {},
   "source": [
    "<img src=\"https://imgs.search.brave.com/eqHOVgkWe-GmYARuaDou1iKlZ67WdZvmQAfGOO_VyLk/rs:fit:1200:1200:1/g:ce/aHR0cHM6Ly9wcmVw/aW5zdGEuY29tL3dw/LWNvbnRlbnQvdXBs/b2Fkcy8yMDIwLzA1/L1NlbGVjdGlvbi1T/b3J0LWluLUMtd2l0/aC1leGFtcGxlJUUy/JTgwJTkzLTEucG5n\">"
   ]
  },
  {
   "cell_type": "code",
   "execution_count": null,
   "id": "f57d1a31",
   "metadata": {},
   "outputs": [],
   "source": []
  }
 ],
 "metadata": {
  "kernelspec": {
   "display_name": "Python 3",
   "language": "python",
   "name": "python3"
  },
  "language_info": {
   "codemirror_mode": {
    "name": "ipython",
    "version": 3
   },
   "file_extension": ".py",
   "mimetype": "text/x-python",
   "name": "python",
   "nbconvert_exporter": "python",
   "pygments_lexer": "ipython3",
   "version": "3.8.8"
  }
 },
 "nbformat": 4,
 "nbformat_minor": 5
}
