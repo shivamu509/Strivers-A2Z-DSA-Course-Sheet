{
 "cells": [
  {
   "cell_type": "markdown",
   "id": "9005f4ff",
   "metadata": {},
   "source": [
    "#### Problem Statement: Given an array of N integers, write a program to implement the Insertion sorting algorithm.\n",
    "\n",
    "\n",
    "Example:<br>\n",
    "Input: <br>\n",
    "    N = 6 <br>\n",
    "    array[ ] = [13,46,24,52,20,9]<br>\n",
    "Output: [9,13,20,24,46,52]"
   ]
  },
  {
   "cell_type": "code",
   "execution_count": 2,
   "id": "53cf54a3",
   "metadata": {},
   "outputs": [],
   "source": [
    "#TC: O(N^2)\n",
    "#SC: O(1)\n",
    "def insertionSort(arr):\n",
    "    n = len(arr)\n",
    "    for i in range(n-1):\n",
    "        for i in range(i+1,0,-1):\n",
    "            if arr[i]<arr[i-1]:\n",
    "                arr[i],arr[i-1]= arr[i-1],arr[i]\n",
    "        print(arr)\n",
    "    return arr"
   ]
  },
  {
   "cell_type": "code",
   "execution_count": 3,
   "id": "5f19943e",
   "metadata": {},
   "outputs": [
    {
     "name": "stdout",
     "output_type": "stream",
     "text": [
      "[13, 46, 24, 52, 20, 9]\n",
      "[13, 24, 46, 52, 20, 9]\n",
      "[13, 24, 46, 52, 20, 9]\n",
      "[13, 20, 24, 46, 52, 9]\n",
      "[9, 13, 20, 24, 46, 52]\n"
     ]
    },
    {
     "data": {
      "text/plain": [
       "[9, 13, 20, 24, 46, 52]"
      ]
     },
     "execution_count": 3,
     "metadata": {},
     "output_type": "execute_result"
    }
   ],
   "source": [
    "insertionSort( [13,46,24,52,20,9])"
   ]
  },
  {
   "cell_type": "code",
   "execution_count": 4,
   "id": "ee3e2a61",
   "metadata": {},
   "outputs": [
    {
     "name": "stdout",
     "output_type": "stream",
     "text": [
      "[6, 8, 4, 20, 24, 2, 10, 12]\n",
      "[4, 6, 8, 20, 24, 2, 10, 12]\n",
      "[4, 6, 8, 20, 24, 2, 10, 12]\n",
      "[4, 6, 8, 20, 24, 2, 10, 12]\n",
      "[2, 4, 6, 8, 20, 24, 10, 12]\n",
      "[2, 4, 6, 8, 10, 20, 24, 12]\n",
      "[2, 4, 6, 8, 10, 12, 20, 24]\n"
     ]
    },
    {
     "data": {
      "text/plain": [
       "[2, 4, 6, 8, 10, 12, 20, 24]"
      ]
     },
     "execution_count": 4,
     "metadata": {},
     "output_type": "execute_result"
    }
   ],
   "source": [
    "insertionSort([8,6,4,20,24,2,10,12])"
   ]
  },
  {
   "cell_type": "code",
   "execution_count": null,
   "id": "837e89aa",
   "metadata": {},
   "outputs": [],
   "source": []
  },
  {
   "cell_type": "markdown",
   "id": "7b7e189f",
   "metadata": {},
   "source": [
    "### Reference:--\n",
    "#### P.S. I'm not promoting prepinsta I just like the way they explain whole steps in a single image \n",
    "\n",
    "<img src=\"https://imgs.search.brave.com/lod4cPIkMDzTIXN69q7CmHLUGmc5XEMBwxhX0mQni4I/rs:fit:1200:1200:1/g:ce/aHR0cHM6Ly9wcmVw/aW5zdGEuY29tL3dw/LWNvbnRlbnQvdXBs/b2Fkcy8yMDIwLzA1/L0luc2VydGlvbi1T/b3J0LWluLUMucG5n\">"
   ]
  },
  {
   "cell_type": "code",
   "execution_count": null,
   "id": "7f95977c",
   "metadata": {},
   "outputs": [],
   "source": []
  }
 ],
 "metadata": {
  "kernelspec": {
   "display_name": "Python 3",
   "language": "python",
   "name": "python3"
  },
  "language_info": {
   "codemirror_mode": {
    "name": "ipython",
    "version": 3
   },
   "file_extension": ".py",
   "mimetype": "text/x-python",
   "name": "python",
   "nbconvert_exporter": "python",
   "pygments_lexer": "ipython3",
   "version": "3.8.8"
  }
 },
 "nbformat": 4,
 "nbformat_minor": 5
}
