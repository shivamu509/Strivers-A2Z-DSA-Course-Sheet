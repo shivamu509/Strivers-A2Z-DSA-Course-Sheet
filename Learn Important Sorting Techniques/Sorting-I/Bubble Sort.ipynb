{
 "cells": [
  {
   "cell_type": "markdown",
   "id": "0eb90304",
   "metadata": {},
   "source": [
    "#### Given an Integer N and a list arr. Sort the array using bubble sort algorithm.\n",
    "\n",
    "Example 1:\n",
    "\n",
    "Input:<br> \n",
    "N = 5<br>\n",
    "arr[ ] = [4, 1, 3, 9, 7]<br>\n",
    "Output: <br>\n",
    "1 3 4 7 9"
   ]
  },
  {
   "cell_type": "code",
   "execution_count": null,
   "id": "d0b8c6ef",
   "metadata": {},
   "outputs": [],
   "source": []
  },
  {
   "cell_type": "code",
   "execution_count": 9,
   "id": "b5875f50",
   "metadata": {},
   "outputs": [],
   "source": [
    "def bubbleSort(arr, n):\n",
    "    for i in range(n):\n",
    "        for j in range(n-i-1):\n",
    "            if arr[j]>arr[j+1]:\n",
    "                arr[j+1],arr[j]=arr[j],arr[j+1]\n",
    "        print(arr)\n",
    "    return arr"
   ]
  },
  {
   "cell_type": "code",
   "execution_count": 10,
   "id": "e77331d0",
   "metadata": {},
   "outputs": [
    {
     "name": "stdout",
     "output_type": "stream",
     "text": [
      "[1, 3, 4, 7, 9]\n",
      "[1, 3, 4, 7, 9]\n",
      "[1, 3, 4, 7, 9]\n",
      "[1, 3, 4, 7, 9]\n",
      "[1, 3, 4, 7, 9]\n"
     ]
    },
    {
     "data": {
      "text/plain": [
       "[1, 3, 4, 7, 9]"
      ]
     },
     "execution_count": 10,
     "metadata": {},
     "output_type": "execute_result"
    }
   ],
   "source": [
    "bubbleSort([4, 1, 3, 9, 7], 5)"
   ]
  },
  {
   "cell_type": "code",
   "execution_count": null,
   "id": "b33d6833",
   "metadata": {},
   "outputs": [],
   "source": []
  },
  {
   "cell_type": "markdown",
   "id": "a2b08976",
   "metadata": {},
   "source": [
    "## For reference how it work\n",
    "\n",
    "<img src=\"https://imgs.search.brave.com/QXfqHGX6LgsEqOvJ8zjml5HS5qOlZSIZ7iuA7L3qhTk/rs:fit:1200:1200:1/g:ce/aHR0cHM6Ly9wcmVw/aW5zdGEuY29tL3dw/LWNvbnRlbnQvdXBs/b2Fkcy8yMDIwLzA1/L0J1YmJsZS1Tb3J0/LWluLUMtRXhhbXBs/ZS5wbmc\">"
   ]
  },
  {
   "cell_type": "code",
   "execution_count": null,
   "id": "c5c81915",
   "metadata": {},
   "outputs": [],
   "source": []
  }
 ],
 "metadata": {
  "kernelspec": {
   "display_name": "Python 3",
   "language": "python",
   "name": "python3"
  },
  "language_info": {
   "codemirror_mode": {
    "name": "ipython",
    "version": 3
   },
   "file_extension": ".py",
   "mimetype": "text/x-python",
   "name": "python",
   "nbconvert_exporter": "python",
   "pygments_lexer": "ipython3",
   "version": "3.8.8"
  }
 },
 "nbformat": 4,
 "nbformat_minor": 5
}
