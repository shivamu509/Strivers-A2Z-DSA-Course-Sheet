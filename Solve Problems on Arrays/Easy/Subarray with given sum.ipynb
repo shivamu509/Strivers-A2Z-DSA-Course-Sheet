{
 "cells": [
  {
   "cell_type": "markdown",
   "id": "1db58e90",
   "metadata": {},
   "source": [
    "## Longest Subarray with given Sum K\n",
    "### Problem Statement: Given an array and a sum k, we need to print the length of the longest subarray that sums to k.\n",
    "\n",
    "<b>Example 1:</b><br>\n",
    "<b>Input:</b><br>\n",
    "arr = {7,1,6,0}, k = 7<br>\n",
    "<b>Output:</b><br> Length of the longest subarray with sum K is 3<br>\n",
    "<b>Explanation:</b><br>\n",
    " 1 + 6 + 0 = 7, it is the longest subarray with sum 7 and length 3.\n",
    "\n",
    "<b>Example 2:</b><br>\n",
    "<b>Input: </b><br>\n",
    "arr = {2,3,5,1,9}, k = 10<br>\n",
    "<b>Output:</b><br> Length of the longest subarray with sum K is 3<br>\n",
    "<b>Explanation:</b><br> 2 + 3 + 5 = 10, it is the longest subarray with sum 10 and length 3"
   ]
  },
  {
   "cell_type": "code",
   "execution_count": null,
   "id": "5a4eb3e7",
   "metadata": {},
   "outputs": [],
   "source": []
  },
  {
   "cell_type": "code",
   "execution_count": 13,
   "id": "7cd42068",
   "metadata": {},
   "outputs": [],
   "source": [
    "#Approach I (Brute Force)\n",
    "#TC: O(N*M)\n",
    "#SC: O(1)\n",
    "\n",
    "def lenOfLongSubarr (arr, k) :\n",
    "    n = len(arr)\n",
    "    ans = 0\n",
    "    for i in range(n):\n",
    "        l = 0\n",
    "        tempSum = 0\n",
    "        for j in range(i,n):\n",
    "            tempSum += arr[j]\n",
    "            l += 1\n",
    "            if tempSum == k:\n",
    "                ans = max(l,ans)\n",
    "    return ans"
   ]
  },
  {
   "cell_type": "code",
   "execution_count": 14,
   "id": "8f9368ba",
   "metadata": {},
   "outputs": [
    {
     "data": {
      "text/plain": [
       "4"
      ]
     },
     "execution_count": 14,
     "metadata": {},
     "output_type": "execute_result"
    }
   ],
   "source": [
    "A= [10, 5, 2, 7, 1, 9]\n",
    "K = 15\n",
    "lenOfLongSubarr(A,K)"
   ]
  },
  {
   "cell_type": "code",
   "execution_count": 15,
   "id": "f91f56d5",
   "metadata": {},
   "outputs": [
    {
     "data": {
      "text/plain": [
       "3"
      ]
     },
     "execution_count": 15,
     "metadata": {},
     "output_type": "execute_result"
    }
   ],
   "source": [
    "arr = [7,1,6,0]\n",
    "k = 7\n",
    "lenOfLongSubarr(arr,k)"
   ]
  },
  {
   "cell_type": "code",
   "execution_count": 16,
   "id": "cdc3e822",
   "metadata": {},
   "outputs": [
    {
     "data": {
      "text/plain": [
       "3"
      ]
     },
     "execution_count": 16,
     "metadata": {},
     "output_type": "execute_result"
    }
   ],
   "source": [
    "arr = [2,3,5,1,9]\n",
    "k = 10\n",
    "lenOfLongSubarr(arr,k)"
   ]
  },
  {
   "cell_type": "code",
   "execution_count": null,
   "id": "6a63f140",
   "metadata": {},
   "outputs": [],
   "source": []
  },
  {
   "cell_type": "code",
   "execution_count": 17,
   "id": "a865127f",
   "metadata": {},
   "outputs": [],
   "source": [
    "#Approach II (Sliding Window)\n",
    "#TC: O(N)\n",
    "#SC: O(1)\n",
    "\n",
    "def lenOfLongSubarr (arr, k) :\n",
    "    n = len(arr)\n",
    "    ans = 0\n",
    "    tempSum = 0\n",
    "    l = 0\n",
    "    for i in range(n):\n",
    "        if tempSum>k:\n",
    "            tempSum -= arr[i-l]\n",
    "            l -= 1\n",
    "        tempSum += arr[i]\n",
    "        l += 1\n",
    "        if tempSum == k:\n",
    "            ans = max(ans,l)\n",
    "    return ans"
   ]
  },
  {
   "cell_type": "code",
   "execution_count": 18,
   "id": "30f27f43",
   "metadata": {
    "scrolled": true
   },
   "outputs": [
    {
     "data": {
      "text/plain": [
       "4"
      ]
     },
     "execution_count": 18,
     "metadata": {},
     "output_type": "execute_result"
    }
   ],
   "source": [
    "A= [10, 5, 2, 7, 1, 9]\n",
    "K = 15\n",
    "lenOfLongSubarr(A,K)"
   ]
  },
  {
   "cell_type": "code",
   "execution_count": 19,
   "id": "edded142",
   "metadata": {},
   "outputs": [
    {
     "data": {
      "text/plain": [
       "3"
      ]
     },
     "execution_count": 19,
     "metadata": {},
     "output_type": "execute_result"
    }
   ],
   "source": [
    "arr = [7,1,6,0]\n",
    "k = 7\n",
    "lenOfLongSubarr(arr,k)"
   ]
  },
  {
   "cell_type": "code",
   "execution_count": 20,
   "id": "8287dc9e",
   "metadata": {},
   "outputs": [
    {
     "data": {
      "text/plain": [
       "3"
      ]
     },
     "execution_count": 20,
     "metadata": {},
     "output_type": "execute_result"
    }
   ],
   "source": [
    "arr = [2,3,5,1,9]\n",
    "k = 10\n",
    "lenOfLongSubarr(arr,k)"
   ]
  },
  {
   "cell_type": "code",
   "execution_count": null,
   "id": "8718bdb4",
   "metadata": {},
   "outputs": [],
   "source": []
  }
 ],
 "metadata": {
  "kernelspec": {
   "display_name": "Python 3",
   "language": "python",
   "name": "python3"
  },
  "language_info": {
   "codemirror_mode": {
    "name": "ipython",
    "version": 3
   },
   "file_extension": ".py",
   "mimetype": "text/x-python",
   "name": "python",
   "nbconvert_exporter": "python",
   "pygments_lexer": "ipython3",
   "version": "3.8.8"
  }
 },
 "nbformat": 4,
 "nbformat_minor": 5
}
