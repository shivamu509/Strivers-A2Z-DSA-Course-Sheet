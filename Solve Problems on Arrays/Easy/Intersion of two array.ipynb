{
 "cells": [
  {
   "cell_type": "markdown",
   "id": "0fd760cd",
   "metadata": {},
   "source": [
    "## Intersection of two sorted arrays\n",
    "### Problem Statement: Find the intersection of two sorted arrays. OR in other words, Given 2 sorted arrays, find all the elements which occur in both the arrays.\n",
    "\n",
    "<b>Example 1:</b><br>\n",
    "<b>Input:</b> \n",
    "A: [1 2 3 3 4 5 6]\n",
    ", B: [3 3 5]<br>\n",
    "<b>Output:</b> 3,3,5<br>\n",
    "<b>Explanation:</b> We are given two arrays A and B. \n",
    "The elements present in both the arrays  \n",
    "are 3,3 and 5.\n",
    "\n",
    "<b>Example 2:</b><br>\n",
    "<b>Input:</b> \n",
    "A: [1 2 3 3 4 5 6]\n",
    ", B: [3 5]<br>\n",
    "<b>Output:</b> 3,5<br>\n",
    "<b>Explanation:</b> We are given two arrays A and B. \n",
    "The elements present in both the arrays are 3 and 5."
   ]
  },
  {
   "cell_type": "code",
   "execution_count": null,
   "id": "7fcf51f6",
   "metadata": {},
   "outputs": [],
   "source": []
  },
  {
   "cell_type": "code",
   "execution_count": 23,
   "id": "58239ad0",
   "metadata": {},
   "outputs": [],
   "source": [
    "#Approach I (Brute Force)\n",
    "#TC: O(N*M)\n",
    "#SC: O(M+min(N,M))\n",
    "\n",
    "def intersection(A,B):\n",
    "    ans=[]\n",
    "    n = len(A)\n",
    "    m = len(B)\n",
    "    visited= [0 for i in range(m)]\n",
    "    for i in range(n):\n",
    "        for j in range(m):\n",
    "            if A[i] == B[j] and visited[j] == 0:\n",
    "                #if element matches and has not been matched with any other before\n",
    "                ans.append(B[j])\n",
    "                visited[j] = 1\n",
    "                break\n",
    "            elif B[j] > A[i]: \n",
    "                break\n",
    "               #because array is sorted , element will not be beyond this\n",
    "    return ans"
   ]
  },
  {
   "cell_type": "code",
   "execution_count": 24,
   "id": "ac613e2d",
   "metadata": {},
   "outputs": [
    {
     "name": "stdout",
     "output_type": "stream",
     "text": [
      "[3, 3, 5]\n"
     ]
    }
   ],
   "source": [
    "A = [1, 2, 3, 3, 4, 5, 6]\n",
    "B = [3, 3, 5]\n",
    "ans = intersection(A,B)\n",
    "print(ans)"
   ]
  },
  {
   "cell_type": "code",
   "execution_count": 25,
   "id": "172d091c",
   "metadata": {},
   "outputs": [
    {
     "name": "stdout",
     "output_type": "stream",
     "text": [
      "[3, 5]\n"
     ]
    }
   ],
   "source": [
    "A = [1, 2, 3, 3, 4, 5, 6]\n",
    "B = [3, 5]\n",
    "print(intersection(A,B))"
   ]
  },
  {
   "cell_type": "code",
   "execution_count": 26,
   "id": "e792e8e8",
   "metadata": {},
   "outputs": [
    {
     "name": "stdout",
     "output_type": "stream",
     "text": [
      "[4, 9]\n"
     ]
    }
   ],
   "source": [
    "A = [4,5,9]\n",
    "B = [4,4,8,9,9]\n",
    "print(intersection(A,B))"
   ]
  },
  {
   "cell_type": "code",
   "execution_count": null,
   "id": "45be6a44",
   "metadata": {},
   "outputs": [],
   "source": []
  },
  {
   "cell_type": "code",
   "execution_count": 33,
   "id": "863b9164",
   "metadata": {},
   "outputs": [],
   "source": [
    "#Approach II (Two Pointer Approach)\n",
    "#TC: 0(N+M)\n",
    "#SC: O(min(n+m))\n",
    "\n",
    "def intersection(arr1, arr2):\n",
    "    n = len(arr1)\n",
    "    m = len(arr2)\n",
    "    ans = []\n",
    "    i, j = 0, 0\n",
    "    while i != n and j != m:\n",
    "        if arr1[i]==arr2[j]:\n",
    "            ans.append(arr1[i])\n",
    "            i += 1\n",
    "            j += 1\n",
    "        elif arr1[i]<arr2[j]:\n",
    "            i += 1\n",
    "        else:\n",
    "            j += 1\n",
    "    return ans"
   ]
  },
  {
   "cell_type": "code",
   "execution_count": 34,
   "id": "29581af9",
   "metadata": {
    "scrolled": true
   },
   "outputs": [
    {
     "name": "stdout",
     "output_type": "stream",
     "text": [
      "[3, 3, 5]\n"
     ]
    }
   ],
   "source": [
    "A = [1, 2, 3, 3, 4, 5, 6]\n",
    "B = [3, 3, 5]\n",
    "ans = intersection(A,B)\n",
    "print(ans)"
   ]
  },
  {
   "cell_type": "code",
   "execution_count": 35,
   "id": "6a068b6b",
   "metadata": {},
   "outputs": [
    {
     "name": "stdout",
     "output_type": "stream",
     "text": [
      "[3, 5]\n"
     ]
    }
   ],
   "source": [
    "A = [1, 2, 3, 3, 4, 5, 6]\n",
    "B = [3, 5]\n",
    "print(intersection(A,B))"
   ]
  },
  {
   "cell_type": "code",
   "execution_count": 36,
   "id": "62cced1b",
   "metadata": {},
   "outputs": [
    {
     "name": "stdout",
     "output_type": "stream",
     "text": [
      "[4, 9]\n"
     ]
    }
   ],
   "source": [
    "A = [4,5,9]\n",
    "B = [4,4,8,9,9]\n",
    "print(intersection(A,B))"
   ]
  },
  {
   "cell_type": "code",
   "execution_count": null,
   "id": "deb25e74",
   "metadata": {},
   "outputs": [],
   "source": []
  }
 ],
 "metadata": {
  "kernelspec": {
   "display_name": "Python 3",
   "language": "python",
   "name": "python3"
  },
  "language_info": {
   "codemirror_mode": {
    "name": "ipython",
    "version": 3
   },
   "file_extension": ".py",
   "mimetype": "text/x-python",
   "name": "python",
   "nbconvert_exporter": "python",
   "pygments_lexer": "ipython3",
   "version": "3.8.8"
  }
 },
 "nbformat": 4,
 "nbformat_minor": 5
}
