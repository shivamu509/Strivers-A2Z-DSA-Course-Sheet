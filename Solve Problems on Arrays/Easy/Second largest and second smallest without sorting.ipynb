{
 "cells": [
  {
   "cell_type": "markdown",
   "id": "0ad84909",
   "metadata": {},
   "source": [
    "### Problem Statement: Given an array, find the second smallest and second largest element in the array. Print ‘-1’ in the event that either of them doesn’t exist.\n",
    "\n",
    "Examples:\n",
    "\n",
    "Example 1:<br>\n",
    "Input: [1,2,4,7,7,5]<br>\n",
    "Output: Second Smallest : 2<br>\n",
    "\tSecond Largest : 5<br>\n",
    "Explanation: The elements are as follows 1,2,3,5,7,7 and hence second largest of these is 5 and second smallest is 2\n",
    "\n",
    "Example 2:<br>\n",
    "Input: [1]<br>\n",
    "Output: Second Smallest : -1<br>\n",
    "\tSecond Largest : -1<br>\n",
    "Explanation: Since there is only one element in the array, it is the largest and smallest element present in the array. There is no second largest or second smallest element present."
   ]
  },
  {
   "cell_type": "code",
   "execution_count": null,
   "id": "1ff9a712",
   "metadata": {},
   "outputs": [],
   "source": []
  },
  {
   "cell_type": "code",
   "execution_count": 8,
   "id": "2969d350",
   "metadata": {},
   "outputs": [],
   "source": [
    "#Approach 1\n",
    "#TC: O(NlogN)\n",
    "#SC: 0(1)\n",
    "\n",
    "def ans(arr):\n",
    "    arr.sort()\n",
    "    arr = list(set(arr))\n",
    "    n = len(arr)\n",
    "    max2 , min2 = -1, -1\n",
    "    if n > 1:\n",
    "        max2, min2 = arr[-2], arr[1]\n",
    "    print(\"Second Smallest: \",min2)\n",
    "    print(\"Second Largest: \",max2)"
   ]
  },
  {
   "cell_type": "code",
   "execution_count": 9,
   "id": "bc74f9a1",
   "metadata": {},
   "outputs": [
    {
     "name": "stdout",
     "output_type": "stream",
     "text": [
      "Second Smallest:  2\n",
      "Second Largest:  5\n"
     ]
    }
   ],
   "source": [
    "arr = [1,2,4,7,7,5]\n",
    "n = len(arr)\n",
    "ans(arr)"
   ]
  },
  {
   "cell_type": "code",
   "execution_count": 10,
   "id": "86e71696",
   "metadata": {},
   "outputs": [
    {
     "name": "stdout",
     "output_type": "stream",
     "text": [
      "Second Smallest:  -1\n",
      "Second Largest:  -1\n"
     ]
    }
   ],
   "source": [
    "arr = [7,7]\n",
    "n = len(arr)\n",
    "ans(arr)"
   ]
  },
  {
   "cell_type": "code",
   "execution_count": null,
   "id": "964025c3",
   "metadata": {},
   "outputs": [],
   "source": []
  },
  {
   "cell_type": "code",
   "execution_count": 4,
   "id": "94a05ae2",
   "metadata": {},
   "outputs": [],
   "source": [
    "#Approach:- 2\n",
    "#TC: O(N)\n",
    "#SC: O(1)\n",
    "\n",
    "def ans(arr):\n",
    "    max1, max2 = max(arr), -1\n",
    "    min1, min2 = min(arr), max1\n",
    "    n = len(arr)\n",
    "    for i in range(n):\n",
    "        if max2<arr[i] and arr[i]!=max1:\n",
    "            max2 = arr[i]\n",
    "        if min2>arr[i] and arr[i]!=min1:\n",
    "            min2 = arr[i]\n",
    "    print(\"Second Smallest: \",min2)\n",
    "    print(\"Second Largest: \",max2)"
   ]
  },
  {
   "cell_type": "code",
   "execution_count": 5,
   "id": "5f7601d7",
   "metadata": {},
   "outputs": [
    {
     "name": "stdout",
     "output_type": "stream",
     "text": [
      "Second Smallest:  2\n",
      "Second Largest:  5\n"
     ]
    }
   ],
   "source": [
    "arr = [1,2,4,7,7,5]\n",
    "n = len(arr)\n",
    "ans(arr)"
   ]
  },
  {
   "cell_type": "code",
   "execution_count": null,
   "id": "1c6bedc9",
   "metadata": {},
   "outputs": [],
   "source": []
  }
 ],
 "metadata": {
  "kernelspec": {
   "display_name": "Python 3",
   "language": "python",
   "name": "python3"
  },
  "language_info": {
   "codemirror_mode": {
    "name": "ipython",
    "version": 3
   },
   "file_extension": ".py",
   "mimetype": "text/x-python",
   "name": "python",
   "nbconvert_exporter": "python",
   "pygments_lexer": "ipython3",
   "version": "3.8.8"
  }
 },
 "nbformat": 4,
 "nbformat_minor": 5
}
