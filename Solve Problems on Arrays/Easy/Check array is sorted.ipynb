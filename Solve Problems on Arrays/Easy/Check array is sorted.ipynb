{
 "cells": [
  {
   "cell_type": "markdown",
   "id": "cd8f6f94",
   "metadata": {},
   "source": [
    "## Check if an Array is Sorted\n",
    "\n",
    "#### Problem Statement: Given an array of size n, write a program to check if the given array is sorted in (ascending / Increasing / Non-decreasing) order or not. If the array is sorted then return True, Else return False.\n",
    "\n",
    "Note: Two consecutive equal values are considered to be sorted.\n",
    "\n",
    "Examples:\n",
    "\n",
    "Example 1:<br>\n",
    "Input: N = 5, array[ ] = [1,2,3,4,5]<br>\n",
    "Output: True.<br>\n",
    "Explanation: The given array is sorted i.e Every element in the array is smaller than or equals to its next values, So the answer is True."
   ]
  },
  {
   "cell_type": "code",
   "execution_count": null,
   "id": "c5a5685b",
   "metadata": {},
   "outputs": [],
   "source": []
  },
  {
   "cell_type": "code",
   "execution_count": 1,
   "id": "27d872c9",
   "metadata": {},
   "outputs": [],
   "source": [
    "#Approach 1\n",
    "#TC: O(N^2)\n",
    "#SC: O(1)\n",
    "\n",
    "def ans(arr,n):\n",
    "    for i in range(n-1):\n",
    "        for j in range(i+1,n):\n",
    "            if arr[i]>arr[j]:\n",
    "                return False\n",
    "    return True"
   ]
  },
  {
   "cell_type": "code",
   "execution_count": 2,
   "id": "adcedac0",
   "metadata": {},
   "outputs": [
    {
     "data": {
      "text/plain": [
       "True"
      ]
     },
     "execution_count": 2,
     "metadata": {},
     "output_type": "execute_result"
    }
   ],
   "source": [
    "arr = [1,2,3,4,5]\n",
    "n = len(arr)\n",
    "ans(arr,n)"
   ]
  },
  {
   "cell_type": "code",
   "execution_count": 3,
   "id": "7ccf9619",
   "metadata": {},
   "outputs": [
    {
     "data": {
      "text/plain": [
       "False"
      ]
     },
     "execution_count": 3,
     "metadata": {},
     "output_type": "execute_result"
    }
   ],
   "source": [
    "arr = [1,3,2,4]\n",
    "n = len(arr)\n",
    "ans(arr,n)"
   ]
  },
  {
   "cell_type": "code",
   "execution_count": null,
   "id": "50f604a6",
   "metadata": {},
   "outputs": [],
   "source": []
  },
  {
   "cell_type": "code",
   "execution_count": 4,
   "id": "9df06f43",
   "metadata": {},
   "outputs": [],
   "source": [
    "#Approach-2\n",
    "#TC: O(NlogN)\n",
    "#SC: O(N)\n",
    "\n",
    "def ans(arr,n):\n",
    "    arr2=arr.copy()\n",
    "    arr.sort()\n",
    "    return arr==arr2"
   ]
  },
  {
   "cell_type": "code",
   "execution_count": 5,
   "id": "653ba07d",
   "metadata": {},
   "outputs": [
    {
     "data": {
      "text/plain": [
       "True"
      ]
     },
     "execution_count": 5,
     "metadata": {},
     "output_type": "execute_result"
    }
   ],
   "source": [
    "arr = [1,2,3,4,5]\n",
    "n = len(arr)\n",
    "ans(arr,n)"
   ]
  },
  {
   "cell_type": "code",
   "execution_count": 6,
   "id": "d6cef997",
   "metadata": {},
   "outputs": [
    {
     "data": {
      "text/plain": [
       "False"
      ]
     },
     "execution_count": 6,
     "metadata": {},
     "output_type": "execute_result"
    }
   ],
   "source": [
    "arr = [1,3,2,4]\n",
    "n = len(arr)\n",
    "ans(arr,n)"
   ]
  },
  {
   "cell_type": "code",
   "execution_count": null,
   "id": "5b3809ef",
   "metadata": {},
   "outputs": [],
   "source": []
  },
  {
   "cell_type": "code",
   "execution_count": 10,
   "id": "5e3e5eb9",
   "metadata": {},
   "outputs": [],
   "source": [
    "#Approach- 3\n",
    "#TC: 0(N)\n",
    "#SC: O(1)\n",
    "\n",
    "def ans(arr, n):\n",
    "    for i in range(1,n):\n",
    "        if arr[i]<arr[i-1]:\n",
    "            return False\n",
    "    return True"
   ]
  },
  {
   "cell_type": "code",
   "execution_count": 11,
   "id": "75984418",
   "metadata": {},
   "outputs": [
    {
     "data": {
      "text/plain": [
       "True"
      ]
     },
     "execution_count": 11,
     "metadata": {},
     "output_type": "execute_result"
    }
   ],
   "source": [
    "arr = [1,2,3,4,5]\n",
    "n = len(arr)\n",
    "ans(arr,n)"
   ]
  },
  {
   "cell_type": "code",
   "execution_count": 12,
   "id": "29a28d1e",
   "metadata": {},
   "outputs": [
    {
     "data": {
      "text/plain": [
       "False"
      ]
     },
     "execution_count": 12,
     "metadata": {},
     "output_type": "execute_result"
    }
   ],
   "source": [
    "arr = [1,3,2,4]\n",
    "n = len(arr)\n",
    "ans(arr,n)"
   ]
  },
  {
   "cell_type": "code",
   "execution_count": null,
   "id": "e0c5d92d",
   "metadata": {},
   "outputs": [],
   "source": []
  }
 ],
 "metadata": {
  "kernelspec": {
   "display_name": "Python 3",
   "language": "python",
   "name": "python3"
  },
  "language_info": {
   "codemirror_mode": {
    "name": "ipython",
    "version": 3
   },
   "file_extension": ".py",
   "mimetype": "text/x-python",
   "name": "python",
   "nbconvert_exporter": "python",
   "pygments_lexer": "ipython3",
   "version": "3.8.8"
  }
 },
 "nbformat": 4,
 "nbformat_minor": 5
}
