{
 "cells": [
  {
   "cell_type": "markdown",
   "id": "ea9e7675",
   "metadata": {},
   "source": [
    "## Find the element that appears once\n",
    "\n",
    "### Given a sorted array A[] of N positive integers having all the numbers occurring exactly twice, except for one number which will occur only once. Find the number occurring only once.\n",
    "\n",
    "<b>Example 1:</b><br>\n",
    "<b>Input:</b><br>\n",
    "N = 5  <br>\n",
    "A = [1, 1, 2, 5, 5]<br>\n",
    "<b>Output:</b><br> 2<br>\n",
    "<b>Explanation: </b><br>\n",
    "Since 2 occurs once, while\n",
    "other numbers occur twice, \n",
    "2 is the answer.\n",
    "\n",
    "<b>Example 2:</b><br>\n",
    "<b>Input:</b><br>\n",
    "N = 7<br>\n",
    "A = {2, 2, 5, 5, 20, 30, 30}<br>\n",
    "<b>Output: </b><br>\n",
    "20<br>\n",
    "<b>Explanation:</b><br>\n",
    "Since 20 occurs once, while\n",
    "other numbers occur twice, \n",
    "20 is the answer."
   ]
  },
  {
   "cell_type": "code",
   "execution_count": null,
   "id": "ca820d65",
   "metadata": {},
   "outputs": [],
   "source": []
  },
  {
   "cell_type": "code",
   "execution_count": 1,
   "id": "f9b47569",
   "metadata": {},
   "outputs": [],
   "source": [
    "#Appproach I (Using Dictonary)\n",
    "#TC: O(N)\n",
    "#SC: O(N)\n",
    "\n",
    "def search(arr, n):\n",
    "    d = {}\n",
    "    for i in arr:\n",
    "        if i in d:\n",
    "            d[i] += 1\n",
    "        else:\n",
    "            d[i] = 1\n",
    "    for i in d:\n",
    "        if d[i]==1:\n",
    "            return i\n",
    "    return -1"
   ]
  },
  {
   "cell_type": "code",
   "execution_count": 2,
   "id": "f15a8334",
   "metadata": {},
   "outputs": [
    {
     "data": {
      "text/plain": [
       "2"
      ]
     },
     "execution_count": 2,
     "metadata": {},
     "output_type": "execute_result"
    }
   ],
   "source": [
    "N = 5\n",
    "A = [1, 1, 2, 5, 5]\n",
    "search(A,N)"
   ]
  },
  {
   "cell_type": "code",
   "execution_count": 3,
   "id": "1b82d7ea",
   "metadata": {},
   "outputs": [
    {
     "data": {
      "text/plain": [
       "20"
      ]
     },
     "execution_count": 3,
     "metadata": {},
     "output_type": "execute_result"
    }
   ],
   "source": [
    "N = 7\n",
    "A = [2, 2, 5, 5, 20, 30, 30]\n",
    "search(A,N)"
   ]
  },
  {
   "cell_type": "code",
   "execution_count": null,
   "id": "f8bc1b9c",
   "metadata": {},
   "outputs": [],
   "source": []
  },
  {
   "cell_type": "code",
   "execution_count": 4,
   "id": "ca2c0e8a",
   "metadata": {},
   "outputs": [],
   "source": [
    "#Approach II (bit manupulation) (when two number is same there xor is zero so if we xor whole array we will get our result)\n",
    "#TC: O(N)\n",
    "#SC: O(1)\n",
    "\n",
    "def search(arr,n):\n",
    "    x = arr[0]\n",
    "    for i in arr[1:]:\n",
    "        x ^= i\n",
    "    return x"
   ]
  },
  {
   "cell_type": "code",
   "execution_count": 5,
   "id": "5bec0616",
   "metadata": {},
   "outputs": [
    {
     "data": {
      "text/plain": [
       "2"
      ]
     },
     "execution_count": 5,
     "metadata": {},
     "output_type": "execute_result"
    }
   ],
   "source": [
    "N = 5\n",
    "A = [1, 1, 2, 5, 5]\n",
    "search(A,N)"
   ]
  },
  {
   "cell_type": "code",
   "execution_count": 6,
   "id": "9aac6cf6",
   "metadata": {},
   "outputs": [
    {
     "data": {
      "text/plain": [
       "20"
      ]
     },
     "execution_count": 6,
     "metadata": {},
     "output_type": "execute_result"
    }
   ],
   "source": [
    "N = 7\n",
    "A = [2, 2, 5, 5, 20, 30, 30]\n",
    "search(A,N)"
   ]
  },
  {
   "cell_type": "code",
   "execution_count": null,
   "id": "09a7febc",
   "metadata": {},
   "outputs": [],
   "source": []
  }
 ],
 "metadata": {
  "kernelspec": {
   "display_name": "Python 3",
   "language": "python",
   "name": "python3"
  },
  "language_info": {
   "codemirror_mode": {
    "name": "ipython",
    "version": 3
   },
   "file_extension": ".py",
   "mimetype": "text/x-python",
   "name": "python",
   "nbconvert_exporter": "python",
   "pygments_lexer": "ipython3",
   "version": "3.8.8"
  }
 },
 "nbformat": 4,
 "nbformat_minor": 5
}
