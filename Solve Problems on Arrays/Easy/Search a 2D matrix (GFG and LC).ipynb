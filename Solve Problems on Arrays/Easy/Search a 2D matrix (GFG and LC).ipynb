{
 "cells": [
  {
   "cell_type": "markdown",
   "id": "95451bb7",
   "metadata": {},
   "source": [
    "## Search in a matrix (GFG)\n",
    "### Given a matrix mat[ ][ ] of size N x M, where every row and column is sorted in increasing order, and a number X is given. The task is to find whether element X is present in the matrix or not.\n",
    "\n",
    "<b>Example 1:</b><br>\n",
    "<b>Input:</b><br>\n",
    "N = 3, M = 3<br>\n",
    "mat = [ [ 3, 30, 38 ], [ 44, 52, 54 ], [ 57, 60, 69 ] ]<br>\n",
    "X = 62<br>\n",
    "<b>Output:</b><br>\n",
    "0<br>\n",
    "<b>Explanation:</b><br>\n",
    "62 is not present in the\n",
    "matrix, so output is 0\n",
    "\n",
    "<b>Example 2:</b><br>\n",
    "<b>Input:</b><br>\n",
    "N = 1, M = 6<br>\n",
    "mat = [ [ 18, 21, 27, 38, 55, 67 ] ]<br>\n",
    "X = 55<br>\n",
    "<b>Output:</b><br>\n",
    "1<br>\n",
    "<b>Explanation:</b><br>\n",
    "55 is present in the\n",
    "matrix at 5th cell."
   ]
  },
  {
   "cell_type": "code",
   "execution_count": null,
   "id": "250db036",
   "metadata": {},
   "outputs": [],
   "source": []
  },
  {
   "cell_type": "code",
   "execution_count": 1,
   "id": "6db45237",
   "metadata": {},
   "outputs": [],
   "source": [
    "#Approach I (Brute Force)\n",
    "#TC: O(N*M)\n",
    "#SC: O(1)\n",
    "\n",
    "def search(arr,n,m,x):\n",
    "    for i in range(n):\n",
    "        for j in range(m):\n",
    "            if arr[i][j] == x:\n",
    "                return 1\n",
    "    return 0"
   ]
  },
  {
   "cell_type": "code",
   "execution_count": 2,
   "id": "82dfa125",
   "metadata": {},
   "outputs": [
    {
     "data": {
      "text/plain": [
       "0"
      ]
     },
     "execution_count": 2,
     "metadata": {},
     "output_type": "execute_result"
    }
   ],
   "source": [
    "N = 3\n",
    "M = 3\n",
    "mat = [ [ 3, 30, 38 ], [ 44, 52, 54 ], [ 57, 60, 69 ] ]\n",
    "X = 62\n",
    "search(mat,N,M,X)"
   ]
  },
  {
   "cell_type": "code",
   "execution_count": 3,
   "id": "7c50f823",
   "metadata": {},
   "outputs": [
    {
     "data": {
      "text/plain": [
       "1"
      ]
     },
     "execution_count": 3,
     "metadata": {},
     "output_type": "execute_result"
    }
   ],
   "source": [
    "N = 1\n",
    "M = 6\n",
    "mat = [ [ 18, 21, 27, 38, 55, 67 ] ]\n",
    "X = 55\n",
    "search(mat,N,M,X)"
   ]
  },
  {
   "cell_type": "code",
   "execution_count": null,
   "id": "8fbfc824",
   "metadata": {},
   "outputs": [],
   "source": []
  },
  {
   "cell_type": "code",
   "execution_count": 4,
   "id": "aa9b95ed",
   "metadata": {},
   "outputs": [],
   "source": [
    "#Approach II\n",
    "#TC: O(N+M)\n",
    "#SC: O(1)\n",
    "\n",
    "def search(arr,n,m,x):\n",
    "    i = 0\n",
    "    j = m - 1\n",
    "    while i != n and j != -1:\n",
    "        if arr[i][j] == x:\n",
    "            return 1\n",
    "        elif arr[i][j] > x:\n",
    "            j -= 1\n",
    "        else:\n",
    "            i += 1\n",
    "    return 0"
   ]
  },
  {
   "cell_type": "code",
   "execution_count": 5,
   "id": "3b4724c5",
   "metadata": {},
   "outputs": [
    {
     "data": {
      "text/plain": [
       "0"
      ]
     },
     "execution_count": 5,
     "metadata": {},
     "output_type": "execute_result"
    }
   ],
   "source": [
    "N = 3\n",
    "M = 3\n",
    "mat = [ [ 3, 30, 38 ], [ 44, 52, 54 ], [ 57, 60, 69 ] ]\n",
    "X = 62\n",
    "search(mat,N,M,X)"
   ]
  },
  {
   "cell_type": "code",
   "execution_count": 6,
   "id": "59fefc5e",
   "metadata": {},
   "outputs": [
    {
     "data": {
      "text/plain": [
       "1"
      ]
     },
     "execution_count": 6,
     "metadata": {},
     "output_type": "execute_result"
    }
   ],
   "source": [
    "N = 1\n",
    "M = 6\n",
    "mat = [ [ 18, 21, 27, 38, 55, 67 ] ]\n",
    "X = 55\n",
    "search(mat,N,M,X)"
   ]
  },
  {
   "cell_type": "code",
   "execution_count": null,
   "id": "570cc118",
   "metadata": {},
   "outputs": [],
   "source": []
  },
  {
   "cell_type": "code",
   "execution_count": null,
   "id": "6c72b5f1",
   "metadata": {},
   "outputs": [],
   "source": []
  },
  {
   "cell_type": "markdown",
   "id": "89a73422",
   "metadata": {},
   "source": [
    "## Search a 2D Matrix (LC - 74)\n",
    "### Write an efficient algorithm that searches for a value target in an m x n integer matrix matrix. This matrix has the following properties:\n",
    "\n",
    "#### Integers in each row are sorted from left to right. The first integer of each row is greater than the last integer of the previous row.\n",
    " \n",
    "\n",
    "<b>Example 1:</b><br>\n",
    "<b>Input: </b><br>\n",
    "matrix = <br>\n",
    "[ [ 1, 3, 5, 7 ], <br>\n",
    " [ 10, 11, 16, 20 ], <br>\n",
    " [ 23, 30, 34, 60 ] ]<br>\n",
    "target = 3<br>\n",
    "<b>Output: </b><br>\n",
    "true\n",
    "\n",
    "<b>Example 2:</b><br>\n",
    "<b>Input: </b><br>\n",
    "matrix = <br>\n",
    "[ [ 1, 3, 5, 7 ], <br>\n",
    " [ 10, 11, 16, 20 ], <br>\n",
    " [ 23, 30, 34, 60 ] ]<br>\n",
    "target = 13<br>\n",
    "<b>Output:</b> <br>\n",
    "false"
   ]
  },
  {
   "cell_type": "code",
   "execution_count": null,
   "id": "7a081c03",
   "metadata": {},
   "outputs": [],
   "source": []
  },
  {
   "cell_type": "code",
   "execution_count": 7,
   "id": "3f65d506",
   "metadata": {},
   "outputs": [],
   "source": [
    "#Approach I (Same as above brute force code)\n",
    "#TC: O(N*M)\n",
    "#SC: O(1)"
   ]
  },
  {
   "cell_type": "code",
   "execution_count": 15,
   "id": "34a0bd9f",
   "metadata": {},
   "outputs": [],
   "source": [
    "#Apprach II (Binary Search)\n",
    "#TC: O(log(m*n))\n",
    "#SC: O(1)\n",
    "\n",
    "def search(matrix, n, m, target):\n",
    "    lo = 0\n",
    "    hi = (m*n)-1\n",
    "    while lo <= hi :\n",
    "        mid = (lo + (hi - lo) // 2);\n",
    "        if matrix[mid//m][mid % m] == target :\n",
    "            return True\n",
    "        if matrix[mid//m][mid % m] < target :\n",
    "            lo = mid + 1\n",
    "        else :\n",
    "            hi = mid - 1\n",
    "    return False"
   ]
  },
  {
   "cell_type": "code",
   "execution_count": 16,
   "id": "9d58341a",
   "metadata": {},
   "outputs": [
    {
     "data": {
      "text/plain": [
       "False"
      ]
     },
     "execution_count": 16,
     "metadata": {},
     "output_type": "execute_result"
    }
   ],
   "source": [
    "N = 3\n",
    "M = 3\n",
    "mat = [ [ 3, 30, 38 ], [ 44, 52, 54 ], [ 57, 60, 69 ] ]\n",
    "X = 62\n",
    "search(mat,N,M,X)"
   ]
  },
  {
   "cell_type": "code",
   "execution_count": 17,
   "id": "0fffd999",
   "metadata": {},
   "outputs": [
    {
     "data": {
      "text/plain": [
       "True"
      ]
     },
     "execution_count": 17,
     "metadata": {},
     "output_type": "execute_result"
    }
   ],
   "source": [
    "N = 1\n",
    "M = 6\n",
    "mat = [ [ 18, 21, 27, 38, 55, 67 ] ]\n",
    "X = 55\n",
    "search(mat,N,M,X)"
   ]
  },
  {
   "cell_type": "code",
   "execution_count": null,
   "id": "220a68c5",
   "metadata": {},
   "outputs": [],
   "source": []
  }
 ],
 "metadata": {
  "kernelspec": {
   "display_name": "Python 3",
   "language": "python",
   "name": "python3"
  },
  "language_info": {
   "codemirror_mode": {
    "name": "ipython",
    "version": 3
   },
   "file_extension": ".py",
   "mimetype": "text/x-python",
   "name": "python",
   "nbconvert_exporter": "python",
   "pygments_lexer": "ipython3",
   "version": "3.8.8"
  }
 },
 "nbformat": 4,
 "nbformat_minor": 5
}
