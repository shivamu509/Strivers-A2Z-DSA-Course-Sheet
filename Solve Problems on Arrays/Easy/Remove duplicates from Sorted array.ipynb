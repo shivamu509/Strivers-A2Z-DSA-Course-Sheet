{
 "cells": [
  {
   "cell_type": "markdown",
   "id": "9511c937",
   "metadata": {},
   "source": [
    "### Remove Duplicates in-place from Sorted Array\n",
    "\n",
    "#### Problem Statement: \n",
    "Given an integer array sorted in non-decreasing order, remove the duplicates in place such that each unique element appears only once. The relative order of the elements should be kept the same.\n",
    "\n",
    "If there are k elements after removing the duplicates, then the first k elements of the array should hold the final result. It does not matter what you leave beyond the first k elements.\n",
    "\n",
    "<b>Note:</b> Return k after placing the final result in the first k slots of the array.\n",
    "\n",
    "<b>Example 1: </b>\n",
    "\n",
    "Input: arr = [ 1, 1, 2, 2, 2, 3, 3 ]\n",
    "\n",
    "Output: [ 1, 2, 3, _, _, _, _ ]\n",
    "\n",
    "Explanation: Total number of unique elements are 3, i.e[1,2,3] and Therefore return 3 after assigning [1,2,3] in the beginning of the array.\n",
    "\n",
    "<b>Example 2: </b>\n",
    "\n",
    "Input: arr=[ 1, 1, 1, 2, 2, 3, 3, 3, 3, 4, 4 ]\n",
    "\n",
    "Output: [ 1, 2, 3, 4, _, _, _, _, _, _, _ ]\n",
    "\n",
    "Explanation: Total number of unique elements are 4, i.e[1,2,3,4] and Therefore return 4 after assigning [1,2,3,4] in the beginning of the array."
   ]
  },
  {
   "cell_type": "code",
   "execution_count": null,
   "id": "9b94a00a",
   "metadata": {},
   "outputs": [],
   "source": []
  },
  {
   "cell_type": "code",
   "execution_count": 1,
   "id": "c77ed5c6",
   "metadata": {},
   "outputs": [],
   "source": [
    "#Approach 1\n",
    "#TC: O(N)\n",
    "#SC: O(N)\n",
    "\n",
    "def unique(arr,n):\n",
    "    temp = list(set(arr))\n",
    "    n = len(temp)\n",
    "    for i in range(n):\n",
    "        arr[i] = temp[i]\n",
    "    return n"
   ]
  },
  {
   "cell_type": "code",
   "execution_count": 2,
   "id": "4728f754",
   "metadata": {},
   "outputs": [
    {
     "name": "stdout",
     "output_type": "stream",
     "text": [
      "1 2 3 "
     ]
    }
   ],
   "source": [
    "arr = [ 1, 1, 2, 2, 2, 3, 3 ]\n",
    "n = len(arr)\n",
    "k = unique(arr,n)\n",
    "for i in range(k):\n",
    "    print(arr[i],end=\" \")"
   ]
  },
  {
   "cell_type": "code",
   "execution_count": 3,
   "id": "d60555e3",
   "metadata": {},
   "outputs": [
    {
     "name": "stdout",
     "output_type": "stream",
     "text": [
      "1 2 3 4 "
     ]
    }
   ],
   "source": [
    "arr = [ 1, 1, 1, 2, 2, 3, 3, 3, 3, 4, 4 ]\n",
    "n = len(arr)\n",
    "k = unique(arr,n)\n",
    "for i in range(k):\n",
    "    print(arr[i],end=\" \")"
   ]
  },
  {
   "cell_type": "code",
   "execution_count": null,
   "id": "dd2d5715",
   "metadata": {},
   "outputs": [],
   "source": []
  },
  {
   "cell_type": "code",
   "execution_count": 4,
   "id": "adb7160f",
   "metadata": {},
   "outputs": [],
   "source": [
    "#Approach II\n",
    "#TC: O(N)\n",
    "#SC: O(1)\n",
    "\n",
    "def unique(arr,N):\n",
    "    count = 0\n",
    "    for i in range(1,N):\n",
    "        if arr[count]!=arr[i]:\n",
    "            count += 1\n",
    "            arr[count]=arr[i]\n",
    "    return count+1"
   ]
  },
  {
   "cell_type": "code",
   "execution_count": 5,
   "id": "1a02a094",
   "metadata": {},
   "outputs": [
    {
     "name": "stdout",
     "output_type": "stream",
     "text": [
      "1 2 3 "
     ]
    }
   ],
   "source": [
    "arr = [ 1, 1, 2, 2, 2, 3, 3 ]\n",
    "n = len(arr)\n",
    "k = unique(arr,n)\n",
    "for i in range(k):\n",
    "    print(arr[i],end=\" \")"
   ]
  },
  {
   "cell_type": "code",
   "execution_count": 6,
   "id": "55a0bcb9",
   "metadata": {},
   "outputs": [
    {
     "name": "stdout",
     "output_type": "stream",
     "text": [
      "1 2 3 4 "
     ]
    }
   ],
   "source": [
    "arr = [ 1, 1, 1, 2, 2, 3, 3, 3, 3, 4, 4 ]\n",
    "n = len(arr)\n",
    "k = unique(arr,n)\n",
    "for i in range(k):\n",
    "    print(arr[i],end=\" \")"
   ]
  },
  {
   "cell_type": "code",
   "execution_count": null,
   "id": "5eb2c4d4",
   "metadata": {},
   "outputs": [],
   "source": []
  },
  {
   "cell_type": "markdown",
   "id": "fad1aae0",
   "metadata": {},
   "source": [
    "### Reference\n",
    "\n",
    "<img src=\"https://imgs.search.brave.com/ZmYjco8YPl2Z0JnZvQ0oZd1DVDiP2cWbFBzjrEvY2NE/rs:fit:848:491:1/g:ce/aHR0cHM6Ly9pMC53/cC5jb20vd3d3Lmdv/bGlicmFyeS5jby93/cC1jb250ZW50L3Vw/bG9hZHMvMjAyMC8w/My9kdXBsaWNhdGVf/YXJyX2VsZW1lbnRz/LnBuZw\">"
   ]
  },
  {
   "cell_type": "code",
   "execution_count": null,
   "id": "8611be04",
   "metadata": {},
   "outputs": [],
   "source": []
  }
 ],
 "metadata": {
  "kernelspec": {
   "display_name": "Python 3",
   "language": "python",
   "name": "python3"
  },
  "language_info": {
   "codemirror_mode": {
    "name": "ipython",
    "version": 3
   },
   "file_extension": ".py",
   "mimetype": "text/x-python",
   "name": "python",
   "nbconvert_exporter": "python",
   "pygments_lexer": "ipython3",
   "version": "3.8.8"
  }
 },
 "nbformat": 4,
 "nbformat_minor": 5
}
