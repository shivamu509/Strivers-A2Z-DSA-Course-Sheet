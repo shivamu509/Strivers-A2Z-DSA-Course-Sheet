{
 "cells": [
  {
   "cell_type": "markdown",
   "id": "91ae9337",
   "metadata": {},
   "source": [
    "## Linear Search \n",
    "#### Problem Statement: Given an array, and an element num the task is to find if num is present in the given array or not. If present print the index of the element or print -1.\n",
    "\n",
    "##### Examples:\n",
    "\n",
    "<b>Example 1:</b><br>\n",
    "<b>Input:</b> <br>\n",
    "arr[]= 1 2 3 4 5, num = 3<br>\n",
    "<b>Output:</b> 2<br>\n",
    "<b>Explanation:</b> 3 is present in the 2nd index\n",
    "\n",
    "<b>Example 2:</b><br>\n",
    "<b>Input:</b> <br>\n",
    "arr[]= 5 4 3 2 1, num = 7<br>\n",
    "<b>Output:</b> -1<br>\n",
    "<b>Explanation:</b> 7 is not present in the array"
   ]
  },
  {
   "cell_type": "code",
   "execution_count": null,
   "id": "7fd04882",
   "metadata": {},
   "outputs": [],
   "source": []
  },
  {
   "cell_type": "code",
   "execution_count": 1,
   "id": "72f56b2a",
   "metadata": {},
   "outputs": [],
   "source": [
    "#TC: O(N)\n",
    "#SC: O(1)\n",
    "\n",
    "def search(arr,num):\n",
    "    for i in range(len(arr)):\n",
    "        if arr[i] == num:\n",
    "            return i\n",
    "    return -1"
   ]
  },
  {
   "cell_type": "code",
   "execution_count": 2,
   "id": "9c54597d",
   "metadata": {},
   "outputs": [
    {
     "data": {
      "text/plain": [
       "2"
      ]
     },
     "execution_count": 2,
     "metadata": {},
     "output_type": "execute_result"
    }
   ],
   "source": [
    "arr = [1, 2, 3, 4, 5] \n",
    "num = 3\n",
    "search(arr,num)"
   ]
  },
  {
   "cell_type": "code",
   "execution_count": 4,
   "id": "2a15396a",
   "metadata": {},
   "outputs": [
    {
     "data": {
      "text/plain": [
       "-1"
      ]
     },
     "execution_count": 4,
     "metadata": {},
     "output_type": "execute_result"
    }
   ],
   "source": [
    "arr = [5, 4, 3, 2, 1]\n",
    "num = 7\n",
    "search(arr,num)"
   ]
  },
  {
   "cell_type": "code",
   "execution_count": null,
   "id": "99b0648a",
   "metadata": {},
   "outputs": [],
   "source": []
  }
 ],
 "metadata": {
  "kernelspec": {
   "display_name": "Python 3",
   "language": "python",
   "name": "python3"
  },
  "language_info": {
   "codemirror_mode": {
    "name": "ipython",
    "version": 3
   },
   "file_extension": ".py",
   "mimetype": "text/x-python",
   "name": "python",
   "nbconvert_exporter": "python",
   "pygments_lexer": "ipython3",
   "version": "3.8.8"
  }
 },
 "nbformat": 4,
 "nbformat_minor": 5
}
