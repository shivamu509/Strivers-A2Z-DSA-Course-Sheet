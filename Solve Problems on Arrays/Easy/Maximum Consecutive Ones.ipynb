{
 "cells": [
  {
   "cell_type": "markdown",
   "id": "913cf6a0",
   "metadata": {},
   "source": [
    "## Maximum Consecutive Ones\n",
    "### Given a binary array nums, return the maximum number of consecutive 1's in the array.\n",
    "\n",
    "<b>Example 1:</b><br>\n",
    "Input: nums = [1,1,0,1,1,1]<br>\n",
    "Output: 3<br>\n",
    "Explanation: The first two digits or the last three digits are consecutive 1s. The maximum number of consecutive 1s is 3.\n",
    "\n",
    "<b>Example 2:</b><br>\n",
    "Input: nums = [1,0,1,1,0,1]<br>\n",
    "Output: 2"
   ]
  },
  {
   "cell_type": "code",
   "execution_count": 1,
   "id": "b0dcea65",
   "metadata": {},
   "outputs": [],
   "source": [
    "#Approach I (Brute Force)\n",
    "#TC: O(N^2)\n",
    "#SC: O(N)\n",
    "\n",
    "def findMaxConsecutiveOnes(arr):\n",
    "    n = len(arr)\n",
    "    ans = []\n",
    "    for i in range(n):\n",
    "        count = 0\n",
    "        for j in range(i,n):\n",
    "            if arr[j]==0:\n",
    "                break\n",
    "            count += 1\n",
    "        ans.append(count)\n",
    "    return max(ans)"
   ]
  },
  {
   "cell_type": "code",
   "execution_count": 2,
   "id": "059cb924",
   "metadata": {},
   "outputs": [
    {
     "data": {
      "text/plain": [
       "3"
      ]
     },
     "execution_count": 2,
     "metadata": {},
     "output_type": "execute_result"
    }
   ],
   "source": [
    "findMaxConsecutiveOnes([1,1,0,1,1,1])"
   ]
  },
  {
   "cell_type": "code",
   "execution_count": 3,
   "id": "4d4ac459",
   "metadata": {
    "scrolled": true
   },
   "outputs": [
    {
     "data": {
      "text/plain": [
       "2"
      ]
     },
     "execution_count": 3,
     "metadata": {},
     "output_type": "execute_result"
    }
   ],
   "source": [
    "findMaxConsecutiveOnes([1,0,1,1,0,1])"
   ]
  },
  {
   "cell_type": "code",
   "execution_count": null,
   "id": "eef3f8e8",
   "metadata": {},
   "outputs": [],
   "source": []
  },
  {
   "cell_type": "code",
   "execution_count": 4,
   "id": "729fd135",
   "metadata": {},
   "outputs": [],
   "source": [
    "#Approach II (Two Pointer)\n",
    "#TC: O(N)\n",
    "#SC: O(1)\n",
    "\n",
    "def findMaxConsecutiveOnes(arr):\n",
    "    count = 0\n",
    "    maxi = 0\n",
    "    for i in arr:\n",
    "        if i == 0:\n",
    "            count = 0\n",
    "        else:\n",
    "            count += 1\n",
    "        maxi = max(maxi,count)\n",
    "    return maxi"
   ]
  },
  {
   "cell_type": "code",
   "execution_count": 5,
   "id": "5cc6d5f4",
   "metadata": {},
   "outputs": [
    {
     "data": {
      "text/plain": [
       "3"
      ]
     },
     "execution_count": 5,
     "metadata": {},
     "output_type": "execute_result"
    }
   ],
   "source": [
    "findMaxConsecutiveOnes([1,1,0,1,1,1])"
   ]
  },
  {
   "cell_type": "code",
   "execution_count": 6,
   "id": "d3541e2c",
   "metadata": {
    "scrolled": true
   },
   "outputs": [
    {
     "data": {
      "text/plain": [
       "2"
      ]
     },
     "execution_count": 6,
     "metadata": {},
     "output_type": "execute_result"
    }
   ],
   "source": [
    "findMaxConsecutiveOnes([1,0,1,1,0,1])"
   ]
  },
  {
   "cell_type": "code",
   "execution_count": null,
   "id": "7cf04782",
   "metadata": {},
   "outputs": [],
   "source": []
  }
 ],
 "metadata": {
  "kernelspec": {
   "display_name": "Python 3",
   "language": "python",
   "name": "python3"
  },
  "language_info": {
   "codemirror_mode": {
    "name": "ipython",
    "version": 3
   },
   "file_extension": ".py",
   "mimetype": "text/x-python",
   "name": "python",
   "nbconvert_exporter": "python",
   "pygments_lexer": "ipython3",
   "version": "3.8.8"
  }
 },
 "nbformat": 4,
 "nbformat_minor": 5
}
