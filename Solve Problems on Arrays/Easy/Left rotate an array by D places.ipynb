{
 "cells": [
  {
   "cell_type": "markdown",
   "id": "e4d6cc6d",
   "metadata": {},
   "source": [
    "## Rotate array by size k\n",
    "\n",
    "### Given an array arr[ ] of size N and an integer K, the task is to left rotate the array K indexes\n",
    "\n",
    "<b>Example 1:</b>\n",
    "\n",
    "Input: N = 7, K = 2<br>\n",
    "arr[] = [1, 2, 3, 4, 5, 6, 7]<br>\n",
    "Output: 3 4 5 6 7 1 2<br>\n",
    "Explanation: Rotation of the above \n",
    "array by 2 will make the output array .\n",
    "\n",
    "<b>Example 2:</b>\n",
    "\n",
    "Input: N = 6, K = 12<br>\n",
    "arr[] = [1, 2, 3, 4, 5, 6]<br>\n",
    "Output: 1 2 3 4 5 6"
   ]
  },
  {
   "cell_type": "code",
   "execution_count": null,
   "id": "82b2f95a",
   "metadata": {},
   "outputs": [],
   "source": []
  },
  {
   "cell_type": "code",
   "execution_count": 3,
   "id": "a8238e3b",
   "metadata": {},
   "outputs": [],
   "source": [
    "#Approach I\n",
    "#TC: O(N)\n",
    "#SC: O(K) (k is no of shift)\n",
    "\n",
    "def leftRotate(arr, n, d):\n",
    "    d = d%n\n",
    "    temp = []\n",
    "\n",
    "    for i in range(d-1,-1,-1):\n",
    "        temp.append(arr[i])\n",
    "\n",
    "    for i in range(d,n):\n",
    "        arr[i-d] = arr[i]\n",
    "\n",
    "    for i in range(d):\n",
    "        arr[n-i-1] = temp[i]"
   ]
  },
  {
   "cell_type": "code",
   "execution_count": 5,
   "id": "af14b64e",
   "metadata": {},
   "outputs": [
    {
     "name": "stdout",
     "output_type": "stream",
     "text": [
      "[3, 4, 5, 6, 7, 1, 2]\n"
     ]
    }
   ],
   "source": [
    "n = 7\n",
    "d = 2\n",
    "arr = [1, 2, 3, 4, 5, 6, 7]\n",
    "leftRotate(arr,n,d)\n",
    "print(arr)"
   ]
  },
  {
   "cell_type": "code",
   "execution_count": 6,
   "id": "e8d78a8b",
   "metadata": {},
   "outputs": [
    {
     "name": "stdout",
     "output_type": "stream",
     "text": [
      "[1, 2, 3, 4, 5, 6]\n"
     ]
    }
   ],
   "source": [
    "n = 6\n",
    "d = 12\n",
    "arr = [1, 2, 3, 4, 5, 6]\n",
    "leftRotate(arr,n,d)\n",
    "print(arr)"
   ]
  },
  {
   "cell_type": "code",
   "execution_count": null,
   "id": "0190eebf",
   "metadata": {},
   "outputs": [],
   "source": []
  },
  {
   "cell_type": "code",
   "execution_count": 36,
   "id": "c6f98f63",
   "metadata": {},
   "outputs": [],
   "source": [
    "#Approach II  ( 1. rotate 0 to k-1 )( 2. rotate k to n-1 )( 3. rotate 0 to n-1 )\n",
    "#TC: O(N)\n",
    "#SC: O(1)\n",
    "\n",
    "def leftRotate(arr, n, d):\n",
    "    \n",
    "    d = d%n\n",
    "    n = n-1\n",
    "    \n",
    "    i = 0\n",
    "    j = d-1\n",
    "    while i < j : \n",
    "        arr[i], arr[j] = arr[j], arr[i]\n",
    "        i += 1\n",
    "        j -= 1\n",
    "    print(\"After 0 to d reverse: \",arr)\n",
    "    \n",
    "    j = n\n",
    "    i = d\n",
    "    while i < j :\n",
    "        arr[i], arr[j] = arr[j], arr[i]\n",
    "        i += 1\n",
    "        j -= 1\n",
    "    print(\"After d to n reverse: \",arr)\n",
    "    \n",
    "    i = 0\n",
    "    while i < n:\n",
    "        arr[i], arr[n] = arr[n], arr[i]\n",
    "        i += 1\n",
    "        n -= 1\n",
    "    print(\"After 0 to n reverse: \",arr)"
   ]
  },
  {
   "cell_type": "code",
   "execution_count": 37,
   "id": "e6fa9d52",
   "metadata": {},
   "outputs": [
    {
     "name": "stdout",
     "output_type": "stream",
     "text": [
      "Original array:  [1, 2, 3, 4, 5, 6, 7]\n",
      "After 0 to d reverse:  [3, 2, 1, 4, 5, 6, 7]\n",
      "After d to n reverse:  [3, 2, 1, 7, 6, 5, 4]\n",
      "After 0 to n reverse:  [4, 5, 6, 7, 1, 2, 3]\n",
      "Rotated array:  [4, 5, 6, 7, 1, 2, 3]\n"
     ]
    }
   ],
   "source": [
    "n = 7\n",
    "d = 3\n",
    "arr = [1, 2, 3, 4, 5, 6, 7]\n",
    "print(\"Original array: \",arr)\n",
    "leftRotate(arr,n,d)\n",
    "print(\"Rotated array: \",arr)"
   ]
  },
  {
   "cell_type": "code",
   "execution_count": 38,
   "id": "3c031db9",
   "metadata": {},
   "outputs": [
    {
     "name": "stdout",
     "output_type": "stream",
     "text": [
      "Original array:  [1, 2, 3, 4, 5, 6]\n",
      "After 0 to d reverse:  [1, 2, 3, 4, 5, 6]\n",
      "After d to n reverse:  [6, 5, 4, 3, 2, 1]\n",
      "After 0 to n reverse:  [1, 2, 3, 4, 5, 6]\n",
      "Rotated array:  [1, 2, 3, 4, 5, 6]\n"
     ]
    }
   ],
   "source": [
    "n = 6\n",
    "d = 12\n",
    "arr = [1, 2, 3, 4, 5, 6]\n",
    "print(\"Original array: \",arr)\n",
    "leftRotate(arr,n,d)\n",
    "print(\"Rotated array: \",arr)"
   ]
  },
  {
   "cell_type": "code",
   "execution_count": null,
   "id": "48156eec",
   "metadata": {},
   "outputs": [],
   "source": []
  }
 ],
 "metadata": {
  "kernelspec": {
   "display_name": "Python 3",
   "language": "python",
   "name": "python3"
  },
  "language_info": {
   "codemirror_mode": {
    "name": "ipython",
    "version": 3
   },
   "file_extension": ".py",
   "mimetype": "text/x-python",
   "name": "python",
   "nbconvert_exporter": "python",
   "pygments_lexer": "ipython3",
   "version": "3.8.8"
  }
 },
 "nbformat": 4,
 "nbformat_minor": 5
}
