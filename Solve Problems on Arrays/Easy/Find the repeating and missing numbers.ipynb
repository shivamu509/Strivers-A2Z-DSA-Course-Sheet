{
 "cells": [
  {
   "cell_type": "markdown",
   "id": "be723133",
   "metadata": {},
   "source": [
    "## Find the repeating and missing numbers\n",
    "### Problem Statement: You are given a read-only array of N integers with values also in the range [1, N] both inclusive. Each integer appears exactly once except A which appears twice and B which is missing. The task is to find the repeating and missing numbers A and B where A repeats twice and B is missing.\n",
    "\n",
    "<b>Example:</b><br>\n",
    "<b>Input Format:</b>  array[] = [3,1,2,5,3]<br>\n",
    "<b>Result:</b> [3,4]<br>\n",
    "<b>Explanation:</b> A = 3 , B = 4 <br>\n",
    "Since 3 is appearing twice and 4 is missing"
   ]
  },
  {
   "cell_type": "code",
   "execution_count": null,
   "id": "1c3ab344",
   "metadata": {},
   "outputs": [],
   "source": []
  },
  {
   "cell_type": "code",
   "execution_count": 1,
   "id": "203ed696",
   "metadata": {},
   "outputs": [],
   "source": [
    "#Approach I  (Brute Force)\n",
    "#TC: O(N)\n",
    "#SC: O(N)\n",
    "\n",
    "def find(arr):\n",
    "    n = len(arr)\n",
    "    temp = {}\n",
    "    for i in arr:\n",
    "        if i in temp:\n",
    "            temp[i] += 1\n",
    "        else:\n",
    "            temp[i] = 1\n",
    "    \n",
    "    ans = [-1,-1]\n",
    "    for i in range(1,n+1):\n",
    "        if i in temp:\n",
    "            if temp[i]>1:\n",
    "                ans[1] = i\n",
    "        else:\n",
    "            ans[0] = i\n",
    "    print(\"Missing Number: \", ans[0])\n",
    "    print(\"Duplicate Number: \", ans[1])"
   ]
  },
  {
   "cell_type": "code",
   "execution_count": 2,
   "id": "cc166a2d",
   "metadata": {},
   "outputs": [
    {
     "name": "stdout",
     "output_type": "stream",
     "text": [
      "Missing Number:  4\n",
      "Duplicate Number:  3\n"
     ]
    }
   ],
   "source": [
    "arr = [3,1,2,5,3]\n",
    "ans = find(arr)"
   ]
  },
  {
   "cell_type": "code",
   "execution_count": null,
   "id": "58c06c89",
   "metadata": {},
   "outputs": [],
   "source": []
  },
  {
   "cell_type": "code",
   "execution_count": 3,
   "id": "0b0bcbbd",
   "metadata": {},
   "outputs": [],
   "source": [
    "#Approach II\n",
    "#TC: O(N)\n",
    "#SC: O(1)\n",
    "def find(arr):\n",
    "    n = len(arr)\n",
    "    s = sum(arr)\n",
    "    m = sum(set(arr))\n",
    "    n_terms_sum = n*(n+1)//2\n",
    "    missing = n_terms_sum - m\n",
    "    repeat = s-m\n",
    "    print(\"Missing Number: \", missing)\n",
    "    print(\"Duplicate Number: \", repeat)"
   ]
  },
  {
   "cell_type": "code",
   "execution_count": 4,
   "id": "3d113d68",
   "metadata": {},
   "outputs": [
    {
     "name": "stdout",
     "output_type": "stream",
     "text": [
      "Missing Number:  4\n",
      "Duplicate Number:  3\n"
     ]
    }
   ],
   "source": [
    "arr = [3,1,2,5,3]\n",
    "ans = find(arr)"
   ]
  },
  {
   "cell_type": "code",
   "execution_count": null,
   "id": "3113660e",
   "metadata": {},
   "outputs": [],
   "source": []
  },
  {
   "cell_type": "code",
   "execution_count": 5,
   "id": "db654e3b",
   "metadata": {},
   "outputs": [],
   "source": [
    "#Approach III (Swap Sort) (Work to find multiple missing and duplicate too)\n",
    "#Tc: O(N)\n",
    "#SC: O(1)\n",
    "\n",
    "def find(arr):\n",
    "    n = len(arr)\n",
    "    print(\"Original Array: \",arr)\n",
    "    i = 0\n",
    "    while i!=n:\n",
    "        if arr[i] == i+1 or arr[i] == arr[arr[i]-1]:\n",
    "                i += 1\n",
    "        else:\n",
    "            t = arr[i]\n",
    "            arr[i], arr[t-1] = arr[t-1], t     \n",
    "    print(\"Sorted Array: \",arr)\n",
    "    missing = []\n",
    "    duplicate = []\n",
    "    for i in range(1,n+1):\n",
    "        if arr[i-1] != i:\n",
    "            missing.append(i)\n",
    "            duplicate.append(arr[i-1])\n",
    "    \n",
    "    print(\"Missing Number: \", missing)\n",
    "    print(\"Duplicate Number: \", duplicate)"
   ]
  },
  {
   "cell_type": "code",
   "execution_count": 6,
   "id": "389601c3",
   "metadata": {
    "scrolled": true
   },
   "outputs": [
    {
     "name": "stdout",
     "output_type": "stream",
     "text": [
      "Original Array:  [3, 1, 2, 5, 3]\n",
      "Sorted Array:  [1, 2, 3, 3, 5]\n",
      "Missing Number:  [4]\n",
      "Duplicate Number:  [3]\n"
     ]
    }
   ],
   "source": [
    "arr = [3,1,2,5,3]\n",
    "ans = find(arr)"
   ]
  },
  {
   "cell_type": "code",
   "execution_count": 7,
   "id": "567ec4e6",
   "metadata": {
    "scrolled": true
   },
   "outputs": [
    {
     "name": "stdout",
     "output_type": "stream",
     "text": [
      "Original Array:  [2, 3, 1, 5, 1]\n",
      "Sorted Array:  [1, 2, 3, 1, 5]\n",
      "Missing Number:  [4]\n",
      "Duplicate Number:  [1]\n"
     ]
    }
   ],
   "source": [
    "arr = [2, 3, 1, 5, 1]\n",
    "ans = find(arr)"
   ]
  },
  {
   "cell_type": "code",
   "execution_count": 8,
   "id": "5967d029",
   "metadata": {},
   "outputs": [
    {
     "name": "stdout",
     "output_type": "stream",
     "text": [
      "Original Array:  [2, 3, 1, 5, 1, 3]\n",
      "Sorted Array:  [1, 2, 3, 1, 5, 3]\n",
      "Missing Number:  [4, 6]\n",
      "Duplicate Number:  [1, 3]\n"
     ]
    }
   ],
   "source": [
    "#For multiple missing and duplcate\n",
    "arr = [2, 3, 1, 5, 1, 3]\n",
    "ans = find(arr)"
   ]
  },
  {
   "cell_type": "code",
   "execution_count": 9,
   "id": "04dc5354",
   "metadata": {},
   "outputs": [
    {
     "name": "stdout",
     "output_type": "stream",
     "text": [
      "Original Array:  [1, 1, 1, 1, 1, 1, 1]\n",
      "Sorted Array:  [1, 1, 1, 1, 1, 1, 1]\n",
      "Missing Number:  [2, 3, 4, 5, 6, 7]\n",
      "Duplicate Number:  [1, 1, 1, 1, 1, 1]\n"
     ]
    }
   ],
   "source": [
    "arr = [1,1,1,1,1,1,1]\n",
    "ans = find(arr)"
   ]
  },
  {
   "cell_type": "code",
   "execution_count": 10,
   "id": "da01dbe0",
   "metadata": {},
   "outputs": [
    {
     "name": "stdout",
     "output_type": "stream",
     "text": [
      "Original Array:  [2, 3, 5, 8, 2, 3, 5, 1]\n",
      "Sorted Array:  [1, 2, 3, 2, 5, 3, 5, 8]\n",
      "Missing Number:  [4, 6, 7]\n",
      "Duplicate Number:  [2, 3, 5]\n"
     ]
    }
   ],
   "source": [
    "arr = [2,3,5,8,2,3,5,1]\n",
    "ans = find(arr)"
   ]
  },
  {
   "cell_type": "code",
   "execution_count": null,
   "id": "a4251ab0",
   "metadata": {},
   "outputs": [],
   "source": []
  }
 ],
 "metadata": {
  "kernelspec": {
   "display_name": "Python 3",
   "language": "python",
   "name": "python3"
  },
  "language_info": {
   "codemirror_mode": {
    "name": "ipython",
    "version": 3
   },
   "file_extension": ".py",
   "mimetype": "text/x-python",
   "name": "python",
   "nbconvert_exporter": "python",
   "pygments_lexer": "ipython3",
   "version": "3.8.8"
  }
 },
 "nbformat": 4,
 "nbformat_minor": 5
}
