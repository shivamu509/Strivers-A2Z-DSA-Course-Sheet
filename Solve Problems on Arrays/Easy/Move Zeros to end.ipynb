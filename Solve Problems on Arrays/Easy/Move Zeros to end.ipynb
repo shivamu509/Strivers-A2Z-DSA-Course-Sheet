{
 "cells": [
  {
   "cell_type": "markdown",
   "id": "5e66003c",
   "metadata": {},
   "source": [
    "## Move all zeroes to end of array\n",
    "#### Given an array arr[ ] of N positive integers. Push all the zeros of the given array to the right end of the array while maitaining the order of non-zero elements.\n",
    "<b>Example:</b>\n",
    "<b>Input:</b><br>\n",
    "N = 5<br>\n",
    "Arr[ ] = [3, 5, 0, 0, 4]<br>\n",
    "<b>Output:</b> 3 5 4 0 0<br>\n",
    "<b>Explanation:</b> The non-zero elements\n",
    "preserve their order while the 0\n",
    "elements are moved to the right."
   ]
  },
  {
   "cell_type": "code",
   "execution_count": null,
   "id": "e0617f32",
   "metadata": {},
   "outputs": [],
   "source": []
  },
  {
   "cell_type": "code",
   "execution_count": 7,
   "id": "e12a8b27",
   "metadata": {},
   "outputs": [],
   "source": [
    "#Approach I (Brute Force)\n",
    "#TC: O(N)\n",
    "#SC: O(N)\n",
    "\n",
    "def moveZeroes(arr):\n",
    "    nonZero=[]\n",
    "    nonZeroLength = 0\n",
    "    zero=[]\n",
    "    n = len(arr)\n",
    "    for i in range(n):\n",
    "        if arr[i]==0:\n",
    "            zero.append(0)\n",
    "        else:\n",
    "            nonZero.append(arr[i])\n",
    "            nonZeroLength += 1\n",
    "    for i in range(n):\n",
    "        if i < nonZeroLength:\n",
    "            arr[i] = nonZero[i]\n",
    "        else:\n",
    "            arr[i] = zero[i-nonZeroLength]"
   ]
  },
  {
   "cell_type": "code",
   "execution_count": 8,
   "id": "7b548d90",
   "metadata": {},
   "outputs": [
    {
     "name": "stdout",
     "output_type": "stream",
     "text": [
      "[3, 5, 4, 0, 0]\n"
     ]
    }
   ],
   "source": [
    "arr = [3, 5, 0, 0, 4]\n",
    "moveZeroes(arr)\n",
    "print(arr)"
   ]
  },
  {
   "cell_type": "code",
   "execution_count": 9,
   "id": "bf558738",
   "metadata": {},
   "outputs": [
    {
     "name": "stdout",
     "output_type": "stream",
     "text": [
      "[4, 0, 0, 0]\n"
     ]
    }
   ],
   "source": [
    "arr = [0, 4, 0, 0]\n",
    "moveZeroes(arr)\n",
    "print(arr)"
   ]
  },
  {
   "cell_type": "code",
   "execution_count": null,
   "id": "7b9c8c21",
   "metadata": {},
   "outputs": [],
   "source": []
  },
  {
   "cell_type": "code",
   "execution_count": 10,
   "id": "a1fc2f4a",
   "metadata": {},
   "outputs": [],
   "source": [
    "#Approach II (Two pointer approach)\n",
    "#TC: O(N)\n",
    "#SC: O(1)\n",
    "\n",
    "def moveZeroes(arr):\n",
    "    n = len(arr)\n",
    "    i = 0\n",
    "    j = 0\n",
    "    while j != n:\n",
    "        if arr[j] != 0:\n",
    "            arr[i], arr[j] = arr[j], arr[i]\n",
    "            i += 1\n",
    "        j += 1"
   ]
  },
  {
   "cell_type": "code",
   "execution_count": 11,
   "id": "9fd964fd",
   "metadata": {
    "scrolled": true
   },
   "outputs": [
    {
     "name": "stdout",
     "output_type": "stream",
     "text": [
      "[3, 5, 4, 0, 0]\n"
     ]
    }
   ],
   "source": [
    "arr = [3, 5, 0, 0, 4]\n",
    "moveZeroes(arr)\n",
    "print(arr)"
   ]
  },
  {
   "cell_type": "code",
   "execution_count": 12,
   "id": "8e1e33cc",
   "metadata": {},
   "outputs": [
    {
     "name": "stdout",
     "output_type": "stream",
     "text": [
      "[4, 0, 0, 0]\n"
     ]
    }
   ],
   "source": [
    "arr = [0, 4, 0, 0]\n",
    "moveZeroes(arr)\n",
    "print(arr)"
   ]
  },
  {
   "cell_type": "code",
   "execution_count": null,
   "id": "cf7ea178",
   "metadata": {},
   "outputs": [],
   "source": []
  }
 ],
 "metadata": {
  "kernelspec": {
   "display_name": "Python 3",
   "language": "python",
   "name": "python3"
  },
  "language_info": {
   "codemirror_mode": {
    "name": "ipython",
    "version": 3
   },
   "file_extension": ".py",
   "mimetype": "text/x-python",
   "name": "python",
   "nbconvert_exporter": "python",
   "pygments_lexer": "ipython3",
   "version": "3.8.8"
  }
 },
 "nbformat": 4,
 "nbformat_minor": 5
}
