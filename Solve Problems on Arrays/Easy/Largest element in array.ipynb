{
 "cells": [
  {
   "cell_type": "markdown",
   "id": "b9847fd9",
   "metadata": {},
   "source": [
    "### Statement: Given an array A[ ] of size n. The task is to find the largest element in it.\n",
    " \n",
    "\n",
    "Example 1:\n",
    "\n",
    "Input:<br>\n",
    "n = 5<br>\n",
    "A[ ] = [1, 8, 7, 56, 90]<br>\n",
    "Output:<br>\n",
    "90<br>\n",
    "Explanation:<br>\n",
    "The largest element of given array is 90."
   ]
  },
  {
   "cell_type": "code",
   "execution_count": null,
   "id": "f15611ac",
   "metadata": {},
   "outputs": [],
   "source": []
  },
  {
   "cell_type": "code",
   "execution_count": 7,
   "id": "1a03742d",
   "metadata": {},
   "outputs": [],
   "source": [
    "#Approach-1 \n",
    "\n",
    "#TC: O(NlogN) (sorting time)\n",
    "#SC: O(1)\n",
    "\n",
    "def largest(arr, n):\n",
    "    arr.sort()\n",
    "    return arr[n-1]"
   ]
  },
  {
   "cell_type": "code",
   "execution_count": 8,
   "id": "a08ac80c",
   "metadata": {},
   "outputs": [
    {
     "name": "stdout",
     "output_type": "stream",
     "text": [
      "90\n"
     ]
    }
   ],
   "source": [
    "arr = [1, 8, 7, 56, 90]\n",
    "n = len(arr)\n",
    "print(largest(arr,n))"
   ]
  },
  {
   "cell_type": "code",
   "execution_count": null,
   "id": "e1b7ff39",
   "metadata": {},
   "outputs": [],
   "source": []
  },
  {
   "cell_type": "code",
   "execution_count": 9,
   "id": "732f4e17",
   "metadata": {},
   "outputs": [],
   "source": [
    "# Approach-2\n",
    "\n",
    "#TC: O(N)\n",
    "#SC: O(1)\n",
    "\n",
    "def largest(arr,n):\n",
    "    maxElement = arr[0]\n",
    "    for i in range(1,n):\n",
    "        if maxElement<arr[i]:\n",
    "            maxElement=arr[i]\n",
    "    return maxElement"
   ]
  },
  {
   "cell_type": "code",
   "execution_count": 10,
   "id": "cc6e23b1",
   "metadata": {},
   "outputs": [
    {
     "name": "stdout",
     "output_type": "stream",
     "text": [
      "90\n"
     ]
    }
   ],
   "source": [
    "arr = [1, 8, 7, 56, 90]\n",
    "n = len(arr)\n",
    "print(largest(arr,n))"
   ]
  },
  {
   "cell_type": "code",
   "execution_count": null,
   "id": "a5038976",
   "metadata": {},
   "outputs": [],
   "source": []
  }
 ],
 "metadata": {
  "kernelspec": {
   "display_name": "Python 3",
   "language": "python",
   "name": "python3"
  },
  "language_info": {
   "codemirror_mode": {
    "name": "ipython",
    "version": 3
   },
   "file_extension": ".py",
   "mimetype": "text/x-python",
   "name": "python",
   "nbconvert_exporter": "python",
   "pygments_lexer": "ipython3",
   "version": "3.8.8"
  }
 },
 "nbformat": 4,
 "nbformat_minor": 5
}
