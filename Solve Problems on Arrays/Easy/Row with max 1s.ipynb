{
 "cells": [
  {
   "cell_type": "markdown",
   "id": "6789c29b",
   "metadata": {},
   "source": [
    "## Row with max 1s\n",
    "### Given a boolean 2D array of n x m dimensions where each row is sorted. Find the 0-based index of the first row that has the maximum number of 1's.\n",
    "\n",
    "<b>Example 1:</b><br>\n",
    "<b>Input:</b> <br>\n",
    "N = 4 , M = 4 <br>\n",
    "arr = \n",
    "[{0, 1, 1, 1},\n",
    "{0, 0, 1, 1},\n",
    "{1, 1, 1, 1},\n",
    "{0, 0, 0, 0}]<br>\n",
    "<b>Output:</b> <br>\n",
    "2<br>\n",
    "<b>Explanation:</b> <br>\n",
    "Row 2 contains 4 1's (0-based indexing).\n",
    "\n",
    "<b>Example 2:</b><br>\n",
    "<b>Input:</b> <br>\n",
    "N = 2, M = 2 <br>\n",
    "arr = [{0, 0},{1, 1}]<br>\n",
    "<b>Output:</b> <br>\n",
    "1<br>\n",
    "<b>Explanation:</b> <br>\n",
    "Row 1 contains 2 1's (0-based indexing)."
   ]
  },
  {
   "cell_type": "code",
   "execution_count": 1,
   "id": "72dd9252",
   "metadata": {},
   "outputs": [],
   "source": [
    "#Approach I (brute force)\n",
    "#TC: O(N*M)\n",
    "#SC: O(1)\n",
    "\n",
    "def rowWithMax1s(arr, n, m):\n",
    "    maxidx = -1\n",
    "    maxi = 0\n",
    "    for i in range(n):\n",
    "        t = arr[i].count(1)\n",
    "        if maxi < t:\n",
    "            maxi = t\n",
    "            maxidx = i\n",
    "    return maxidx"
   ]
  },
  {
   "cell_type": "code",
   "execution_count": 3,
   "id": "9b496cb6",
   "metadata": {},
   "outputs": [
    {
     "data": {
      "text/plain": [
       "2"
      ]
     },
     "execution_count": 3,
     "metadata": {},
     "output_type": "execute_result"
    }
   ],
   "source": [
    "N = 4 \n",
    "M = 4\n",
    "arr = [[0, 1, 1, 1], [0, 0, 1, 1], [1, 1, 1, 1], [0, 0, 0, 0]]\n",
    "rowWithMax1s(arr, N, M)"
   ]
  },
  {
   "cell_type": "code",
   "execution_count": 4,
   "id": "9700fa17",
   "metadata": {},
   "outputs": [
    {
     "data": {
      "text/plain": [
       "1"
      ]
     },
     "execution_count": 4,
     "metadata": {},
     "output_type": "execute_result"
    }
   ],
   "source": [
    "N = 2\n",
    "M = 2\n",
    "arr = [[0, 0],[1, 1]]\n",
    "rowWithMax1s(arr, N, M)"
   ]
  },
  {
   "cell_type": "code",
   "execution_count": null,
   "id": "8d653998",
   "metadata": {},
   "outputs": [],
   "source": []
  },
  {
   "cell_type": "code",
   "execution_count": 7,
   "id": "8ebf26e2",
   "metadata": {},
   "outputs": [],
   "source": [
    "#Approach II \n",
    "#TC: O(N+M)\n",
    "#SC: O(1)\n",
    "def rowWithMax1s(arr, n, m):\n",
    "    val = -1\n",
    "    i = 0\n",
    "    j = m-1\n",
    "\n",
    "    while i<n and j >= 0:\n",
    "        if arr[i][j] == 1 and j == 0:\n",
    "            return i\n",
    "        if arr[i][j]==1:\n",
    "            j -= 1\n",
    "            val = i\n",
    "        else:\n",
    "            i += 1\n",
    "    return val"
   ]
  },
  {
   "cell_type": "code",
   "execution_count": 8,
   "id": "6a45d8d7",
   "metadata": {},
   "outputs": [
    {
     "data": {
      "text/plain": [
       "2"
      ]
     },
     "execution_count": 8,
     "metadata": {},
     "output_type": "execute_result"
    }
   ],
   "source": [
    "N = 4 \n",
    "M = 4\n",
    "arr = [[0, 1, 1, 1], [0, 0, 1, 1], [1, 1, 1, 1], [0, 0, 0, 0]]\n",
    "rowWithMax1s(arr, N, M)"
   ]
  },
  {
   "cell_type": "code",
   "execution_count": 9,
   "id": "66136662",
   "metadata": {},
   "outputs": [
    {
     "data": {
      "text/plain": [
       "1"
      ]
     },
     "execution_count": 9,
     "metadata": {},
     "output_type": "execute_result"
    }
   ],
   "source": [
    "N = 2\n",
    "M = 2\n",
    "arr = [[0, 0],[1, 1]]\n",
    "rowWithMax1s(arr, N, M)"
   ]
  },
  {
   "cell_type": "code",
   "execution_count": 10,
   "id": "a3bde7a9",
   "metadata": {},
   "outputs": [
    {
     "data": {
      "text/plain": [
       "-1"
      ]
     },
     "execution_count": 10,
     "metadata": {},
     "output_type": "execute_result"
    }
   ],
   "source": [
    "N = 2\n",
    "M = 2\n",
    "arr = [[0, 0],[0, 0]]\n",
    "rowWithMax1s(arr, N, M)"
   ]
  },
  {
   "cell_type": "code",
   "execution_count": null,
   "id": "65ff5856",
   "metadata": {},
   "outputs": [],
   "source": []
  }
 ],
 "metadata": {
  "kernelspec": {
   "display_name": "Python 3",
   "language": "python",
   "name": "python3"
  },
  "language_info": {
   "codemirror_mode": {
    "name": "ipython",
    "version": 3
   },
   "file_extension": ".py",
   "mimetype": "text/x-python",
   "name": "python",
   "nbconvert_exporter": "python",
   "pygments_lexer": "ipython3",
   "version": "3.8.8"
  }
 },
 "nbformat": 4,
 "nbformat_minor": 5
}
