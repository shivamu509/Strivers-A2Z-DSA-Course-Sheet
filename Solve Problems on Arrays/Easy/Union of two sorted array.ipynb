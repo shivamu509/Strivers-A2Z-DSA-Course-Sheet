{
 "cells": [
  {
   "cell_type": "markdown",
   "id": "2ff41644",
   "metadata": {},
   "source": [
    "## Union of Two Sorted Arrays\n",
    "### Problem statement: Given two sorted arrays of size n and m respectively, find their union.\n",
    "#### Union of two arrays can be defined as the common and distinct elements in the two arrays. \n",
    "<b>Input:</b> <br>\n",
    "n = 5, arr1[] = [1, 2, 3, 4, 5] <br>\n",
    "m = 3, arr2 [] = [1, 2, 3]<br>\n",
    "<b>Output:</b> 1 2 3 4 5<br>\n",
    "<b>Explanation:</b> Distinct elements including \n",
    "both the arrays are: 1 2 3 4 5."
   ]
  },
  {
   "cell_type": "code",
   "execution_count": 1,
   "id": "3410c721",
   "metadata": {},
   "outputs": [],
   "source": [
    "#Approach I (Use set to store distinct element from both array and then sort the array)\n",
    "#TC: O((N+M)Log(N+M))\n",
    "#sc: o(N+M)\n",
    "\n",
    "def mergeArrays(a,b,n,m):\n",
    "    return sorted(set(a+b))  #power of python XD"
   ]
  },
  {
   "cell_type": "code",
   "execution_count": 2,
   "id": "cf7c876a",
   "metadata": {},
   "outputs": [
    {
     "name": "stdout",
     "output_type": "stream",
     "text": [
      "1 2 3 4 5 "
     ]
    }
   ],
   "source": [
    "n = 5\n",
    "arr1 = [1, 2, 3, 4, 5]\n",
    "m = 3\n",
    "arr2 = [1, 2, 3]\n",
    "ans = mergeArrays(arr1,arr2,n,m)\n",
    "for i in ans:\n",
    "    print(i,end=\" \")"
   ]
  },
  {
   "cell_type": "code",
   "execution_count": 3,
   "id": "45d69e1a",
   "metadata": {},
   "outputs": [
    {
     "name": "stdout",
     "output_type": "stream",
     "text": [
      "3 4 5 12 28 37 42 43 46 "
     ]
    }
   ],
   "source": [
    "n = 2 \n",
    "m = 8\n",
    "arr1 = [12, 42]\n",
    "arr2 = [3, 4, 5, 28, 37, 42, 43, 46]\n",
    "ans = mergeArrays(arr1,arr2,n,m)\n",
    "for i in ans:\n",
    "    print(i,end=\" \")"
   ]
  },
  {
   "cell_type": "code",
   "execution_count": null,
   "id": "85fd7309",
   "metadata": {},
   "outputs": [],
   "source": []
  },
  {
   "cell_type": "code",
   "execution_count": 4,
   "id": "7e7b3388",
   "metadata": {},
   "outputs": [],
   "source": [
    "#Approach II (Two pointer approach)\n",
    "#TC: O(N+M)\n",
    "#SC: O(N+M)\n",
    "\n",
    "def mergeArrays(a,b,n,m):\n",
    "    '''\n",
    "    :param a: given sorted array a\n",
    "    :param n: size of sorted array a\n",
    "    :param b: given sorted array b\n",
    "    :param m: size of sorted array b\n",
    "    :return:  The union of both arrays as a list\n",
    "    '''\n",
    "\n",
    "    temp = []\n",
    "    i = 0\n",
    "    j = 0\n",
    "    while i!=n and j !=m:\n",
    "        if temp == []:\n",
    "            if a[i]<b[j]:\n",
    "                temp.append(a[i])\n",
    "                i+=1\n",
    "            else:\n",
    "                temp.append(b[j])\n",
    "                j+=1\n",
    "        elif a[i]==b[j]:\n",
    "            if a[i]!=temp[-1]:\n",
    "                temp.append(a[i])\n",
    "            i += 1\n",
    "            j += 1\n",
    "        elif a[i]<b[j]:\n",
    "            if a[i]!=temp[-1]:\n",
    "                temp.append(a[i])\n",
    "            i += 1\n",
    "        elif b[j]<a[i]:\n",
    "            if b[j]!= temp[-1]:\n",
    "                temp.append(b[j])\n",
    "            j += 1\n",
    "    \n",
    "    while i!=n:\n",
    "        if a[i]!=temp[-1]:\n",
    "            temp.append(a[i])\n",
    "        i += 1\n",
    "    \n",
    "    while j!=m:\n",
    "        if b[j]!= temp[-1]:\n",
    "            temp.append(b[j])\n",
    "        j += 1\n",
    "    \n",
    "    return temp"
   ]
  },
  {
   "cell_type": "code",
   "execution_count": 5,
   "id": "e73b7bd1",
   "metadata": {},
   "outputs": [
    {
     "name": "stdout",
     "output_type": "stream",
     "text": [
      "1 2 3 4 5 "
     ]
    }
   ],
   "source": [
    "n = 5\n",
    "arr1 = [1, 2, 3, 4, 5]\n",
    "m = 3\n",
    "arr2 = [1, 2, 3]\n",
    "ans = mergeArrays(arr1,arr2,n,m)\n",
    "for i in ans:\n",
    "    print(i,end=\" \")"
   ]
  },
  {
   "cell_type": "code",
   "execution_count": 6,
   "id": "95a81792",
   "metadata": {},
   "outputs": [
    {
     "name": "stdout",
     "output_type": "stream",
     "text": [
      "3 4 5 12 28 37 42 43 46 "
     ]
    }
   ],
   "source": [
    "n = 2 \n",
    "m = 8\n",
    "arr1 = [12, 42]\n",
    "arr2 = [3, 4, 5, 28, 37, 42, 43, 46]\n",
    "ans = mergeArrays(arr1,arr2,n,m)\n",
    "for i in ans:\n",
    "    print(i,end=\" \")"
   ]
  },
  {
   "cell_type": "code",
   "execution_count": null,
   "id": "c27d1510",
   "metadata": {},
   "outputs": [],
   "source": []
  }
 ],
 "metadata": {
  "kernelspec": {
   "display_name": "Python 3",
   "language": "python",
   "name": "python3"
  },
  "language_info": {
   "codemirror_mode": {
    "name": "ipython",
    "version": 3
   },
   "file_extension": ".py",
   "mimetype": "text/x-python",
   "name": "python",
   "nbconvert_exporter": "python",
   "pygments_lexer": "ipython3",
   "version": "3.8.8"
  }
 },
 "nbformat": 4,
 "nbformat_minor": 5
}
