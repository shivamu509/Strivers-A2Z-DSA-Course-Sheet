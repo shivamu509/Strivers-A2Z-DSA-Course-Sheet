{
 "cells": [
  {
   "cell_type": "markdown",
   "id": "fab2c450",
   "metadata": {},
   "source": [
    "### Left Rotate the Array by One\n",
    "### Problem Statement: Given an array of N integers, left rotate the array by one place.\n",
    "\n",
    "<b>Example 1:</b><br>\n",
    "Input: N = 5, array[ ] = [1,2,3,4,5]<br>\n",
    "Output: 2,3,4,5,1<br>\n",
    "Explanation: <br>\n",
    "Since all the elements in array will be shifted \n",
    "toward left by one so ‘2’ will now become the \n",
    "first index and and ‘1’ which was present at \n",
    "first index will be shifted at last.\n",
    "\n",
    "\n",
    "<b>Example 2:</b><br>\n",
    "Input: N = 1, array[ ] = [3]<br>\n",
    "Output: 3<br>\n",
    "Explanation: Here only element is present and so \n",
    "the element at first index will be shifted to \n",
    "last index which is also by the way the first index."
   ]
  },
  {
   "cell_type": "code",
   "execution_count": null,
   "id": "9148c12b",
   "metadata": {},
   "outputs": [],
   "source": []
  },
  {
   "cell_type": "code",
   "execution_count": 1,
   "id": "4b30a20c",
   "metadata": {},
   "outputs": [],
   "source": [
    "#Approach 1\n",
    "#TC: O(N)\n",
    "#SC: O(N)\n",
    "\n",
    "def rotate(arr,n):\n",
    "    temp = []\n",
    "    for i in range(1,n):\n",
    "        temp.append(arr[i])\n",
    "    temp.append(arr[0])\n",
    "    \n",
    "    for i in range(n):\n",
    "        arr[i] = temp[i]"
   ]
  },
  {
   "cell_type": "code",
   "execution_count": 2,
   "id": "b95417e3",
   "metadata": {
    "scrolled": true
   },
   "outputs": [
    {
     "name": "stdout",
     "output_type": "stream",
     "text": [
      "[2, 3, 4, 5, 1]\n"
     ]
    }
   ],
   "source": [
    "arr = [1,2,3,4,5]\n",
    "n = len(arr)\n",
    "rotate(arr,n)\n",
    "print(arr)"
   ]
  },
  {
   "cell_type": "code",
   "execution_count": null,
   "id": "866edf42",
   "metadata": {},
   "outputs": [],
   "source": []
  },
  {
   "cell_type": "code",
   "execution_count": 3,
   "id": "3465d863",
   "metadata": {},
   "outputs": [],
   "source": [
    "#Approach II\n",
    "#TC: O(N)\n",
    "#SC: O(1)\n",
    "\n",
    "def rotate(arr,n):\n",
    "    lastElement = arr[0]\n",
    "    for i in range(n-1):\n",
    "        arr[i]=arr[i+1]\n",
    "    arr[n-1]=lastElement"
   ]
  },
  {
   "cell_type": "code",
   "execution_count": 4,
   "id": "fec6551c",
   "metadata": {
    "scrolled": true
   },
   "outputs": [
    {
     "name": "stdout",
     "output_type": "stream",
     "text": [
      "[2, 3, 4, 5, 1]\n"
     ]
    }
   ],
   "source": [
    "arr = [1,2,3,4,5]\n",
    "n = len(arr)\n",
    "rotate(arr,n)\n",
    "print(arr)"
   ]
  },
  {
   "cell_type": "code",
   "execution_count": null,
   "id": "f9a0f8fc",
   "metadata": {},
   "outputs": [],
   "source": []
  }
 ],
 "metadata": {
  "kernelspec": {
   "display_name": "Python 3",
   "language": "python",
   "name": "python3"
  },
  "language_info": {
   "codemirror_mode": {
    "name": "ipython",
    "version": 3
   },
   "file_extension": ".py",
   "mimetype": "text/x-python",
   "name": "python",
   "nbconvert_exporter": "python",
   "pygments_lexer": "ipython3",
   "version": "3.8.8"
  }
 },
 "nbformat": 4,
 "nbformat_minor": 5
}
