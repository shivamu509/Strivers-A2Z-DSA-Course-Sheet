{
 "cells": [
  {
   "cell_type": "markdown",
   "id": "75639b94",
   "metadata": {},
   "source": [
    "## Pascal Triangle\n",
    "### Given a positive integer N, return the Nth row of pascal's triangle.\n",
    "### Pascal's triangle is a triangular array of the binomial coefficients formed by summing up the elements of previous row.\n",
    "\n",
    "<b>Example :</b><br>\n",
    "1<br>\n",
    "1 1<br>\n",
    "1 2 1<br>\n",
    "1 3 3 1<br>\n",
    "For N = 3, return 3rd row i.e 1 2 1\n",
    "\n",
    "<b>Example 1:</b><br>\n",
    "<b>Input:</b><br>\n",
    "N = 4<br>\n",
    "<b>Output:</b><br> 1 3 3 1<br>\n",
    "<b>Explanation:</b><br> 4th row of pascal's triangle\n",
    "is 1 3 3 1.\n",
    "\n",
    "<b>Example 2:</b><br>\n",
    "<b>Input:</b><br>\n",
    "N = 5<br>\n",
    "<b>Output:</b><br> 1 4 6 4 1<br>\n",
    "<b>Explanation:</b><br> 5th row of pascal's triangle\n",
    "is 1 4 6 4 1."
   ]
  },
  {
   "cell_type": "code",
   "execution_count": null,
   "id": "d646f512",
   "metadata": {},
   "outputs": [],
   "source": []
  },
  {
   "cell_type": "code",
   "execution_count": 1,
   "id": "b9eba4b6",
   "metadata": {},
   "outputs": [],
   "source": [
    "#TC: O(N^2)\n",
    "#SC: O(N^2)\n",
    "\n",
    "def nthRowOfPascalTriangle(n):\n",
    "    ans = [[1]]\n",
    "    for i in range(1,n+1):\n",
    "        temp = [1]\n",
    "        for j in range(1,i):\n",
    "            temp.append((ans[i-1][j-1] + ans[i-1][j])%1000000007)\n",
    "        temp.append(1)\n",
    "        ans.append(temp)\n",
    "    return ans[n-1]"
   ]
  },
  {
   "cell_type": "code",
   "execution_count": 2,
   "id": "75a4c800",
   "metadata": {
    "scrolled": true
   },
   "outputs": [
    {
     "data": {
      "text/plain": [
       "[1, 3, 3, 1]"
      ]
     },
     "execution_count": 2,
     "metadata": {},
     "output_type": "execute_result"
    }
   ],
   "source": [
    "nthRowOfPascalTriangle(4)"
   ]
  },
  {
   "cell_type": "code",
   "execution_count": 3,
   "id": "190c57db",
   "metadata": {
    "scrolled": true
   },
   "outputs": [
    {
     "data": {
      "text/plain": [
       "[1, 4, 6, 4, 1]"
      ]
     },
     "execution_count": 3,
     "metadata": {},
     "output_type": "execute_result"
    }
   ],
   "source": [
    "nthRowOfPascalTriangle(5)"
   ]
  },
  {
   "cell_type": "code",
   "execution_count": null,
   "id": "342f3bee",
   "metadata": {},
   "outputs": [],
   "source": []
  }
 ],
 "metadata": {
  "kernelspec": {
   "display_name": "Python 3",
   "language": "python",
   "name": "python3"
  },
  "language_info": {
   "codemirror_mode": {
    "name": "ipython",
    "version": 3
   },
   "file_extension": ".py",
   "mimetype": "text/x-python",
   "name": "python",
   "nbconvert_exporter": "python",
   "pygments_lexer": "ipython3",
   "version": "3.8.8"
  }
 },
 "nbformat": 4,
 "nbformat_minor": 5
}
