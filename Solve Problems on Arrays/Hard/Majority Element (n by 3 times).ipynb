{
 "cells": [
  {
   "cell_type": "markdown",
   "id": "07ada697",
   "metadata": {},
   "source": [
    "## Majority Element (n/3 times)\n",
    "### Given an array of N integers. Find the elements that appear more than N/3 times in the array. If no such element exists, return an empty vector.\n",
    "\n",
    "<b>Example 1:</b><br>\n",
    "<b>Input:</b><br>\n",
    "N = 5<br>\n",
    "array = [1,2,2,3,2]<br>\n",
    "<b>Ouput:</b><br>\n",
    "2<br>\n",
    "<b>Explanation:</b><br>\n",
    "Here we can see that the Count(1) = 1, Count(2) = 3 and Count(3) = 1.Therefore, the count of 2 is greater than N/3 times. Hence, 2 is the answer.\n",
    "\n",
    "<b>Example 2:</b><br>\n",
    "<b>Input:</b><br>\n",
    "N = 6 <br>\n",
    "array = [11,33,33,11,33,11]<br>\n",
    "<b>Output:</b> <br>\n",
    "11 33<br>\n",
    "<b>Explanation:</b><br>\n",
    "Here we can see that the Count(11) = 3 and Count(33) = 3. Therefore, the count of both 11 and 33 is greater than N/3 times. Hence, 11 and 33 is the answer."
   ]
  },
  {
   "cell_type": "code",
   "execution_count": null,
   "id": "3c63f53e",
   "metadata": {},
   "outputs": [],
   "source": []
  },
  {
   "cell_type": "code",
   "execution_count": 1,
   "id": "aa78fd98",
   "metadata": {},
   "outputs": [],
   "source": [
    "#Approahc I (Using counter)\n",
    "#TC: O(N)\n",
    "#SC: O(N)\n",
    "from collections import Counter\n",
    "\n",
    "def majorityElement(nums):\n",
    "    n=len(nums)\n",
    "    nums=Counter(nums)\n",
    "    ans=[]\n",
    "    for (i,j) in nums.most_common():\n",
    "        if j>n//3:\n",
    "            ans.append(i)\n",
    "    return ans"
   ]
  },
  {
   "cell_type": "code",
   "execution_count": 2,
   "id": "e7b49492",
   "metadata": {},
   "outputs": [
    {
     "data": {
      "text/plain": [
       "[2]"
      ]
     },
     "execution_count": 2,
     "metadata": {},
     "output_type": "execute_result"
    }
   ],
   "source": [
    "array = [1,2,2,3,2]\n",
    "majorityElement(array)"
   ]
  },
  {
   "cell_type": "code",
   "execution_count": 3,
   "id": "7b33eac9",
   "metadata": {},
   "outputs": [
    {
     "data": {
      "text/plain": [
       "[11, 33]"
      ]
     },
     "execution_count": 3,
     "metadata": {},
     "output_type": "execute_result"
    }
   ],
   "source": [
    "array = [11,33,33,11,33,11]\n",
    "majorityElement(array)"
   ]
  },
  {
   "cell_type": "code",
   "execution_count": null,
   "id": "18729075",
   "metadata": {},
   "outputs": [],
   "source": []
  },
  {
   "cell_type": "code",
   "execution_count": 11,
   "id": "132c6919",
   "metadata": {},
   "outputs": [],
   "source": [
    "#Approach II (Extended Boyer Moore’s Voting Algorithm)\n",
    "#TC: O(N)\n",
    "#SC: O(1)\n",
    "def majorityElement(arr):\n",
    "    n = len(arr)\n",
    "    a,b,cnt1,cnt2 = -1, -1, 0, 0\n",
    "    for i in arr:\n",
    "        if a == i:\n",
    "            cnt1+= 1\n",
    "        elif b == i:\n",
    "            cnt2 += 1\n",
    "        else:\n",
    "            if cnt1 == 0:\n",
    "                a = i\n",
    "                cnt1 = 1\n",
    "            elif cnt2 == 0:\n",
    "                b = i\n",
    "                cnt2 = 1\n",
    "            else:\n",
    "                cnt1 -= 1\n",
    "                cnt2 -= 1\n",
    "    ans = []\n",
    "    if arr.count(a)>n//3:\n",
    "        ans.append(a)\n",
    "    if arr.count(b)>n//3:\n",
    "        ans.append(b)\n",
    "    return ans"
   ]
  },
  {
   "cell_type": "code",
   "execution_count": 12,
   "id": "61b8e65c",
   "metadata": {},
   "outputs": [
    {
     "data": {
      "text/plain": [
       "[2]"
      ]
     },
     "execution_count": 12,
     "metadata": {},
     "output_type": "execute_result"
    }
   ],
   "source": [
    "array = [1,2,2,3,2]\n",
    "majorityElement(array)"
   ]
  },
  {
   "cell_type": "code",
   "execution_count": 13,
   "id": "a178a28f",
   "metadata": {},
   "outputs": [
    {
     "data": {
      "text/plain": [
       "[11, 33]"
      ]
     },
     "execution_count": 13,
     "metadata": {},
     "output_type": "execute_result"
    }
   ],
   "source": [
    "array = [11,33,33,11,33,11]\n",
    "majorityElement(array)"
   ]
  },
  {
   "cell_type": "code",
   "execution_count": null,
   "id": "5f0eee2b",
   "metadata": {},
   "outputs": [],
   "source": []
  }
 ],
 "metadata": {
  "kernelspec": {
   "display_name": "Python 3",
   "language": "python",
   "name": "python3"
  },
  "language_info": {
   "codemirror_mode": {
    "name": "ipython",
    "version": 3
   },
   "file_extension": ".py",
   "mimetype": "text/x-python",
   "name": "python",
   "nbconvert_exporter": "python",
   "pygments_lexer": "ipython3",
   "version": "3.8.8"
  }
 },
 "nbformat": 4,
 "nbformat_minor": 5
}
