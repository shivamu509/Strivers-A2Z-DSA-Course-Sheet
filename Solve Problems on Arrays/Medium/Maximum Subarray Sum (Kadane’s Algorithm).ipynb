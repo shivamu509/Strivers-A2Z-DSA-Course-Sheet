{
 "cells": [
  {
   "cell_type": "markdown",
   "id": "ce598cbb",
   "metadata": {},
   "source": [
    "## Kadane’s Algorithm : Maximum Subarray Sum in an Array\n",
    "### Problem Statement:  Given an array Arr[] of N integers. Find the contiguous sub-array(containing at least one number) which has the maximum sum and return its sum.\n",
    "\n",
    "\n",
    "<b>Example 1:</b><br>\n",
    "<b>Input:</b><br>\n",
    "N = 5<br>\n",
    "Arr = [1,2,3,-2,5]<br>\n",
    "<b>Output:</b><br>\n",
    "9<br>\n",
    "<b>Explanation:</b><br>\n",
    "Max subarray sum is 9\n",
    "of elements (1, 2, 3, -2, 5) which \n",
    "is a contiguous subarray.\n",
    "\n",
    "<b>Example 2:</b><br>\n",
    "<b>Input:</b><br>\n",
    "N = 4<br>\n",
    "Arr = [-1,-2,-3,-4]<br>\n",
    "<b>Output:</b><br>\n",
    "-1<br>\n",
    "<b>Explanation:</b><br>\n",
    "Max subarray sum is -1 \n",
    "of element (-1)"
   ]
  },
  {
   "cell_type": "code",
   "execution_count": null,
   "id": "bcd9a93c",
   "metadata": {},
   "outputs": [],
   "source": []
  },
  {
   "cell_type": "code",
   "execution_count": 1,
   "id": "cbbdd850",
   "metadata": {},
   "outputs": [],
   "source": [
    "#Approach I (brute force)\n",
    "#TC: O(N^3)\n",
    "#SC: O(1)\n",
    "\n",
    "def maxSubArraySum(arr,N):\n",
    "    ans = -float('inf')  #infinity\n",
    "    for i in range(N):\n",
    "        for j in range(i,N):\n",
    "            temp = 0\n",
    "            for k in range(i,j+1):\n",
    "                temp += arr[k]\n",
    "                if temp>ans:\n",
    "                    ans = temp\n",
    "    return ans"
   ]
  },
  {
   "cell_type": "code",
   "execution_count": 2,
   "id": "c3341a2d",
   "metadata": {},
   "outputs": [
    {
     "data": {
      "text/plain": [
       "9"
      ]
     },
     "execution_count": 2,
     "metadata": {},
     "output_type": "execute_result"
    }
   ],
   "source": [
    "N = 5\n",
    "Arr = [1,2,3,-2,5]\n",
    "maxSubArraySum(Arr,N)"
   ]
  },
  {
   "cell_type": "code",
   "execution_count": 3,
   "id": "3d9aedb4",
   "metadata": {},
   "outputs": [
    {
     "data": {
      "text/plain": [
       "-1"
      ]
     },
     "execution_count": 3,
     "metadata": {},
     "output_type": "execute_result"
    }
   ],
   "source": [
    "N = 4\n",
    "Arr = [-1,-2,-3,-4]\n",
    "maxSubArraySum(Arr,N)"
   ]
  },
  {
   "cell_type": "code",
   "execution_count": null,
   "id": "e828ce73",
   "metadata": {},
   "outputs": [],
   "source": []
  },
  {
   "cell_type": "code",
   "execution_count": 4,
   "id": "e03a9ebd",
   "metadata": {},
   "outputs": [],
   "source": [
    "#Approach II (Another brute force)\n",
    "#TC: O(N^2)\n",
    "#SC: O(1)\n",
    "def maxSubArraySum(arr,N):\n",
    "    ans = -float('inf')  #infinity\n",
    "    for i in range(N):\n",
    "        temp = 0\n",
    "        for j in range(i,N):\n",
    "            temp += arr[j]\n",
    "            if temp>ans:\n",
    "                ans = temp\n",
    "    return ans"
   ]
  },
  {
   "cell_type": "code",
   "execution_count": 5,
   "id": "23ccef56",
   "metadata": {},
   "outputs": [
    {
     "data": {
      "text/plain": [
       "9"
      ]
     },
     "execution_count": 5,
     "metadata": {},
     "output_type": "execute_result"
    }
   ],
   "source": [
    "N = 5\n",
    "Arr = [1,2,3,-2,5]\n",
    "maxSubArraySum(Arr,N)"
   ]
  },
  {
   "cell_type": "code",
   "execution_count": 6,
   "id": "79cdbdf8",
   "metadata": {},
   "outputs": [
    {
     "data": {
      "text/plain": [
       "-1"
      ]
     },
     "execution_count": 6,
     "metadata": {},
     "output_type": "execute_result"
    }
   ],
   "source": [
    "N = 4\n",
    "Arr = [-1,-2,-3,-4]\n",
    "maxSubArraySum(Arr,N)"
   ]
  },
  {
   "cell_type": "code",
   "execution_count": null,
   "id": "43d672e8",
   "metadata": {},
   "outputs": [],
   "source": []
  },
  {
   "cell_type": "code",
   "execution_count": 7,
   "id": "084fcd51",
   "metadata": {},
   "outputs": [],
   "source": [
    "#Approach III (Kadane's Algoritm)\n",
    "#TC: O(N)\n",
    "#SC: O(1)\n",
    "\n",
    "def maxSubArraySum(arr,N):\n",
    "    cur = 0\n",
    "    ans = arr[0]\n",
    "    for i in arr:\n",
    "        cur += i\n",
    "        ans = max(cur,ans)\n",
    "        if cur < 0:\n",
    "            cur = 0\n",
    "    return ans"
   ]
  },
  {
   "cell_type": "code",
   "execution_count": 8,
   "id": "e938cd07",
   "metadata": {},
   "outputs": [
    {
     "data": {
      "text/plain": [
       "9"
      ]
     },
     "execution_count": 8,
     "metadata": {},
     "output_type": "execute_result"
    }
   ],
   "source": [
    "N = 5\n",
    "Arr = [1,2,3,-2,5]\n",
    "maxSubArraySum(Arr,N)"
   ]
  },
  {
   "cell_type": "code",
   "execution_count": 9,
   "id": "bcd5ee13",
   "metadata": {},
   "outputs": [
    {
     "data": {
      "text/plain": [
       "-1"
      ]
     },
     "execution_count": 9,
     "metadata": {},
     "output_type": "execute_result"
    }
   ],
   "source": [
    "N = 4\n",
    "Arr = [-1,-2,-3,-4]\n",
    "maxSubArraySum(Arr,N)"
   ]
  },
  {
   "cell_type": "code",
   "execution_count": null,
   "id": "80b92696",
   "metadata": {},
   "outputs": [],
   "source": []
  }
 ],
 "metadata": {
  "kernelspec": {
   "display_name": "Python 3",
   "language": "python",
   "name": "python3"
  },
  "language_info": {
   "codemirror_mode": {
    "name": "ipython",
    "version": 3
   },
   "file_extension": ".py",
   "mimetype": "text/x-python",
   "name": "python",
   "nbconvert_exporter": "python",
   "pygments_lexer": "ipython3",
   "version": "3.8.8"
  }
 },
 "nbformat": 4,
 "nbformat_minor": 5
}
