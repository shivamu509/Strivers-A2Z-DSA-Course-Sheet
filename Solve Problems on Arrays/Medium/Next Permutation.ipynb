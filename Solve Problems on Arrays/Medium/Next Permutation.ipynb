{
 "cells": [
  {
   "cell_type": "markdown",
   "id": "0860fe25",
   "metadata": {},
   "source": [
    "## Next Permutation\n",
    "### Implement the next permutation, which rearranges the list of numbers into Lexicographically next greater permutation of list of numbers. If such arrangement is not possible, it must be rearranged to the lowest possible order i.e. sorted in an ascending order. You are given an list of numbers arr[ ] of size N.\n",
    "\n",
    "<b>Example 1:</b><br>\n",
    "<b>Input: </b><br>\n",
    "N = 6<br>\n",
    "arr = [1, 2, 3, 6, 5, 4]<br>\n",
    "<b>Output: </b><br>\n",
    "[1, 2, 4, 3, 5, 6]<br>\n",
    "<b>Explaination: </b><br>\n",
    "The next permutation of the given array is [1, 2, 4, 3, 5, 6].\n",
    "\n",
    "<b>Example 2:</b><br>\n",
    "<b>Input: </b><br>\n",
    "N = 3<br>\n",
    "arr = [3, 2, 1]<br>\n",
    "<b>Output: </b><br>\n",
    "[1, 2, 3]<br>\n",
    "<b>Explaination: </b><br>\n",
    "As arr is the last permutation. So, the next permutation is the lowest one."
   ]
  },
  {
   "cell_type": "code",
   "execution_count": null,
   "id": "37687a30",
   "metadata": {},
   "outputs": [],
   "source": []
  },
  {
   "cell_type": "markdown",
   "id": "dacb5285",
   "metadata": {},
   "source": [
    "### Brute Force: Finding all possible permutations. \n",
    "\n",
    "### Approach :\n",
    "\n",
    "Step 1: Find all possible permutations of elements present and store them.\n",
    "\n",
    "Step 2: Search input from all possible permutations.\n",
    "\n",
    "Step 3: Print the next permutation present right after it.\n",
    "    \n",
    "### Time Complexity :\n",
    "\n",
    "For finding, all possible permutations, it is taking N!xN. N represents the number of elements present in the input array. Also for searching input arrays from all possible permutations will take N!. Therefore, it has a Time complexity of O(N!xN).\n",
    "\n",
    "### Space Complexity :\n",
    "\n",
    "Since we are not using any extra spaces except stack spaces for recursion calls. So, it has a space complexity of O(1)."
   ]
  },
  {
   "cell_type": "code",
   "execution_count": null,
   "id": "ff35456a",
   "metadata": {},
   "outputs": [],
   "source": []
  },
  {
   "cell_type": "code",
   "execution_count": 1,
   "id": "eca6314e",
   "metadata": {},
   "outputs": [],
   "source": [
    "#Approach II \n",
    "#TC: O(N)\n",
    "#SC: O(1)\n",
    "\n",
    "def nextPermutation(n, arr):\n",
    "    minEle = -1\n",
    "    for i in range(n-1,0,-1):\n",
    "        if arr[i]>arr[i-1]:\n",
    "            minEle = i-1\n",
    "            break\n",
    "    if minEle != -1:\n",
    "        for i in range(n-1,minEle,-1):\n",
    "            if arr[i]>arr[minEle]:\n",
    "                arr[i], arr[minEle] = arr[minEle], arr[i]\n",
    "                break\n",
    "\n",
    "    minEle = minEle+1\n",
    "    n -= 1\n",
    "    while minEle < n:\n",
    "        arr[minEle], arr[n] = arr[n], arr[minEle]\n",
    "        minEle += 1\n",
    "        n -= 1\n",
    "    return arr  "
   ]
  },
  {
   "cell_type": "code",
   "execution_count": 2,
   "id": "b29d1359",
   "metadata": {},
   "outputs": [
    {
     "name": "stdout",
     "output_type": "stream",
     "text": [
      "[1, 2, 3, 6, 5, 4]\n",
      "[1, 2, 4, 3, 5, 6]\n"
     ]
    }
   ],
   "source": [
    "N = 6\n",
    "arr = [1, 2, 3, 6, 5, 4]\n",
    "print(arr)\n",
    "print(nextPermutation(N, arr))"
   ]
  },
  {
   "cell_type": "code",
   "execution_count": 3,
   "id": "fae82a9e",
   "metadata": {},
   "outputs": [
    {
     "name": "stdout",
     "output_type": "stream",
     "text": [
      "[3, 2, 1]\n",
      "[1, 2, 3]\n"
     ]
    }
   ],
   "source": [
    "N = 3\n",
    "arr = [3, 2, 1]\n",
    "print(arr)\n",
    "print(nextPermutation(N, arr))"
   ]
  },
  {
   "cell_type": "code",
   "execution_count": 4,
   "id": "779096b1",
   "metadata": {},
   "outputs": [
    {
     "name": "stdout",
     "output_type": "stream",
     "text": [
      "[3, 2, 1, 4, 5]\n",
      "[3, 2, 1, 5, 4]\n"
     ]
    }
   ],
   "source": [
    "N = 5\n",
    "arr = [3, 2, 1,4,5]\n",
    "print(arr)\n",
    "print(nextPermutation(N, arr))"
   ]
  },
  {
   "cell_type": "code",
   "execution_count": 5,
   "id": "2761c7c1",
   "metadata": {},
   "outputs": [
    {
     "name": "stdout",
     "output_type": "stream",
     "text": [
      "[62, 92, 96, 43, 28, 37, 92, 5, 3, 54, 93, 83, 22]\n",
      "[62, 92, 96, 43, 28, 37, 92, 5, 3, 83, 22, 54, 93]\n"
     ]
    }
   ],
   "source": [
    "N = 13\n",
    "arr = [62, 92, 96, 43, 28, 37, 92, 5, 3, 54, 93, 83, 22]\n",
    "print(arr)\n",
    "print(nextPermutation(N, arr))"
   ]
  },
  {
   "cell_type": "code",
   "execution_count": null,
   "id": "9645d9e9",
   "metadata": {},
   "outputs": [],
   "source": []
  },
  {
   "cell_type": "markdown",
   "id": "566ae91e",
   "metadata": {},
   "source": [
    "### Intuition :\n",
    "\n",
    "Intuition lies behind the lexicographical ordering of all possible permutations of a given array. There will always be an increasing sequence of all possible permutations when observed.\n",
    "\n",
    "Let’s check all sequences of permutations of {1,2,3}.\n",
    "\n",
    "* {1,2,3} \n",
    "* {1,3,2}\n",
    "* {2,1,3}\n",
    "* {2,3,1}\n",
    "* {3,1,2}\n",
    "* {3,2,1}\n",
    "\n",
    "Thus, we can see every sequence has increasing order. Hence, our approach aims to get a peak from where the increasing sequence starts. This is what we achieve from our first step of the approach. \n",
    "\n",
    "Then, we need to get just a larger value than the point where the peak occurs. To make rank as few as possible but greater than input array, just perverse array from breakpoint achieved from the first step of the approach. We achieve these from all remaining steps of our approach.\n",
    "\n",
    "### Approach :\n",
    "\n",
    "Step 1: Linearly traverse array from backward such that ith index value of the array is less than (i+1)th index value. Store that index in a variable.\n",
    "\n",
    "Step 2: If the index value received from step 1 is less than 0. This means the given input array is the largest lexicographical permutation. Hence, we will reverse the input array to get the minimum or starting permutation. Linearly traverse array from backward. Find an index that has a value greater than the previously found index. Store index is another variable.\n",
    "\n",
    "Step 3: Swap values present in indices found in the above two steps.\n",
    "\n",
    "Step 4: Reverse array from index+1 where the index is found at step 1 till the end of the array.\n",
    "\n",
    "### Dry Run :\n",
    "\n",
    "We will take the input array {1,3,2}.\n",
    "\n",
    "Step 1: First find an increasing sequence. We take i1 = 1. Starting traversing backward.\n",
    "![Step-1](https://lh5.googleusercontent.com/Di_DeyxM2IffC7fxJ2QqXKQu_eHKcexdYaW738kQZUyDJmmQR1S4TPabaW_C7Bm2Y8EAqy4Z_PoKSDZ95rx3SqNEe6c2IcmU0Tn8oUYnbZJuNdPUHLIAeLbtzFcwQ1AbSnvCEEZS=s1600)\n",
    "\n",
    "Step 2: Since 3 is not less than 2, we decrease i1 by 1.\n",
    "![ste[-2](https://lh4.googleusercontent.com/qngfbBa2VKwKXvTbrKjl46SAT-OF4pmTY4DZlVLMHNKGxqJpTuYCS1dKDvR-cgyfY13NjFAZT7OqGrH91vOebptBxwx3aQrNhOwev_ctQyg5ESYCB7X7oubic-zQ8r_YfCgVOIxt=s1600)\n",
    "\n",
    "Step 3: Since 1 is less than 2, we achieved our start of the increasing sequence. Now, i1 = 0.\n",
    "\n",
    "Step 4: i2 will be another index to find just greater than i1 indexed elements in the array. Point i2 to the last element.\n",
    "![step-4](https://lh6.googleusercontent.com/6JuMxwNbZbifFASVK9MGrEWo9E0VQi4fRmfUX_P2gLc44QqOLWtpst7OkUNQFxJLgaSv0B8ifVpCcZ8uO11NDwU4z0G-UlPY0cRznti8-90tMa9RuHRnsj2yhBvV_LgTtVVwfjd3=s1600)\n",
    "\n",
    "Step 5: i2 indexed element is greater than i1 indexed element. So, i2 has a value of 2.\n",
    "\n",
    "Step 6: Swapping values present in i1 and i2 indices.\n",
    "![step-6](https://lh5.googleusercontent.com/d__cuwrpQ7n5sjQYohpPGjv-PNmWp2KWimtpukp8iSm7oHn0hhfYl7OplfBwUlfF4Q_Gx9NG0jqHjBWJVFut62hRxAXd1QnmCn82u2vDo64N4bxyL6Tzo7JRTm-BoAjcPxS2NhQo=s1600)\n",
    "\n",
    "Step 7: Reversing from i1+1 index to last of the array.\n",
    "![step-7](https://lh6.googleusercontent.com/QxcJt13QxJknO_nR62bI0szDBIXf044S4wq4ftvh34fQNNuuKMPFiKsgOuTUXuLqZ2IkNTOYatDUm4ateGRSFpETGsAfdP7szm3tORs00U94rAq6bdtueiIOkfAKpajgsUSAF7Sz=s1600)\n",
    "\n",
    "Thus, we achieved our final answer."
   ]
  },
  {
   "cell_type": "code",
   "execution_count": null,
   "id": "02ebf4d3",
   "metadata": {},
   "outputs": [],
   "source": []
  }
 ],
 "metadata": {
  "kernelspec": {
   "display_name": "Python 3",
   "language": "python",
   "name": "python3"
  },
  "language_info": {
   "codemirror_mode": {
    "name": "ipython",
    "version": 3
   },
   "file_extension": ".py",
   "mimetype": "text/x-python",
   "name": "python",
   "nbconvert_exporter": "python",
   "pygments_lexer": "ipython3",
   "version": "3.8.8"
  }
 },
 "nbformat": 4,
 "nbformat_minor": 5
}
