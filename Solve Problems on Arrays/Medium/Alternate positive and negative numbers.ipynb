{
 "cells": [
  {
   "cell_type": "markdown",
   "id": "0c60bdc9",
   "metadata": {},
   "source": [
    "## Alternate positive and negative numbers (gfg)\n",
    "### Given an unsorted array Arr of N positive and negative numbers. Your task is to create an array of alternate positive and negative numbers without changing the relative order of positive and negative numbers.\n",
    "Note: Array should start with positive number.\n",
    " \n",
    "\n",
    "<b>Example 1:</b><br>\n",
    "<b>Input:</b> <br>\n",
    "N = 9<br>\n",
    "Arr = [9, 4, -2, -1, 5, 0, -5, -3, 2]<br>\n",
    "<b>Output:</b><br>\n",
    "9 -2 4 -1 5 -5 0 -3 2<br>\n",
    "<b>Explanation :</b> <br>\n",
    "Positive elements : 9,4,5,0,2<br>\n",
    "Negative elements : -2,-1,-5,-3<br>\n",
    "As we need to maintain the relative order of\n",
    "postive elements and negative elements we will pick\n",
    "each element from the positive and negative and will\n",
    "store them. If any of the positive and negative numbers\n",
    "are completed. we will continue with the remaining signed\n",
    "elements.The output is 9,-2,4,-1,5,-5,0,-3,2.\n",
    "\n",
    "\n",
    "<b>Example 2:</b><br>\n",
    "<b>Input: </b><br>\n",
    "N = 10<br>\n",
    "Arr = [-5, -2, 5, 2, 4, 7, 1, 8, 0, -8]<br>\n",
    "<b>Output:</b><br>\n",
    "5 -5 2 -2 4 -8 7 1 8 0 <br>\n",
    "<b>Explanation : </b><br>\n",
    "Positive elements : 5,2,4,7,1,8,0<br>\n",
    "Negative elements : -5,-2,-8<br>\n",
    "As we need to maintain the relative order of\n",
    "postive elements and negative elements we will pick\n",
    "each element from the positive and negative and will\n",
    "store them. If any of the positive and negative numbers\n",
    "are completed. we will continue with the remaining signed\n",
    "elements.The output is 5,-5,2,-2,4,-8,7,1,8,0."
   ]
  },
  {
   "cell_type": "code",
   "execution_count": null,
   "id": "0a0cb88e",
   "metadata": {},
   "outputs": [],
   "source": []
  },
  {
   "cell_type": "code",
   "execution_count": 18,
   "id": "8cd8508e",
   "metadata": {},
   "outputs": [],
   "source": [
    "def rearrange(arr, n):\n",
    "    pos=[]\n",
    "    neg=[]\n",
    "    \n",
    "    for i in arr:\n",
    "        if i>=0:\n",
    "            pos.append(i)\n",
    "        elif i<0:\n",
    "            neg.append(i)\n",
    "    \n",
    "    m=min(len(list(pos)),len(list(neg)))\n",
    "    for i in range(m):\n",
    "        arr[2*i]=pos[i]\n",
    "        arr[2*i+1]=neg[i]\n",
    "    \n",
    "    if(len(pos)>len(neg)):\n",
    "        for i in range(1,n-2*m+1):\n",
    "            arr[-i]=pos[-i]\n",
    "    else:\n",
    "        for i in range(1,n-2*m+1):\n",
    "            arr[-i]=neg[-i]"
   ]
  },
  {
   "cell_type": "code",
   "execution_count": 19,
   "id": "e2fb5a10",
   "metadata": {},
   "outputs": [
    {
     "name": "stdout",
     "output_type": "stream",
     "text": [
      "[9, -2, 4, -1, 5, -5, 0, -3, 2]\n"
     ]
    }
   ],
   "source": [
    "n = 9\n",
    "arr = [9, 4, -2, -1, 5, 0, -5, -3, 2]\n",
    "rearrange(arr,n)\n",
    "print(arr)"
   ]
  },
  {
   "cell_type": "code",
   "execution_count": 20,
   "id": "af7d672e",
   "metadata": {},
   "outputs": [
    {
     "name": "stdout",
     "output_type": "stream",
     "text": [
      "[5, -5, 2, -2, 4, -8, 7, 1, 8, 0]\n"
     ]
    }
   ],
   "source": [
    "n = 10\n",
    "arr = [-5, -2, 5, 2, 4, 7, 1, 8, 0, -8]\n",
    "rearrange(arr,n)\n",
    "print(arr)"
   ]
  },
  {
   "cell_type": "code",
   "execution_count": null,
   "id": "10361b05",
   "metadata": {},
   "outputs": [],
   "source": []
  },
  {
   "cell_type": "markdown",
   "id": "ed75f988",
   "metadata": {},
   "source": [
    "## Rearrange Array Elements by Sign (LC: 2149)\n",
    "\n",
    "You are given a 0-indexed integer array nums of even length consisting of an equal number of positive and negative integers.\n",
    "\n",
    "You should rearrange the elements of nums such that the modified array follows the given conditions:\n",
    "\n",
    "Every consecutive pair of integers have opposite signs.\n",
    "For all integers with the same sign, the order in which they were present in nums is preserved.\n",
    "The rearranged array begins with a positive integer.\n",
    "\n",
    "Return the modified array after rearranging the elements to satisfy the aforementioned conditions.\n",
    "\n",
    "<b>Example 1:</b><br>\n",
    "Input: </b><br>\n",
    "nums = [3,1,-2,-5,2,-4]<br>\n",
    "<b>Output: </b><br>\n",
    "[3,-2,1,-5,2,-4]<br>\n",
    "<b>Explanation:</b><br>\n",
    "The positive integers in nums are [3,1,2]. The negative integers are [-2,-5,-4].<br>\n",
    "The only possible way to rearrange them such that they satisfy all conditions is [3,-2,1,-5,2,-4].<br>\n",
    "Other ways such as [1,-2,2,-5,3,-4], [3,1,2,-2,-5,-4], [-2,3,-5,1,-4,2] are incorrect because they do not satisfy one or more conditions.  \n",
    "\n",
    "<b>Example 2:</b><br>\n",
    "<b>Input: </b><br>\n",
    "nums = [-1,1]<br>\n",
    "<b>Output: </b><br>\n",
    "[1,-1]<br>\n",
    "<b>Explanation:</b><br>\n",
    "1 is the only positive integer and -1 the only negative integer in nums.<br>\n",
    "So nums is rearranged to [1,-1].\n"
   ]
  },
  {
   "cell_type": "code",
   "execution_count": null,
   "id": "cef48046",
   "metadata": {},
   "outputs": [],
   "source": []
  },
  {
   "cell_type": "code",
   "execution_count": 21,
   "id": "47a278e1",
   "metadata": {},
   "outputs": [],
   "source": [
    "def rearrangeArray(nums):\n",
    "    ans,neg,pos,n=[],[],[],len(nums)\n",
    "    for i in nums:\n",
    "        if i<0:\n",
    "            neg.append(i)\n",
    "        else:\n",
    "            pos.append(i)\n",
    "    for i in range(n//2):\n",
    "        ans.append(pos[i])\n",
    "        ans.append(neg[i])\n",
    "    return ans"
   ]
  },
  {
   "cell_type": "code",
   "execution_count": 22,
   "id": "989e87ea",
   "metadata": {},
   "outputs": [
    {
     "data": {
      "text/plain": [
       "[3, -2, 1, -5, 2, -4]"
      ]
     },
     "execution_count": 22,
     "metadata": {},
     "output_type": "execute_result"
    }
   ],
   "source": [
    "nums = [3,1,-2,-5,2,-4]\n",
    "rearrangeArray(nums)"
   ]
  },
  {
   "cell_type": "code",
   "execution_count": 23,
   "id": "b3b9f717",
   "metadata": {},
   "outputs": [
    {
     "data": {
      "text/plain": [
       "[1, -1]"
      ]
     },
     "execution_count": 23,
     "metadata": {},
     "output_type": "execute_result"
    }
   ],
   "source": [
    "nums = [-1,1]\n",
    "rearrangeArray(nums)"
   ]
  },
  {
   "cell_type": "code",
   "execution_count": null,
   "id": "e9263aff",
   "metadata": {},
   "outputs": [],
   "source": []
  }
 ],
 "metadata": {
  "kernelspec": {
   "display_name": "Python 3",
   "language": "python",
   "name": "python3"
  },
  "language_info": {
   "codemirror_mode": {
    "name": "ipython",
    "version": 3
   },
   "file_extension": ".py",
   "mimetype": "text/x-python",
   "name": "python",
   "nbconvert_exporter": "python",
   "pygments_lexer": "ipython3",
   "version": "3.8.8"
  }
 },
 "nbformat": 4,
 "nbformat_minor": 5
}
