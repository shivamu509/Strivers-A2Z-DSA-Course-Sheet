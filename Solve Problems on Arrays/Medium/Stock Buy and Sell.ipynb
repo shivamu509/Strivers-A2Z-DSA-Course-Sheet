{
 "cells": [
  {
   "cell_type": "markdown",
   "id": "73043fab",
   "metadata": {},
   "source": [
    "### Best Time to Buy and Sell Stock (lc: 121)\n",
    "You are given an array prices where prices[i] is the price of a given stock on the ith day.\n",
    "\n",
    "You want to maximize your profit by choosing a single day to buy one stock and choosing a different day in the future to sell that stock.\n",
    "\n",
    "Return the maximum profit you can achieve from this transaction. If you cannot achieve any profit, return 0.\n",
    "\n",
    " \n",
    "\n",
    "<b>Example 1:</b><br>\n",
    "<b>Input:</b><br> prices = [7,1,5,3,6,4]<br>\n",
    "<b>Output:</b><br> 5<br>\n",
    "<b>Explanation:</b><br> Buy on day 2 (price = 1) and sell on day 5 (price = 6), profit = 6-1 = 5.<br>\n",
    "Note that buying on day 2 and selling on day 1 is not allowed because you must buy before you sell.\n",
    "\n",
    "<b>Example 2:</b><br>\n",
    "<b>Input:</b><br> prices = [7,6,4,3,1]<br>\n",
    "<b>Output:</b><br> 0<br>\n",
    "<b>Explanation:</b><br> In this case, no transactions are done and the max profit = 0."
   ]
  },
  {
   "cell_type": "code",
   "execution_count": null,
   "id": "190a9bca",
   "metadata": {},
   "outputs": [],
   "source": []
  },
  {
   "cell_type": "code",
   "execution_count": 2,
   "id": "632cd5c4",
   "metadata": {},
   "outputs": [],
   "source": [
    "#Approach I (BRUTE FORCE)\n",
    "#TC: O(N^2)\n",
    "#SC: O(1)\n",
    "\n",
    "def maxProfit(prices):\n",
    "    n=len(prices)\n",
    "    profit = 0\n",
    "    for i in range(n-1):\n",
    "        for j in range(i+1,n):\n",
    "            profit = max( profit, prices[j]-prices[i] )\n",
    "    return profit"
   ]
  },
  {
   "cell_type": "code",
   "execution_count": 3,
   "id": "b5bb0b6f",
   "metadata": {},
   "outputs": [
    {
     "data": {
      "text/plain": [
       "5"
      ]
     },
     "execution_count": 3,
     "metadata": {},
     "output_type": "execute_result"
    }
   ],
   "source": [
    "prices = [7,1,5,3,6,4]\n",
    "maxProfit(prices)"
   ]
  },
  {
   "cell_type": "code",
   "execution_count": 4,
   "id": "526e27a0",
   "metadata": {},
   "outputs": [
    {
     "data": {
      "text/plain": [
       "0"
      ]
     },
     "execution_count": 4,
     "metadata": {},
     "output_type": "execute_result"
    }
   ],
   "source": [
    "prices = [7,6,4,3,1]\n",
    "maxProfit(prices)"
   ]
  },
  {
   "cell_type": "code",
   "execution_count": null,
   "id": "15a6a385",
   "metadata": {},
   "outputs": [],
   "source": []
  },
  {
   "cell_type": "code",
   "execution_count": 5,
   "id": "35113285",
   "metadata": {},
   "outputs": [],
   "source": [
    "#Approach II \n",
    "#TC: O(N)\n",
    "#SC: O(1)\n",
    "\n",
    "def maxProfit(prices):\n",
    "    n = len(prices)\n",
    "    minPrice = prices[0]\n",
    "    profit = 0\n",
    "    \n",
    "    for i in range(1,n):\n",
    "        if prices[i] < minPrice:\n",
    "            minPrice = prices[i]\n",
    "        profit = max(profit,prices[i]-minPrice)\n",
    "    \n",
    "    return profit"
   ]
  },
  {
   "cell_type": "code",
   "execution_count": 6,
   "id": "2aaea846",
   "metadata": {},
   "outputs": [
    {
     "data": {
      "text/plain": [
       "5"
      ]
     },
     "execution_count": 6,
     "metadata": {},
     "output_type": "execute_result"
    }
   ],
   "source": [
    "prices = [7,1,5,3,6,4]\n",
    "maxProfit(prices)"
   ]
  },
  {
   "cell_type": "code",
   "execution_count": 7,
   "id": "c6e64d42",
   "metadata": {},
   "outputs": [
    {
     "data": {
      "text/plain": [
       "0"
      ]
     },
     "execution_count": 7,
     "metadata": {},
     "output_type": "execute_result"
    }
   ],
   "source": [
    "prices = [7,6,4,3,1]\n",
    "maxProfit(prices)"
   ]
  },
  {
   "cell_type": "code",
   "execution_count": null,
   "id": "7969170f",
   "metadata": {},
   "outputs": [],
   "source": []
  }
 ],
 "metadata": {
  "kernelspec": {
   "display_name": "Python 3",
   "language": "python",
   "name": "python3"
  },
  "language_info": {
   "codemirror_mode": {
    "name": "ipython",
    "version": 3
   },
   "file_extension": ".py",
   "mimetype": "text/x-python",
   "name": "python",
   "nbconvert_exporter": "python",
   "pygments_lexer": "ipython3",
   "version": "3.8.8"
  }
 },
 "nbformat": 4,
 "nbformat_minor": 5
}
