{
 "cells": [
  {
   "cell_type": "markdown",
   "id": "5034af0e",
   "metadata": {},
   "source": [
    "## Set Matrix Zero (LC: 73)\n",
    "### Problem Statement: Given a matrix if an element in the matrix is 0 then you will have to set its entire column and row to 0 and then return the matrix.\n",
    "\n",
    "<b>Examples 1:</b><br>\n",
    "<b>Input:</b><br> matrix=[[1,1,1],[1,0,1],[1,1,1]]<br>\n",
    "<b>Output:</b><br> [[1,0,1],[0,0,0],[1,0,1]]<br>\n",
    "<b>Explanation:</b><br> Since matrix[2][2]=0.Therfore the 2nd column and 2nd row wil be set to 0.\n",
    " \n",
    "<b>Input:</b><br> matrix=[[0,1,2,0],[3,4,5,2],[1,3,1,5]]<br>\n",
    "<b>Output:</b><br>[[0,0,0,0],[0,4,5,0],[0,3,1,0]]<br>\n",
    "<b>Explanation:</b><br>Since matrix[0][0]=0 and matrix[0][3]=0. Therefore 1st row, 1st column and 4th column will be set to 0"
   ]
  },
  {
   "cell_type": "code",
   "execution_count": null,
   "id": "4aa54742",
   "metadata": {},
   "outputs": [],
   "source": []
  },
  {
   "cell_type": "code",
   "execution_count": 1,
   "id": "a2493b0d",
   "metadata": {},
   "outputs": [],
   "source": [
    "#TC: O(N^2)\n",
    "#SC: O(1)\n",
    "\n",
    "def MakeZeros(matrix):\n",
    "    n = len(matrix)\n",
    "    m = len(matrix[0])\n",
    "    r = {}\n",
    "    c = {}\n",
    "    for i in range(n):\n",
    "        for j in range(m):\n",
    "            if matrix[i][j] == 0:\n",
    "                r[i] =True\n",
    "                c[j] = True\n",
    "    for i in range(n):\n",
    "        for j in range(m):\n",
    "            if i in r or j in c:\n",
    "                matrix[i][j] = 0"
   ]
  },
  {
   "cell_type": "code",
   "execution_count": 3,
   "id": "a723325b",
   "metadata": {},
   "outputs": [
    {
     "name": "stdout",
     "output_type": "stream",
     "text": [
      "[[1, 0, 1], [0, 0, 0], [1, 0, 1]]\n"
     ]
    }
   ],
   "source": [
    "matrix=[[1,1,1],[1,0,1],[1,1,1]]\n",
    "MakeZeros(matrix)\n",
    "print(matrix)"
   ]
  },
  {
   "cell_type": "code",
   "execution_count": 4,
   "id": "2d12d100",
   "metadata": {},
   "outputs": [
    {
     "name": "stdout",
     "output_type": "stream",
     "text": [
      "[[0, 0, 0, 0], [0, 4, 5, 0], [0, 3, 1, 0]]\n"
     ]
    }
   ],
   "source": [
    "matrix=[[0,1,2,0],[3,4,5,2],[1,3,1,5]]\n",
    "MakeZeros(matrix)\n",
    "print(matrix)"
   ]
  },
  {
   "cell_type": "code",
   "execution_count": null,
   "id": "c330f6b0",
   "metadata": {},
   "outputs": [],
   "source": []
  },
  {
   "cell_type": "markdown",
   "id": "09270227",
   "metadata": {},
   "source": [
    "## Make Zeroes (gfg)\n",
    "### Given a matrix of  size n x m. Your task is to make Zeroes, that means in whole matrix when you find a zero, convert its upper, lower, left, and right value to zero and make that element the sum of the upper, lower, left and right value. Do the following tasks according to the initial matrix.\n",
    " \n",
    "<b>Example 1:</b><br>\n",
    "<b>Input: </b><br>\n",
    "matrix = <br>\n",
    "[[1, 2, 3, 4],<br>\n",
    "[5, 6, 0, 7], <br>\n",
    "[8, 9, 4, 6],<br>\n",
    "[8, 4, 5, 2]]<br>\n",
    "<b>Output: </b><br>\n",
    "[[1, 2, 0, 4], <br>\n",
    "[5, 0, 20, 0],<br>\n",
    "[8, 9, 0, 6], <br>\n",
    "[8, 4, 5, 2]]<br>\n",
    "<b>Explanation: </b><br>\n",
    "As matrix[1][2] = 0, we will perform the operation here. Then matrix[1][2] = matrix[0][2] + matrix[2][2] + matrix[1][1] + matrix[1][3] and matrix[0][2] = matrix[2][2] = matrix[1][1] = matrix[1][3] = 0.\n",
    "\n",
    "<b>Example 2:</b><br>\n",
    "<b>Input: </b><br>\n",
    "matrix = <br>\n",
    "[[1, 2], <br>\n",
    "[3, 4]]<br>\n",
    "<b>output: </b><br>\n",
    "[[1, 2], <br>\n",
    "[3, 4]]"
   ]
  },
  {
   "cell_type": "code",
   "execution_count": null,
   "id": "878469d3",
   "metadata": {},
   "outputs": [],
   "source": []
  },
  {
   "cell_type": "code",
   "execution_count": 5,
   "id": "48d7de22",
   "metadata": {},
   "outputs": [],
   "source": [
    "#TC: O(n^2)\n",
    "#SC: O(1)\n",
    "def MakeZeros(matrix):\n",
    "    n = len(matrix)\n",
    "    m = len(matrix[0])\n",
    "    arr = {}\n",
    "\n",
    "    for i in range(n):\n",
    "        for j in range(m):\n",
    "            if matrix[i][j] == 0:\n",
    "                total = 0\n",
    "                if i-1>=0:\n",
    "                    total += matrix[i-1][j]\n",
    "                    arr[i-1,j] = 0\n",
    "                if i+1<n:\n",
    "                    total += matrix[i+1][j]\n",
    "                    arr[i+1,j] = 0\n",
    "                if j-1>=0:\n",
    "                    total += matrix[i][j-1]\n",
    "                    arr[i,j-1] = 0\n",
    "                if j+1<m:\n",
    "                    total += matrix[i][j+1]\n",
    "                    arr[i,j+1] = 0\n",
    "                arr[i,j] = total\n",
    "    for (i,j) in arr:\n",
    "        matrix[i][j] = arr[i,j]"
   ]
  },
  {
   "cell_type": "code",
   "execution_count": 10,
   "id": "82d99cfa",
   "metadata": {},
   "outputs": [
    {
     "name": "stdout",
     "output_type": "stream",
     "text": [
      "Original Matrix: \n",
      "[1, 2, 3, 4]\n",
      "[5, 6, 0, 7]\n",
      "[8, 9, 4, 6]\n",
      "[8, 4, 5, 2]\n",
      "matrix after operation\n",
      "[1, 2, 0, 4]\n",
      "[5, 0, 20, 0]\n",
      "[8, 9, 0, 6]\n",
      "[8, 4, 5, 2]\n"
     ]
    }
   ],
   "source": [
    "matrix =[[1, 2, 3, 4],[5, 6, 0, 7],[8, 9, 4, 6],[8, 4, 5, 2]]\n",
    "print('Original Matrix: ')\n",
    "for i in matrix:\n",
    "    print(i)\n",
    "    \n",
    "MakeZeros(matrix)\n",
    "\n",
    "print('matrix after operation')\n",
    "for i in matrix:\n",
    "    print(i)"
   ]
  },
  {
   "cell_type": "code",
   "execution_count": 11,
   "id": "51d43d4d",
   "metadata": {},
   "outputs": [
    {
     "name": "stdout",
     "output_type": "stream",
     "text": [
      "Original Matrix: \n",
      "[1, 2]\n",
      "[3, 4]\n",
      "matrix after operation\n",
      "[1, 2]\n",
      "[3, 4]\n"
     ]
    }
   ],
   "source": [
    "matrix =[[1, 2],[3, 4]]\n",
    "print('Original Matrix: ')\n",
    "for i in matrix:\n",
    "    print(i)\n",
    "    \n",
    "MakeZeros(matrix)\n",
    "\n",
    "print('matrix after operation')\n",
    "for i in matrix:\n",
    "    print(i)"
   ]
  },
  {
   "cell_type": "code",
   "execution_count": null,
   "id": "0402cf5f",
   "metadata": {},
   "outputs": [],
   "source": []
  }
 ],
 "metadata": {
  "kernelspec": {
   "display_name": "Python 3",
   "language": "python",
   "name": "python3"
  },
  "language_info": {
   "codemirror_mode": {
    "name": "ipython",
    "version": 3
   },
   "file_extension": ".py",
   "mimetype": "text/x-python",
   "name": "python",
   "nbconvert_exporter": "python",
   "pygments_lexer": "ipython3",
   "version": "3.8.8"
  }
 },
 "nbformat": 4,
 "nbformat_minor": 5
}
