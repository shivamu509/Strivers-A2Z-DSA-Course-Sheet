{
 "cells": [
  {
   "cell_type": "markdown",
   "id": "cf16003f",
   "metadata": {},
   "source": [
    "## Leaders in an array\n",
    "### Given an array A of positive integers. Your task is to find the leaders in the array. An element of array is leader if it is greater than or equal to all the elements to its right side. The rightmost element is always a leader. \n",
    "\n",
    "<b>Example 1:</b><br>\n",
    "<b>Input:</b><br>\n",
    "n = 6<br>\n",
    "A[] = {16,17,4,3,5,2}<br>\n",
    "<b>Output:</b><br> 17 5 2<br>\n",
    "<b>Explanation:</b><br> The first leader is 17 \n",
    "as it is greater than all the elements\n",
    "to its right.  Similarly, the next \n",
    "leader is 5. The right most element \n",
    "is always a leader so it is also \n",
    "included.\n",
    " \n",
    "\n",
    "<b>Example 2:</b><br>\n",
    "\n",
    "<b>Input:</b><br>\n",
    "n = 5<br>\n",
    "A[] = {1,2,3,4,4,0}<br>\n",
    "<b>Output:</b><br>4 4 0<br>"
   ]
  },
  {
   "cell_type": "code",
   "execution_count": null,
   "id": "b7bbe0e6",
   "metadata": {},
   "outputs": [],
   "source": []
  },
  {
   "cell_type": "code",
   "execution_count": 1,
   "id": "6bd03a06",
   "metadata": {},
   "outputs": [],
   "source": [
    "#Approach I (Brute Force)\n",
    "#TC: O(N^2)\n",
    "#SC: O(N)\n",
    "\n",
    "def leaders(A, N):\n",
    "    ans = []\n",
    "    for i in range(N):\n",
    "        check = True\n",
    "        for j in range(i+1, N):\n",
    "            if A[i]<A[j]:\n",
    "                check = False\n",
    "                break\n",
    "        if check == True:\n",
    "            ans.append(A[i])\n",
    "    print(ans)"
   ]
  },
  {
   "cell_type": "code",
   "execution_count": 2,
   "id": "dbdf73ac",
   "metadata": {},
   "outputs": [
    {
     "name": "stdout",
     "output_type": "stream",
     "text": [
      "[17, 5, 2]\n"
     ]
    }
   ],
   "source": [
    "N = 6\n",
    "A = [16,17,4,3,5,2]\n",
    "leaders(A,N)"
   ]
  },
  {
   "cell_type": "code",
   "execution_count": 3,
   "id": "3c95cce0",
   "metadata": {},
   "outputs": [
    {
     "name": "stdout",
     "output_type": "stream",
     "text": [
      "[4, 4, 0]\n"
     ]
    }
   ],
   "source": [
    "n = 6\n",
    "A = [1,2,3,4,4,0]\n",
    "leaders(A,N)"
   ]
  },
  {
   "cell_type": "code",
   "execution_count": null,
   "id": "f2ba3920",
   "metadata": {},
   "outputs": [],
   "source": []
  },
  {
   "cell_type": "code",
   "execution_count": 4,
   "id": "e3cc03fd",
   "metadata": {},
   "outputs": [],
   "source": [
    "#Approach II \n",
    "#TC: O(N)\n",
    "#SC: O(1)\n",
    "def leaders(A, N):\n",
    "    maxEle = -1\n",
    "    ans = []\n",
    "    for i in A[::-1]:\n",
    "        if i>=maxEle:\n",
    "            ans.append(i)\n",
    "            maxEle = i\n",
    "    print(ans[::-1])"
   ]
  },
  {
   "cell_type": "code",
   "execution_count": 5,
   "id": "f2d75f72",
   "metadata": {},
   "outputs": [
    {
     "name": "stdout",
     "output_type": "stream",
     "text": [
      "[17, 5, 2]\n"
     ]
    }
   ],
   "source": [
    "N = 6\n",
    "A = [16,17,4,3,5,2]\n",
    "leaders(A,N)"
   ]
  },
  {
   "cell_type": "code",
   "execution_count": 6,
   "id": "9093c647",
   "metadata": {},
   "outputs": [
    {
     "name": "stdout",
     "output_type": "stream",
     "text": [
      "[4, 4, 0]\n"
     ]
    }
   ],
   "source": [
    "n = 6\n",
    "A = [1,2,3,4,4,0]\n",
    "leaders(A,N)"
   ]
  },
  {
   "cell_type": "code",
   "execution_count": null,
   "id": "970e0f91",
   "metadata": {},
   "outputs": [],
   "source": []
  }
 ],
 "metadata": {
  "kernelspec": {
   "display_name": "Python 3",
   "language": "python",
   "name": "python3"
  },
  "language_info": {
   "codemirror_mode": {
    "name": "ipython",
    "version": 3
   },
   "file_extension": ".py",
   "mimetype": "text/x-python",
   "name": "python",
   "nbconvert_exporter": "python",
   "pygments_lexer": "ipython3",
   "version": "3.8.8"
  }
 },
 "nbformat": 4,
 "nbformat_minor": 5
}
