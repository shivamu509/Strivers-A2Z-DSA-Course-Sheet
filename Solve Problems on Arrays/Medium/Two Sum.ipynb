{
 "cells": [
  {
   "cell_type": "markdown",
   "id": "de7228c7",
   "metadata": {},
   "source": [
    "## Two Sum\n",
    "### Given an array of integers nums and an integer target, return indices of the two numbers such that they add up to target.You may assume that each input would have exactly one solution, and you may not use the same element twice.\n",
    "\n",
    "### You can return the answer in any order.\n",
    "\n",
    "<b>Example 1:</b><br>\n",
    "<b>Input:</b> nums = [2,7,11,15], target = 9<br>\n",
    "<b>Output:</b> [0,1]<br>\n",
    "<b>Explanation:</b> Because nums[0] + nums[1] == 9, we return [0, 1].<br>\n",
    "\n",
    "<b>Example 2:</b><br>\n",
    "<b>Input:</b> nums = [3,2,4], target = 6<br>\n",
    "<b>Output:</b> [1,2]<br>\n",
    "\n",
    "<b>Example 3:</b><br>\n",
    "<b>Input:</b> nums = [3,3], target = 6<br>\n",
    "<b>Output:</b> [0,1]<br>"
   ]
  },
  {
   "cell_type": "code",
   "execution_count": null,
   "id": "8405197e",
   "metadata": {},
   "outputs": [],
   "source": []
  },
  {
   "cell_type": "code",
   "execution_count": 2,
   "id": "280d5e40",
   "metadata": {},
   "outputs": [],
   "source": [
    "#Approach I (Brute Force)\n",
    "#TC: O(N^2)\n",
    "#SC: O(1)\n",
    "def twoSum(nums, target):\n",
    "        n=len(nums)\n",
    "        ans=[]\n",
    "        for i in range(0,n):\n",
    "            for j in range(i+1,n):\n",
    "                if (nums[i]+nums[j]==target):\n",
    "                    ans.append(i)\n",
    "                    ans.append(j)\n",
    "                    return ans"
   ]
  },
  {
   "cell_type": "code",
   "execution_count": 3,
   "id": "4b5f718e",
   "metadata": {},
   "outputs": [
    {
     "data": {
      "text/plain": [
       "[0, 1]"
      ]
     },
     "execution_count": 3,
     "metadata": {},
     "output_type": "execute_result"
    }
   ],
   "source": [
    "nums = [2,7,11,15]\n",
    "target = 9\n",
    "twoSum(nums, target)"
   ]
  },
  {
   "cell_type": "code",
   "execution_count": 4,
   "id": "49e20182",
   "metadata": {},
   "outputs": [
    {
     "data": {
      "text/plain": [
       "[1, 2]"
      ]
     },
     "execution_count": 4,
     "metadata": {},
     "output_type": "execute_result"
    }
   ],
   "source": [
    "nums = [3,2,4]\n",
    "target = 6\n",
    "twoSum(nums, target)"
   ]
  },
  {
   "cell_type": "code",
   "execution_count": 5,
   "id": "f93143e4",
   "metadata": {},
   "outputs": [
    {
     "data": {
      "text/plain": [
       "[0, 1]"
      ]
     },
     "execution_count": 5,
     "metadata": {},
     "output_type": "execute_result"
    }
   ],
   "source": [
    "nums = [3,3] \n",
    "target = 6\n",
    "twoSum(nums, target)"
   ]
  },
  {
   "cell_type": "code",
   "execution_count": null,
   "id": "6eb9614e",
   "metadata": {},
   "outputs": [],
   "source": []
  },
  {
   "cell_type": "code",
   "execution_count": 6,
   "id": "1910f484",
   "metadata": {},
   "outputs": [],
   "source": [
    "#Approach II (Using Dictornary)\n",
    "#TC: O(N)\n",
    "#SC: O(N)\n",
    "\n",
    "def twoSum(nums, target):\n",
    "        n=len(nums)\n",
    "        d = {}\n",
    "        for i in range(n):\n",
    "            if target-nums[i] in d:\n",
    "                return [ d[ target-nums[i] ], i ]\n",
    "            else:\n",
    "                d[nums[i]] = i"
   ]
  },
  {
   "cell_type": "code",
   "execution_count": 7,
   "id": "cc53015d",
   "metadata": {},
   "outputs": [
    {
     "data": {
      "text/plain": [
       "[0, 1]"
      ]
     },
     "execution_count": 7,
     "metadata": {},
     "output_type": "execute_result"
    }
   ],
   "source": [
    "nums = [2,7,11,15]\n",
    "target = 9\n",
    "twoSum(nums, target)"
   ]
  },
  {
   "cell_type": "code",
   "execution_count": 8,
   "id": "0de75a86",
   "metadata": {},
   "outputs": [
    {
     "data": {
      "text/plain": [
       "[1, 2]"
      ]
     },
     "execution_count": 8,
     "metadata": {},
     "output_type": "execute_result"
    }
   ],
   "source": [
    "nums = [3,2,4]\n",
    "target = 6\n",
    "twoSum(nums, target)"
   ]
  },
  {
   "cell_type": "code",
   "execution_count": 9,
   "id": "d307d480",
   "metadata": {},
   "outputs": [
    {
     "data": {
      "text/plain": [
       "[0, 1]"
      ]
     },
     "execution_count": 9,
     "metadata": {},
     "output_type": "execute_result"
    }
   ],
   "source": [
    "nums = [3,3] \n",
    "target = 6\n",
    "twoSum(nums, target)"
   ]
  },
  {
   "cell_type": "code",
   "execution_count": null,
   "id": "f50b48b8",
   "metadata": {},
   "outputs": [],
   "source": []
  },
  {
   "cell_type": "code",
   "execution_count": 10,
   "id": "ea072a3d",
   "metadata": {},
   "outputs": [],
   "source": [
    "#Two Pointer Approach  (Only if array is sorted)\n",
    "#TC: O(N)\n",
    "#SC: O(1)\n",
    "\n",
    "def twoSum(nums, target):\n",
    "    i = 0\n",
    "    j = len(nums)-1\n",
    "    while i<j:\n",
    "        if nums[i]+nums[j]==target:\n",
    "            return [i,j]\n",
    "        if nums[i]+nums[j]<target:\n",
    "            i += 1\n",
    "        else:\n",
    "            j -= 1"
   ]
  },
  {
   "cell_type": "code",
   "execution_count": 11,
   "id": "0e438597",
   "metadata": {},
   "outputs": [
    {
     "data": {
      "text/plain": [
       "[0, 1]"
      ]
     },
     "execution_count": 11,
     "metadata": {},
     "output_type": "execute_result"
    }
   ],
   "source": [
    "nums = [2,7,11,15]\n",
    "target = 9\n",
    "twoSum(nums, target)"
   ]
  },
  {
   "cell_type": "code",
   "execution_count": 12,
   "id": "123d8d3b",
   "metadata": {},
   "outputs": [
    {
     "data": {
      "text/plain": [
       "[0, 1]"
      ]
     },
     "execution_count": 12,
     "metadata": {},
     "output_type": "execute_result"
    }
   ],
   "source": [
    "nums = [3,3] \n",
    "target = 6\n",
    "twoSum(nums, target)"
   ]
  },
  {
   "cell_type": "code",
   "execution_count": null,
   "id": "31ea7725",
   "metadata": {},
   "outputs": [],
   "source": []
  }
 ],
 "metadata": {
  "kernelspec": {
   "display_name": "Python 3",
   "language": "python",
   "name": "python3"
  },
  "language_info": {
   "codemirror_mode": {
    "name": "ipython",
    "version": 3
   },
   "file_extension": ".py",
   "mimetype": "text/x-python",
   "name": "python",
   "nbconvert_exporter": "python",
   "pygments_lexer": "ipython3",
   "version": "3.8.8"
  }
 },
 "nbformat": 4,
 "nbformat_minor": 5
}
