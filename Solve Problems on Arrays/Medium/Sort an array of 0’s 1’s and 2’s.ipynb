{
 "cells": [
  {
   "cell_type": "markdown",
   "id": "44d88d58",
   "metadata": {},
   "source": [
    "## Sort an array of 0’s 1’s and 2’s\n",
    "### Given an array of size N containing only 0s, 1s, and 2s; sort the array in ascending order.\n",
    "\n",
    "<b>Example 1:</b><br>\n",
    "<b>Input: </b><br>\n",
    "N = 5\n",
    "arr = [0, 2, 1, 2, 0]<br>\n",
    "<b>Output:</b><br>\n",
    "0 0 1 2 2<br>\n",
    "<b>Explanation:</b><br>\n",
    "0s 1s and 2s are segregated into ascending order.\n",
    "\n",
    "<b>Example 2:</b><br>\n",
    "<b>Input: </b><br>\n",
    "N = 3\n",
    "arr = [0, 1, 0]<br>\n",
    "<b>Output:</b><br>\n",
    "0 0 1<br>\n",
    "<b>Explanation:</b><br>\n",
    "0s 1s and 2s are segregated into ascending order."
   ]
  },
  {
   "cell_type": "code",
   "execution_count": null,
   "id": "7da06dc1",
   "metadata": {},
   "outputs": [],
   "source": []
  },
  {
   "cell_type": "code",
   "execution_count": 1,
   "id": "c9de19a3",
   "metadata": {},
   "outputs": [],
   "source": [
    "#Approach I (sort the array XD )\n",
    "#TC: O(NlogN)\n",
    "#SC: O(1)\n",
    "def sort012(arr,n):\n",
    "    arr.sort()"
   ]
  },
  {
   "cell_type": "code",
   "execution_count": 3,
   "id": "0c82e761",
   "metadata": {},
   "outputs": [
    {
     "name": "stdout",
     "output_type": "stream",
     "text": [
      "[0, 0, 1, 2, 2]\n"
     ]
    }
   ],
   "source": [
    "N = 5 \n",
    "arr = [0, 2, 1, 2, 0]\n",
    "sort012(arr,N)\n",
    "print(arr)"
   ]
  },
  {
   "cell_type": "code",
   "execution_count": 4,
   "id": "76982a98",
   "metadata": {},
   "outputs": [
    {
     "name": "stdout",
     "output_type": "stream",
     "text": [
      "[0, 0, 1]\n"
     ]
    }
   ],
   "source": [
    "N = 3 \n",
    "arr = [0, 1, 0]\n",
    "sort012(arr,N)\n",
    "print(arr)"
   ]
  },
  {
   "cell_type": "code",
   "execution_count": null,
   "id": "d8420220",
   "metadata": {},
   "outputs": [],
   "source": []
  },
  {
   "cell_type": "code",
   "execution_count": 10,
   "id": "58fff5f4",
   "metadata": {},
   "outputs": [],
   "source": [
    "#Approach II (Count sort)\n",
    "#TC: O(N)\n",
    "#SC: O(1)\n",
    "\n",
    "def sort012(arr,n):\n",
    "    zeros = 0\n",
    "    ones = 0\n",
    "    twos = 0\n",
    "    for i in arr:\n",
    "        if i == 0:\n",
    "            zeros += 1\n",
    "        elif i == 1:\n",
    "            ones += 1\n",
    "        elif i == 2:\n",
    "            twos += 1\n",
    "\n",
    "    for i in range(n):\n",
    "        if i<zeros:\n",
    "            arr[i] = 0\n",
    "        elif i<zeros+ones:\n",
    "            arr[i] = 1\n",
    "        else:\n",
    "            arr[i] = 2"
   ]
  },
  {
   "cell_type": "code",
   "execution_count": 11,
   "id": "067a0044",
   "metadata": {},
   "outputs": [
    {
     "name": "stdout",
     "output_type": "stream",
     "text": [
      "[0, 0, 1, 2, 2]\n"
     ]
    }
   ],
   "source": [
    "N = 5 \n",
    "arr = [0, 2, 1, 2, 0]\n",
    "sort012(arr,N)\n",
    "print(arr)"
   ]
  },
  {
   "cell_type": "code",
   "execution_count": 12,
   "id": "8440efd1",
   "metadata": {},
   "outputs": [
    {
     "name": "stdout",
     "output_type": "stream",
     "text": [
      "[0, 0, 1]\n"
     ]
    }
   ],
   "source": [
    "N = 3 \n",
    "arr = [0, 1, 0]\n",
    "sort012(arr,N)\n",
    "print(arr)"
   ]
  },
  {
   "cell_type": "code",
   "execution_count": null,
   "id": "88aa05f0",
   "metadata": {},
   "outputs": [],
   "source": []
  },
  {
   "cell_type": "code",
   "execution_count": 1,
   "id": "9c6a0aac",
   "metadata": {},
   "outputs": [],
   "source": [
    "#Approach III (3-Pointer/ Dutch National flag algorithm )\n",
    "#TC: O(N)\n",
    "#SC: O(1)\n",
    "\n",
    "def sort012(arr,n):\n",
    "    low = 0\n",
    "    mid = 0\n",
    "    high = n-1\n",
    "    \n",
    "    while mid<=high:\n",
    "        if arr[mid] == 0:\n",
    "            arr[low], arr[mid] = arr[mid], arr[low]\n",
    "            low += 1\n",
    "        elif arr[mid] == 2:\n",
    "            arr[high], arr[mid] = arr[mid], arr[high]\n",
    "            high -= 1\n",
    "        \n",
    "        mid += 1"
   ]
  },
  {
   "cell_type": "code",
   "execution_count": 2,
   "id": "8f866582",
   "metadata": {
    "scrolled": true
   },
   "outputs": [
    {
     "name": "stdout",
     "output_type": "stream",
     "text": [
      "[0, 0, 1, 2, 2]\n"
     ]
    }
   ],
   "source": [
    "N = 5 \n",
    "arr = [0, 2, 1, 2, 0]\n",
    "sort012(arr,N)\n",
    "print(arr)"
   ]
  },
  {
   "cell_type": "code",
   "execution_count": 3,
   "id": "37be78fe",
   "metadata": {},
   "outputs": [
    {
     "name": "stdout",
     "output_type": "stream",
     "text": [
      "[0, 0, 1]\n"
     ]
    }
   ],
   "source": [
    "N = 3 \n",
    "arr = [0, 1, 0]\n",
    "sort012(arr,N)\n",
    "print(arr)"
   ]
  },
  {
   "cell_type": "code",
   "execution_count": null,
   "id": "79d6b36a",
   "metadata": {},
   "outputs": [],
   "source": []
  },
  {
   "cell_type": "markdown",
   "id": "3be95d7d",
   "metadata": {},
   "source": [
    "### 3-Pointer approach\n",
    "\n",
    "This problem is a variation of the popular  <b>Dutch National flag algorithm </b>\n",
    "\n",
    "### Intuition: \n",
    "In this approach, we will be using 3 pointers named low, mid, and high. We will be using these 3 pointers to move around the values. The primary goal here is to move 0s to the left and 2s to the right of the array and at the same time all the 1s shall be in the middle region of the array and hence the array will be sorted. \n",
    "\n",
    "### Approach: \n",
    "\n",
    "Initialize the 3 pointers such that low and mid will point to 0th index and high pointer will point to last index\n",
    "\n",
    "1. int low = 0\n",
    "2. int mid = 0\n",
    "3. int high = n – 1\n",
    "\n",
    "Now there will 3 different operations / steps based on the value of arr[mid] and will be repeated until <b>mid <= high.</b>\n",
    "1. if arr[mid] == 0:<br>\n",
    "swap(arr[low], arr[mid])<br>\n",
    "low++, mid++<br>\n",
    "\n",
    "2. if arr[mid] == 1:<br>\n",
    "mid++<br>\n",
    "\n",
    "3. if arr[mid] == 2:<br>\n",
    "swap(arr[mid], arr[high])<br>\n",
    "high–-<br>\n",
    "    \n",
    "The array formed after these steps will be a sorted array."
   ]
  },
  {
   "cell_type": "code",
   "execution_count": null,
   "id": "e8009b06",
   "metadata": {},
   "outputs": [],
   "source": []
  }
 ],
 "metadata": {
  "kernelspec": {
   "display_name": "Python 3",
   "language": "python",
   "name": "python3"
  },
  "language_info": {
   "codemirror_mode": {
    "name": "ipython",
    "version": 3
   },
   "file_extension": ".py",
   "mimetype": "text/x-python",
   "name": "python",
   "nbconvert_exporter": "python",
   "pygments_lexer": "ipython3",
   "version": "3.8.8"
  }
 },
 "nbformat": 4,
 "nbformat_minor": 5
}
