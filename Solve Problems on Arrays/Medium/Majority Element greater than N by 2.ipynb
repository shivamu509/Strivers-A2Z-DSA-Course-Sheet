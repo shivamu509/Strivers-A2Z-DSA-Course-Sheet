{
 "cells": [
  {
   "cell_type": "markdown",
   "id": "fb3c7e6a",
   "metadata": {},
   "source": [
    "## Find the Majority Element that occurs more than N/2 times\n",
    "### Given an array A of N elements. Find the majority element in the array. A majority element in an array A of size N is an element that appears more than N/2 times in the array.\n",
    " \n",
    "\n",
    "<br><b>Example 1:</b>\n",
    "<br><b>Input:</b>\n",
    "N = 3   A = [1,2,3] \n",
    "<br><b>Output:</b>\n",
    "-1\n",
    "<br><b>Explanation:</b>\n",
    "Since, each element in [1,2,3] appears only once so there is no majority element.\n",
    "\n",
    "<br><b>Example 2:</b>\n",
    "<br><b>Input:</b>\n",
    "N = 5   A = [3,1,3,3,2}]\n",
    "<br><b>Output:</b>\n",
    "3\n",
    "<br><b>Explanation:</b>\n",
    "Since, 3 is present more than N/2 times, so it is the majority element."
   ]
  },
  {
   "cell_type": "code",
   "execution_count": null,
   "id": "61a05027",
   "metadata": {},
   "outputs": [],
   "source": []
  },
  {
   "cell_type": "code",
   "execution_count": 13,
   "id": "b4d449d0",
   "metadata": {},
   "outputs": [],
   "source": [
    "#Approach I (brute force)\n",
    "#TC: O(N^2)\n",
    "#SC: O(N)\n",
    "\n",
    "def majorityElement(A, N):\n",
    "    counter = []\n",
    "    for i in range(N):\n",
    "        count = 1\n",
    "        for j in range(i+1,N):\n",
    "            if A[i] == A[j]:\n",
    "                count += 1\n",
    "        counter.append(count)\n",
    "\n",
    "    for i in range(N):\n",
    "        if counter[i]>N//2:\n",
    "            return A[i]\n",
    "    return -1"
   ]
  },
  {
   "cell_type": "code",
   "execution_count": 14,
   "id": "7f0ea98d",
   "metadata": {},
   "outputs": [
    {
     "data": {
      "text/plain": [
       "-1"
      ]
     },
     "execution_count": 14,
     "metadata": {},
     "output_type": "execute_result"
    }
   ],
   "source": [
    "majorityElement(N = 3, A = [1,2,3])"
   ]
  },
  {
   "cell_type": "code",
   "execution_count": 15,
   "id": "af9076e3",
   "metadata": {},
   "outputs": [
    {
     "data": {
      "text/plain": [
       "3"
      ]
     },
     "execution_count": 15,
     "metadata": {},
     "output_type": "execute_result"
    }
   ],
   "source": [
    "majorityElement(N = 5, A = [3,1,3,3,2])"
   ]
  },
  {
   "cell_type": "code",
   "execution_count": null,
   "id": "08db01cb",
   "metadata": {},
   "outputs": [],
   "source": []
  },
  {
   "cell_type": "code",
   "execution_count": 5,
   "id": "8a048839",
   "metadata": {},
   "outputs": [],
   "source": [
    "#Approach II (Using counter or dictornay to count occurence of each element)\n",
    "#TC: O(N)\n",
    "#SC: O(N)\n",
    "\n",
    "from collections import Counter\n",
    "\n",
    "def majorityElement(A, N):\n",
    "    a = Counter(A).most_common()\n",
    "    for (i,j) in a:\n",
    "        if j > N//2:\n",
    "            return i\n",
    "    return -1"
   ]
  },
  {
   "cell_type": "code",
   "execution_count": 6,
   "id": "1754dab6",
   "metadata": {},
   "outputs": [
    {
     "data": {
      "text/plain": [
       "-1"
      ]
     },
     "execution_count": 6,
     "metadata": {},
     "output_type": "execute_result"
    }
   ],
   "source": [
    "majorityElement(N = 3, A = [1,2,3])"
   ]
  },
  {
   "cell_type": "code",
   "execution_count": 8,
   "id": "d4e4e312",
   "metadata": {},
   "outputs": [
    {
     "data": {
      "text/plain": [
       "3"
      ]
     },
     "execution_count": 8,
     "metadata": {},
     "output_type": "execute_result"
    }
   ],
   "source": [
    "majorityElement(N = 5, A = [3,1,3,3,2])"
   ]
  },
  {
   "cell_type": "code",
   "execution_count": null,
   "id": "05f24dd7",
   "metadata": {},
   "outputs": [],
   "source": []
  },
  {
   "cell_type": "code",
   "execution_count": 16,
   "id": "b970a3f8",
   "metadata": {},
   "outputs": [],
   "source": [
    "#Approach III (Moore Voting Algorithm)\n",
    "#TC: O(N)\n",
    "#SC: O(1)\n",
    "\n",
    "def majorityElement(A, N):\n",
    "    me = 0\n",
    "    count = 0\n",
    "    for i in A:\n",
    "        if count == 0:\n",
    "            me = i\n",
    "            count += 1\n",
    "        elif me != i:\n",
    "            count -= 1\n",
    "        elif me == i:\n",
    "            count += 1\n",
    "    count = 0\n",
    "    for i in A:\n",
    "        if i == me:\n",
    "            count += 1\n",
    "\n",
    "    if count>(N//2):\n",
    "        return me\n",
    "    else:\n",
    "        return -1"
   ]
  },
  {
   "cell_type": "code",
   "execution_count": 17,
   "id": "de3b42c2",
   "metadata": {},
   "outputs": [
    {
     "data": {
      "text/plain": [
       "-1"
      ]
     },
     "execution_count": 17,
     "metadata": {},
     "output_type": "execute_result"
    }
   ],
   "source": [
    "majorityElement(N = 3, A = [1,2,3])"
   ]
  },
  {
   "cell_type": "code",
   "execution_count": 18,
   "id": "aa2f38a9",
   "metadata": {},
   "outputs": [
    {
     "data": {
      "text/plain": [
       "3"
      ]
     },
     "execution_count": 18,
     "metadata": {},
     "output_type": "execute_result"
    }
   ],
   "source": [
    "majorityElement(N = 5, A = [3,1,3,3,2])"
   ]
  },
  {
   "cell_type": "code",
   "execution_count": null,
   "id": "7d08712d",
   "metadata": {},
   "outputs": [],
   "source": []
  },
  {
   "cell_type": "markdown",
   "id": "40627522",
   "metadata": {},
   "source": [
    "## Moore’s Voting Algorithm\n",
    "\n",
    "### Intuition: \n",
    "\n",
    "If a array has a majority element we can say definitely the count is more than N/2.\n",
    "\n",
    "Majority element count = <b>N/2 + x;</b>\n",
    "\n",
    "Minority/Other elements = <b>N/2 – x;</b>\n",
    "\n",
    "Where x is the number of times it occurs after reaching the minimum value N/2.\n",
    "\n",
    "Now, we can say that count of minority elements and majority elements are equal up to a certain point of time in the array. So when we traverse through the array we try to keep track of the count of elements and which element we are tracking. Since the majority element appears more than N/2 times, we can say that at some point in array traversal we find the majority element. \n",
    "\n",
    "\n",
    "### Approach: \n",
    "\n",
    "1. Initialize 2 variables:<br> \n",
    "    a. Count –  for tracking the count of element<br>\n",
    "    b. Element – for which element we are counting<br>\n",
    "\n",
    "2. Traverse through nums array.<br>\n",
    "    a. If Count is 0 then initialize the current traversing integer of array as Element <br>\n",
    "    b. If the traversing integer of array and Element are same increase Count by 1<br>\n",
    "    c. If they are different decrease Count by 1<br>\n",
    "\n",
    "3. Traverse the array again and check the no of occurence of Element<br>\n",
    "    a. if occurence > N/2 then, integer present in Element is the result we are expecting <br>\n",
    "    b. else return -1 as the occurence is equal or less than the N/2"
   ]
  },
  {
   "cell_type": "code",
   "execution_count": null,
   "id": "f864c3b3",
   "metadata": {},
   "outputs": [],
   "source": []
  }
 ],
 "metadata": {
  "kernelspec": {
   "display_name": "Python 3",
   "language": "python",
   "name": "python3"
  },
  "language_info": {
   "codemirror_mode": {
    "name": "ipython",
    "version": 3
   },
   "file_extension": ".py",
   "mimetype": "text/x-python",
   "name": "python",
   "nbconvert_exporter": "python",
   "pygments_lexer": "ipython3",
   "version": "3.8.8"
  }
 },
 "nbformat": 4,
 "nbformat_minor": 5
}
