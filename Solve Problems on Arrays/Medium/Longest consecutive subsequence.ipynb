{
 "cells": [
  {
   "cell_type": "markdown",
   "id": "3a281c11",
   "metadata": {},
   "source": [
    "## Longest consecutive subsequence\n",
    "### Given an array of positive integers. Find the length of the longest sub-sequence such that elements in the subsequence are consecutive integers, the consecutive numbers can be in any order.\n",
    " \n",
    "\n",
    "<b>Example 1:</b><br>\n",
    "<b>Input:</b><br>\n",
    "N = 7<br>\n",
    "a = [2,6,1,9,4,5,3]<br>\n",
    "<b>Output:</b><br>\n",
    "6<br>\n",
    "<b>Explanation:</b><br>\n",
    "The consecutive numbers here\n",
    "are 1, 2, 3, 4, 5, 6. These 6 \n",
    "numbers form the longest consecutive\n",
    "subsquence.\n",
    "\n",
    "<b>Example 2:</b><br>\n",
    "<b>Input:</b><br>\n",
    "N = 10<br>\n",
    "a = [0,3,7,2,5,8,4,6,0,1]<br>\n",
    "<b>Output: </b><br>\n",
    "9"
   ]
  },
  {
   "cell_type": "code",
   "execution_count": null,
   "id": "23241cdb",
   "metadata": {},
   "outputs": [],
   "source": []
  },
  {
   "cell_type": "code",
   "execution_count": 1,
   "id": "b3750b9f",
   "metadata": {},
   "outputs": [],
   "source": [
    "#Approach I (brute force)\n",
    "#TC: O(NlogN)\n",
    "#SC: O(1)\n",
    "\n",
    "def findLongestConseqSubseq(arr, N):\n",
    "    arr.sort()\n",
    "    ans = 0\n",
    "    k = arr[0]\n",
    "    curlen = 1\n",
    "    for i in arr:\n",
    "        if k + 1 == i:\n",
    "            curlen += 1\n",
    "        elif k!=i:\n",
    "            curlen = 1\n",
    "\n",
    "        ans = max(curlen,ans)\n",
    "        k = i\n",
    "    return max(curlen,ans)"
   ]
  },
  {
   "cell_type": "code",
   "execution_count": 3,
   "id": "0da0f311",
   "metadata": {},
   "outputs": [
    {
     "data": {
      "text/plain": [
       "6"
      ]
     },
     "execution_count": 3,
     "metadata": {},
     "output_type": "execute_result"
    }
   ],
   "source": [
    "N = 7\n",
    "a = [2,6,1,9,4,5,3]\n",
    "findLongestConseqSubseq(a,N)"
   ]
  },
  {
   "cell_type": "code",
   "execution_count": 4,
   "id": "885f7231",
   "metadata": {},
   "outputs": [
    {
     "data": {
      "text/plain": [
       "9"
      ]
     },
     "execution_count": 4,
     "metadata": {},
     "output_type": "execute_result"
    }
   ],
   "source": [
    "N = 10\n",
    "a = [0,3,7,2,5,8,4,6,0,1]\n",
    "findLongestConseqSubseq(a,N)"
   ]
  },
  {
   "cell_type": "code",
   "execution_count": null,
   "id": "1cb57058",
   "metadata": {},
   "outputs": [],
   "source": []
  },
  {
   "cell_type": "code",
   "execution_count": 5,
   "id": "6df9b247",
   "metadata": {},
   "outputs": [],
   "source": [
    "#Approach II (Using dectonary)\n",
    "#TC: O(N)\n",
    "#SC: O(N)\n",
    "\n",
    "def findLongestConseqSubseq(arr,N):\n",
    "    d = {}\n",
    "    ans = 1\n",
    "    for i in arr:\n",
    "        if i not in d:\n",
    "            d[i] = True\n",
    "    for i in arr:\n",
    "        if i+1 not in d:\n",
    "            j = i-1\n",
    "            cnt = 1\n",
    "            while j in d:\n",
    "                cnt += 1\n",
    "                j -= 1\n",
    "            ans = max(ans,cnt)\n",
    "    return ans"
   ]
  },
  {
   "cell_type": "code",
   "execution_count": 6,
   "id": "458e3a95",
   "metadata": {},
   "outputs": [
    {
     "data": {
      "text/plain": [
       "6"
      ]
     },
     "execution_count": 6,
     "metadata": {},
     "output_type": "execute_result"
    }
   ],
   "source": [
    "N = 7\n",
    "a = [2,6,1,9,4,5,3]\n",
    "findLongestConseqSubseq(a,N)"
   ]
  },
  {
   "cell_type": "code",
   "execution_count": 7,
   "id": "35b0abed",
   "metadata": {},
   "outputs": [
    {
     "data": {
      "text/plain": [
       "9"
      ]
     },
     "execution_count": 7,
     "metadata": {},
     "output_type": "execute_result"
    }
   ],
   "source": [
    "N = 10\n",
    "a = [0,3,7,2,5,8,4,6,0,1]\n",
    "findLongestConseqSubseq(a,N)"
   ]
  },
  {
   "cell_type": "code",
   "execution_count": null,
   "id": "dddb97c0",
   "metadata": {},
   "outputs": [],
   "source": []
  }
 ],
 "metadata": {
  "kernelspec": {
   "display_name": "Python 3",
   "language": "python",
   "name": "python3"
  },
  "language_info": {
   "codemirror_mode": {
    "name": "ipython",
    "version": 3
   },
   "file_extension": ".py",
   "mimetype": "text/x-python",
   "name": "python",
   "nbconvert_exporter": "python",
   "pygments_lexer": "ipython3",
   "version": "3.8.8"
  }
 },
 "nbformat": 4,
 "nbformat_minor": 5
}
