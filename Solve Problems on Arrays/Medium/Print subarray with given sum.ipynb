{
 "cells": [
  {
   "cell_type": "markdown",
   "id": "cdcc90f4",
   "metadata": {},
   "source": [
    "### Problem Statement: Subarray with Given Sum\n",
    "\n",
    "Given an array and a sum k, generate the subarray whose elements sum to k.\n",
    "\n",
    "<b>Example 1:</b><br>\n",
    "<b>Input:</b><br>\n",
    " arr = [1, 7, 3, 9], k = 10<br>\n",
    "<b>Output:</b> <br>\n",
    "7 3<br>\n",
    "<b>Explanation:</b> Of all the subarrays, 7 and 3 sums to 10.\n",
    "\n",
    "<b>Example 2:</b><br>\n",
    "<b>Input:</b> <br>\n",
    "arr = [2,1,3,4,5,6], k = 10<br>\n",
    "<b>Output:</b> <br>\n",
    "2 1 3 4<br>\n",
    "<b>Explanation:</b> Of all the subarrays, 2, 1, 3 and 4 sums to 10"
   ]
  },
  {
   "cell_type": "code",
   "execution_count": 51,
   "id": "947ae6e3",
   "metadata": {},
   "outputs": [],
   "source": [
    "#Printing subarray function ... will be using inside all approach\n",
    "#TC: O(N)\n",
    "#SC: O(1)\n",
    "def printarray(arr,i,j):\n",
    "    for i in range(i,j+1):\n",
    "        print(arr[i],end = \" \")\n",
    "    print()"
   ]
  },
  {
   "cell_type": "code",
   "execution_count": null,
   "id": "974e6ce0",
   "metadata": {
    "scrolled": true
   },
   "outputs": [],
   "source": []
  },
  {
   "cell_type": "code",
   "execution_count": null,
   "id": "10570bd9",
   "metadata": {},
   "outputs": [],
   "source": []
  },
  {
   "cell_type": "code",
   "execution_count": 54,
   "id": "528b8078",
   "metadata": {},
   "outputs": [],
   "source": [
    "#Approach I (brute force)\n",
    "#TC: O(N^2 * N)   ... where N^2 is for loops and N is for printing\n",
    "#SC: 0(1)\n",
    "\n",
    "def subarray(arr,target):\n",
    "    n = len(arr)\n",
    "    for i in range(n):\n",
    "        temp = 0\n",
    "        for j in range(i,n):\n",
    "            temp += arr[j]\n",
    "            if temp == target:\n",
    "                printarray(arr,i,j)  #printing array"
   ]
  },
  {
   "cell_type": "code",
   "execution_count": 58,
   "id": "4f9497c1",
   "metadata": {},
   "outputs": [
    {
     "name": "stdout",
     "output_type": "stream",
     "text": [
      "3 7 \n",
      "1 9 \n"
     ]
    }
   ],
   "source": [
    "arr = [3, 7, 1, 9]\n",
    "k = 10\n",
    "subarray(arr,k)"
   ]
  },
  {
   "cell_type": "code",
   "execution_count": 59,
   "id": "987fda43",
   "metadata": {
    "scrolled": true
   },
   "outputs": [
    {
     "name": "stdout",
     "output_type": "stream",
     "text": [
      "2 3 5 \n",
      "4 6 \n"
     ]
    }
   ],
   "source": [
    "arr = [1,2,3,5,4,6]\n",
    "k = 10\n",
    "subarray(arr,k)"
   ]
  },
  {
   "cell_type": "code",
   "execution_count": null,
   "id": "fe533506",
   "metadata": {},
   "outputs": [],
   "source": []
  },
  {
   "cell_type": "code",
   "execution_count": 80,
   "id": "b3c74a9b",
   "metadata": {},
   "outputs": [],
   "source": [
    "#Approach II (Sliding window)\n",
    "#TC: O(N)\n",
    "#SC: O(N)\n",
    "\n",
    "def subarray(arr,target):\n",
    "    ans = 0\n",
    "    j = 0\n",
    "    n = len(arr)\n",
    "    for i in range(n):\n",
    "        ans += arr[i]\n",
    "        if ans > target:\n",
    "            while ans>target:\n",
    "                ans -= arr[j]\n",
    "                j += 1\n",
    "        if ans == target:\n",
    "            printarray(arr,j,i)"
   ]
  },
  {
   "cell_type": "code",
   "execution_count": 81,
   "id": "d9d85568",
   "metadata": {
    "scrolled": true
   },
   "outputs": [
    {
     "name": "stdout",
     "output_type": "stream",
     "text": [
      "7 3 \n"
     ]
    }
   ],
   "source": [
    "arr = [1, 7, 3, 9]\n",
    "k = 10\n",
    "subarray(arr,k)"
   ]
  },
  {
   "cell_type": "code",
   "execution_count": 82,
   "id": "e576577d",
   "metadata": {},
   "outputs": [
    {
     "name": "stdout",
     "output_type": "stream",
     "text": [
      "3 7 \n",
      "1 9 \n"
     ]
    }
   ],
   "source": [
    "arr = [3, 7, 1, 9]\n",
    "k = 10\n",
    "subarray(arr,k)"
   ]
  },
  {
   "cell_type": "code",
   "execution_count": 83,
   "id": "cf0c2d6c",
   "metadata": {
    "scrolled": true
   },
   "outputs": [
    {
     "name": "stdout",
     "output_type": "stream",
     "text": [
      "2 3 5 \n",
      "4 6 \n"
     ]
    }
   ],
   "source": [
    "arr = [1,2,3,5,4,6]\n",
    "k = 10\n",
    "subarray(arr,k)"
   ]
  },
  {
   "cell_type": "code",
   "execution_count": null,
   "id": "e3dec3f6",
   "metadata": {},
   "outputs": [],
   "source": [
    "\n"
   ]
  },
  {
   "cell_type": "code",
   "execution_count": null,
   "id": "13daa8fe",
   "metadata": {},
   "outputs": [],
   "source": []
  }
 ],
 "metadata": {
  "kernelspec": {
   "display_name": "Python 3",
   "language": "python",
   "name": "python3"
  },
  "language_info": {
   "codemirror_mode": {
    "name": "ipython",
    "version": 3
   },
   "file_extension": ".py",
   "mimetype": "text/x-python",
   "name": "python",
   "nbconvert_exporter": "python",
   "pygments_lexer": "ipython3",
   "version": "3.8.8"
  }
 },
 "nbformat": 4,
 "nbformat_minor": 5
}
