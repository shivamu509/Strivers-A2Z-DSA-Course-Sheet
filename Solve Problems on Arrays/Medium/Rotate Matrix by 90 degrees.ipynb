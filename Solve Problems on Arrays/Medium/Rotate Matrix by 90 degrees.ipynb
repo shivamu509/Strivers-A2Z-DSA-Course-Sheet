{
 "cells": [
  {
   "cell_type": "markdown",
   "id": "cc505260",
   "metadata": {},
   "source": [
    "## Rotate by 90 degree anti-clockwise (gfg)\n",
    "Given a square matrix of size N x N. The task is to rotate it by 90 degrees in anti-clockwise direction\n",
    "\n",
    "<b>Example 1:</b><br>\n",
    "<b>Input:</b><br>\n",
    "N = 3 <br>\n",
    "matrix = <br>\n",
    "[[1, 2, 3],<br>\n",
    "[4, 5, 6]<br>\n",
    "[7, 8, 9]]<br>\n",
    "<b>Output: </b><br>\n",
    "Rotated Matrix:<br>\n",
    "3 6 9<br>\n",
    "2 5 8<br>\n",
    "1 4 7\n",
    "\n",
    "<b>Example 2:</b><br>\n",
    "<b>Input:</b><br>\n",
    "N = 2<br>\n",
    "matrix = <br>\n",
    "[[1, 2],<br>\n",
    "[3, 4]]<br>\n",
    "<b>Output: </b><br>\n",
    "Rotated Matrix:<br>\n",
    "2 4<br>\n",
    "1 3"
   ]
  },
  {
   "cell_type": "code",
   "execution_count": null,
   "id": "52e69d07",
   "metadata": {},
   "outputs": [],
   "source": []
  },
  {
   "cell_type": "code",
   "execution_count": 4,
   "id": "9db11b57",
   "metadata": {},
   "outputs": [],
   "source": [
    "#Approach I (Using Extra space)\n",
    "#TC: O(N^2)\n",
    "#SC: O(N^2)\n",
    "\n",
    "def rotateby90(a, n):\n",
    "    mat = [[0]*n for i in range(n)]\n",
    "    for i in range(n):\n",
    "        for j in range(n):\n",
    "            mat[n-j-1][i] = a[i][j]\n",
    "    return mat"
   ]
  },
  {
   "cell_type": "code",
   "execution_count": 7,
   "id": "cf41cbc0",
   "metadata": {},
   "outputs": [
    {
     "name": "stdout",
     "output_type": "stream",
     "text": [
      "Original Matrix: \n",
      "[1, 2]\n",
      "[3, 4]\n",
      "Rotated Matrix: \n",
      "[2, 4]\n",
      "[1, 3]\n"
     ]
    }
   ],
   "source": [
    "N = 2\n",
    "matrix = [[1, 2], [3, 4]]\n",
    "print(\"Original Matrix: \")\n",
    "for i in matrix:\n",
    "    print(i)\n",
    "ans = rotateby90(matrix, N)\n",
    "print(\"Rotated Matrix: \")\n",
    "for i in ans:\n",
    "    print(i)"
   ]
  },
  {
   "cell_type": "code",
   "execution_count": 6,
   "id": "11acc00a",
   "metadata": {},
   "outputs": [
    {
     "name": "stdout",
     "output_type": "stream",
     "text": [
      "Original Matrix: \n",
      "[1, 2, 3]\n",
      "[4, 5, 6]\n",
      "[7, 8, 9]\n",
      "Rotated Matrix: \n",
      "[3, 6, 9]\n",
      "[2, 5, 8]\n",
      "[1, 4, 7]\n"
     ]
    }
   ],
   "source": [
    "N = 3\n",
    "matrix = [[1, 2, 3], [4, 5, 6], [7, 8, 9]]\n",
    "print(\"Original Matrix: \")\n",
    "for i in matrix:\n",
    "    print(i)\n",
    "ans = rotateby90(matrix, N)\n",
    "print(\"Rotated Matrix: \")\n",
    "for i in ans:\n",
    "    print(i)"
   ]
  },
  {
   "cell_type": "code",
   "execution_count": null,
   "id": "59d99726",
   "metadata": {},
   "outputs": [],
   "source": []
  },
  {
   "cell_type": "code",
   "execution_count": 16,
   "id": "d0099846",
   "metadata": {},
   "outputs": [],
   "source": [
    "#Approach II (without extra space)\n",
    "#TC: O(N^2)\n",
    "#SC: O(1)\n",
    "\n",
    "def rotateby90(a, n):\n",
    "    for i in range(n):\n",
    "        a[i][:] = a[i][::-1]\n",
    "    print(\"Reverse Matrix: \")\n",
    "    for i in a:\n",
    "        print(i)\n",
    "    for i in range(n):\n",
    "        for j in range(i+1,n):\n",
    "            a[i][j], a[j][i] = a[j][i], a[i][j]\n",
    "    return a"
   ]
  },
  {
   "cell_type": "code",
   "execution_count": 17,
   "id": "d15cf8fe",
   "metadata": {},
   "outputs": [
    {
     "name": "stdout",
     "output_type": "stream",
     "text": [
      "Original Matrix: \n",
      "[1, 2]\n",
      "[3, 4]\n",
      "Reverse Matrix: \n",
      "[2, 1]\n",
      "[4, 3]\n",
      "Rotated Matrix: \n",
      "[2, 4]\n",
      "[1, 3]\n"
     ]
    }
   ],
   "source": [
    "N = 2\n",
    "matrix = [[1, 2], [3, 4]]\n",
    "print(\"Original Matrix: \")\n",
    "for i in matrix:\n",
    "    print(i)\n",
    "ans = rotateby90(matrix, N)\n",
    "print(\"Rotated Matrix: \")\n",
    "for i in ans:\n",
    "    print(i)"
   ]
  },
  {
   "cell_type": "code",
   "execution_count": 18,
   "id": "aea7cf5b",
   "metadata": {},
   "outputs": [
    {
     "name": "stdout",
     "output_type": "stream",
     "text": [
      "Original Matrix: \n",
      "[1, 2, 3]\n",
      "[4, 5, 6]\n",
      "[7, 8, 9]\n",
      "Reverse Matrix: \n",
      "[3, 2, 1]\n",
      "[6, 5, 4]\n",
      "[9, 8, 7]\n",
      "Rotated Matrix: \n",
      "[3, 6, 9]\n",
      "[2, 5, 8]\n",
      "[1, 4, 7]\n"
     ]
    }
   ],
   "source": [
    "N = 3\n",
    "matrix = [[1, 2, 3], [4, 5, 6], [7, 8, 9]]\n",
    "print(\"Original Matrix: \")\n",
    "for i in matrix:\n",
    "    print(i)\n",
    "ans = rotateby90(matrix, N)\n",
    "print(\"Rotated Matrix: \")\n",
    "for i in ans:\n",
    "    print(i)"
   ]
  },
  {
   "cell_type": "code",
   "execution_count": null,
   "id": "fed9b2b0",
   "metadata": {},
   "outputs": [],
   "source": []
  },
  {
   "cell_type": "markdown",
   "id": "c25d9e99",
   "metadata": {},
   "source": [
    "<b>Intuition: </b><br>\n",
    "By observation, we see that the first row of the original matrix is the reverse of the first column of the rotated matrix, so that’s why we reverse each row and then transpose the matrix, and since we are making changes in the matrix itself space complexity gets reduced to O(1)."
   ]
  },
  {
   "cell_type": "code",
   "execution_count": null,
   "id": "f00fa599",
   "metadata": {},
   "outputs": [],
   "source": []
  },
  {
   "cell_type": "markdown",
   "id": "afe134a5",
   "metadata": {},
   "source": [
    "### To rotate 90 degree clockwise (LC)\n",
    "\n",
    "Step1: Transpose of the matrix. (transposing means changing columns to rows and rows to columns)<br>\n",
    "Step2: Reverse each row of the matrix."
   ]
  },
  {
   "cell_type": "code",
   "execution_count": null,
   "id": "171e1c03",
   "metadata": {},
   "outputs": [],
   "source": []
  }
 ],
 "metadata": {
  "kernelspec": {
   "display_name": "Python 3",
   "language": "python",
   "name": "python3"
  },
  "language_info": {
   "codemirror_mode": {
    "name": "ipython",
    "version": 3
   },
   "file_extension": ".py",
   "mimetype": "text/x-python",
   "name": "python",
   "nbconvert_exporter": "python",
   "pygments_lexer": "ipython3",
   "version": "3.8.8"
  }
 },
 "nbformat": 4,
 "nbformat_minor": 5
}
