{
 "cells": [
  {
   "cell_type": "code",
   "execution_count": 105,
   "id": "aa6c1ded",
   "metadata": {},
   "outputs": [],
   "source": [
    "n =5\n",
    "a = \"ABCDEFGHIJKLMNOPQRSTUVWXYZ\""
   ]
  },
  {
   "cell_type": "code",
   "execution_count": 6,
   "id": "cac8bbfd",
   "metadata": {},
   "outputs": [
    {
     "name": "stdout",
     "output_type": "stream",
     "text": [
      "* * * * * \n",
      "* * * * * \n",
      "* * * * * \n",
      "* * * * * \n",
      "* * * * * \n"
     ]
    }
   ],
   "source": [
    "#P1\n",
    "for i in range(0,n):\n",
    "    for j in range(0,n):\n",
    "        print('*',end=\" \")\n",
    "    print()"
   ]
  },
  {
   "cell_type": "code",
   "execution_count": 8,
   "id": "35f6ae32",
   "metadata": {},
   "outputs": [
    {
     "name": "stdout",
     "output_type": "stream",
     "text": [
      "* \n",
      "* * \n",
      "* * * \n",
      "* * * * \n",
      "* * * * * \n"
     ]
    }
   ],
   "source": [
    "#P2\n",
    "for i in range(0,n):\n",
    "    for j in range(i+1):\n",
    "        print('*',end=\" \")\n",
    "    print()"
   ]
  },
  {
   "cell_type": "code",
   "execution_count": 13,
   "id": "6de13dc1",
   "metadata": {},
   "outputs": [
    {
     "name": "stdout",
     "output_type": "stream",
     "text": [
      "1 \n",
      "1 2 \n",
      "1 2 3 \n",
      "1 2 3 4 \n",
      "1 2 3 4 5 \n"
     ]
    }
   ],
   "source": [
    "#P3\n",
    "for i in range(1,n+1):\n",
    "    for j in range(1,i+1):\n",
    "        print(j, end= \" \")\n",
    "    print()"
   ]
  },
  {
   "cell_type": "code",
   "execution_count": 14,
   "id": "350dfa96",
   "metadata": {},
   "outputs": [
    {
     "name": "stdout",
     "output_type": "stream",
     "text": [
      "1 \n",
      "2 2 \n",
      "3 3 3 \n",
      "4 4 4 4 \n",
      "5 5 5 5 5 \n"
     ]
    }
   ],
   "source": [
    "#P4\n",
    "for i in range(1,n+1):\n",
    "    for j in range(0,i):\n",
    "        print(i, end=\" \")\n",
    "    print()"
   ]
  },
  {
   "cell_type": "code",
   "execution_count": 16,
   "id": "72bc26d2",
   "metadata": {},
   "outputs": [
    {
     "name": "stdout",
     "output_type": "stream",
     "text": [
      "* * * * * \n",
      "* * * * \n",
      "* * * \n",
      "* * \n",
      "* \n"
     ]
    }
   ],
   "source": [
    "#P5\n",
    "for i in range(0,n):\n",
    "    for j in range(0,n-i):\n",
    "        print('*',end=\" \")\n",
    "    print()"
   ]
  },
  {
   "cell_type": "code",
   "execution_count": 17,
   "id": "26aa5ac0",
   "metadata": {},
   "outputs": [
    {
     "name": "stdout",
     "output_type": "stream",
     "text": [
      "1 2 3 4 5 \n",
      "1 2 3 4 \n",
      "1 2 3 \n",
      "1 2 \n",
      "1 \n"
     ]
    }
   ],
   "source": [
    "#P6\n",
    "for i in range(0,n):\n",
    "    for j in range(1,n-i+1):\n",
    "        print(j,end=\" \")\n",
    "    print()"
   ]
  },
  {
   "cell_type": "code",
   "execution_count": 22,
   "id": "c9167681",
   "metadata": {},
   "outputs": [
    {
     "name": "stdout",
     "output_type": "stream",
     "text": [
      "        * \n",
      "      * * * \n",
      "    * * * * * \n",
      "  * * * * * * * \n",
      "* * * * * * * * * \n"
     ]
    }
   ],
   "source": [
    "#P7\n",
    "for i in range(0,n):\n",
    "    for j in range(1,n-i):\n",
    "        print(\" \",end=\" \")\n",
    "    for k in range(1,2*i+2):\n",
    "        print('*',end=\" \")\n",
    "    print()"
   ]
  },
  {
   "cell_type": "code",
   "execution_count": 27,
   "id": "9694046b",
   "metadata": {},
   "outputs": [
    {
     "name": "stdout",
     "output_type": "stream",
     "text": [
      "* * * * * * * * * \n",
      "  * * * * * * * \n",
      "    * * * * * \n",
      "      * * * \n",
      "        * \n"
     ]
    }
   ],
   "source": [
    "#P8\n",
    "for i in range(0,n):\n",
    "    for j in range(0,i):\n",
    "        print(\" \",end=\" \")\n",
    "    for k in range(1,(n-i)*2):\n",
    "        print('*',end=\" \")\n",
    "    print()"
   ]
  },
  {
   "cell_type": "code",
   "execution_count": 28,
   "id": "4aed462c",
   "metadata": {},
   "outputs": [
    {
     "name": "stdout",
     "output_type": "stream",
     "text": [
      "        * \n",
      "      * * * \n",
      "    * * * * * \n",
      "  * * * * * * * \n",
      "* * * * * * * * * \n",
      "* * * * * * * * * \n",
      "  * * * * * * * \n",
      "    * * * * * \n",
      "      * * * \n",
      "        * \n"
     ]
    }
   ],
   "source": [
    "#P9\n",
    "for i in range(0,n):\n",
    "    for j in range(1,n-i):\n",
    "        print(\" \",end=\" \")\n",
    "    for k in range(1,2*i+2):\n",
    "        print('*',end=\" \")\n",
    "    print()\n",
    "for i in range(0,n):\n",
    "    for j in range(0,i):\n",
    "        print(\" \",end=\" \")\n",
    "    for k in range(1,(n-i)*2):\n",
    "        print('*',end=\" \")\n",
    "    print()"
   ]
  },
  {
   "cell_type": "code",
   "execution_count": 31,
   "id": "3258af3a",
   "metadata": {},
   "outputs": [
    {
     "name": "stdout",
     "output_type": "stream",
     "text": [
      "\n",
      "* \n",
      "* * \n",
      "* * * \n",
      "* * * * \n",
      "* * * * * \n",
      "* * * * \n",
      "* * * \n",
      "* * \n",
      "* \n"
     ]
    }
   ],
   "source": [
    "#P10\n",
    "for i in range(n+1):\n",
    "    for j in range(i):\n",
    "        print('*',end=\" \")\n",
    "    print()\n",
    "for i in range(1,n):\n",
    "    for j in range(n-i):\n",
    "        print('*',end=\" \")\n",
    "    print()"
   ]
  },
  {
   "cell_type": "code",
   "execution_count": 35,
   "id": "7507e8d3",
   "metadata": {},
   "outputs": [
    {
     "name": "stdout",
     "output_type": "stream",
     "text": [
      "1 \n",
      "0 1 \n",
      "1 0 1 \n",
      "0 1 0 1 \n",
      "1 0 1 0 1 \n"
     ]
    }
   ],
   "source": [
    "#P11\n",
    "for i in range(n):\n",
    "    for j in range(i+1,0,-1):\n",
    "        if j%2!=0:\n",
    "            print('1',end=\" \")\n",
    "        else:\n",
    "            print('0',end=\" \")\n",
    "    print()"
   ]
  },
  {
   "cell_type": "code",
   "execution_count": 39,
   "id": "c3214490",
   "metadata": {},
   "outputs": [
    {
     "name": "stdout",
     "output_type": "stream",
     "text": [
      "1             1 \n",
      "1 2         2 1 \n",
      "1 2 3     3 2 1 \n",
      "1 2 3 4 4 3 2 1 \n"
     ]
    }
   ],
   "source": [
    "#P12\n",
    "for i in range(1,n):\n",
    "    for j in range(1,i+1):\n",
    "        print(j,end=\" \")\n",
    "    for k in range(2*(n-i)-2): #or for k in range(n-i-1):\n",
    "        print(\" \",end=\" \")     #or    print(\"  \",end=\"  \")\n",
    "    for l in range(i,0,-1):\n",
    "        print(l,end=\" \")\n",
    "    print()"
   ]
  },
  {
   "cell_type": "code",
   "execution_count": 40,
   "id": "d991e4a9",
   "metadata": {},
   "outputs": [
    {
     "name": "stdout",
     "output_type": "stream",
     "text": [
      "1 \n",
      "2 3 \n",
      "4 5 6 \n",
      "7 8 9 10 \n",
      "11 12 13 14 15 \n"
     ]
    }
   ],
   "source": [
    "#P13\n",
    "cnt = 1\n",
    "for i in range(n):\n",
    "    for j in range(i+1):\n",
    "        print(cnt,end=\" \")\n",
    "        cnt += 1\n",
    "    print()"
   ]
  },
  {
   "cell_type": "code",
   "execution_count": 42,
   "id": "e747e636",
   "metadata": {},
   "outputs": [
    {
     "name": "stdout",
     "output_type": "stream",
     "text": [
      "A \n",
      "A B \n",
      "A B C \n",
      "A B C D \n",
      "A B C D E \n"
     ]
    }
   ],
   "source": [
    "#P14\n",
    "for i in range(n):\n",
    "    for j in range(i+1):\n",
    "        print(a[j],end=\" \") #a is initialised above\n",
    "    print()"
   ]
  },
  {
   "cell_type": "code",
   "execution_count": 45,
   "id": "7d47bd77",
   "metadata": {},
   "outputs": [
    {
     "name": "stdout",
     "output_type": "stream",
     "text": [
      "A B C D E \n",
      "A B C D \n",
      "A B C \n",
      "A B \n",
      "A \n"
     ]
    }
   ],
   "source": [
    "#P15\n",
    "for i in range(1,n+1):\n",
    "    for j in range(n-i+1):\n",
    "        print(a[j],end=\" \")\n",
    "    print()"
   ]
  },
  {
   "cell_type": "code",
   "execution_count": 46,
   "id": "d8cfb419",
   "metadata": {},
   "outputs": [
    {
     "name": "stdout",
     "output_type": "stream",
     "text": [
      "A \n",
      "B B \n",
      "C C C \n",
      "D D D D \n",
      "E E E E E \n"
     ]
    }
   ],
   "source": [
    "#P16\n",
    "for i in range(n):\n",
    "    for j in range(i+1):\n",
    "        print(a[i],end=\" \")\n",
    "    print()"
   ]
  },
  {
   "cell_type": "code",
   "execution_count": 47,
   "id": "4910aaa3",
   "metadata": {},
   "outputs": [
    {
     "name": "stdout",
     "output_type": "stream",
     "text": [
      "E \n",
      "D E \n",
      "C D E \n",
      "B C D E \n",
      "A B C D E \n"
     ]
    }
   ],
   "source": [
    "#P17\n",
    "for i in range(1,n+1):\n",
    "    for j in range(n-i,n):\n",
    "        print(a[j],end=\" \")\n",
    "    print()"
   ]
  },
  {
   "cell_type": "code",
   "execution_count": 52,
   "id": "8a656011",
   "metadata": {},
   "outputs": [
    {
     "name": "stdout",
     "output_type": "stream",
     "text": [
      "* * * * * * * * * * \n",
      "* * * *     * * * * \n",
      "* * *         * * * \n",
      "* *             * * \n",
      "*                 * \n",
      "*                 * \n",
      "* *             * * \n",
      "* * *         * * * \n",
      "* * * *     * * * * \n",
      "* * * * * * * * * * \n"
     ]
    }
   ],
   "source": [
    "#P18\n",
    "def star(n):\n",
    "    for i in range(n):\n",
    "        print('*',end=\" \")\n",
    "        \n",
    "def space(n):\n",
    "    for i in range(n):\n",
    "        print(' ',end=\" \")\n",
    "        \n",
    "for i in range(1,n+1):\n",
    "    star(n-i+1)\n",
    "    space(2*(i-1))\n",
    "    star(n-i+1)\n",
    "    print()\n",
    "    \n",
    "for i in range(1,n+1):\n",
    "    star(i)\n",
    "    space(2*(n-i))\n",
    "    star(i)\n",
    "    print()"
   ]
  },
  {
   "cell_type": "code",
   "execution_count": 56,
   "id": "b916be99",
   "metadata": {},
   "outputs": [
    {
     "name": "stdout",
     "output_type": "stream",
     "text": [
      "*                 * \n",
      "* *             * * \n",
      "* * *         * * * \n",
      "* * * *     * * * * \n",
      "* * * * * * * * * * \n",
      "* * * *     * * * * \n",
      "* * *         * * * \n",
      "* *             * * \n",
      "*                 * \n"
     ]
    }
   ],
   "source": [
    "#P19\n",
    "def star(n):\n",
    "    for i in range(n):\n",
    "        print('*',end=\" \")\n",
    "        \n",
    "def space(n):\n",
    "    for i in range(n):\n",
    "        print(' ',end=\" \")\n",
    "\n",
    "for i in range(1,n+1):\n",
    "    star(i)\n",
    "    space(2*(n-i))\n",
    "    star(i)\n",
    "    print()\n",
    "for i in range(1,n):\n",
    "    star(n-i)\n",
    "    space(2*i)\n",
    "    star(n-i)\n",
    "    print()"
   ]
  },
  {
   "cell_type": "code",
   "execution_count": 64,
   "id": "ce154a39",
   "metadata": {},
   "outputs": [
    {
     "name": "stdout",
     "output_type": "stream",
     "text": [
      "* * * * \n",
      "\n",
      "*     * \n",
      "\n",
      "*     * \n",
      "\n",
      "*     * \n",
      "\n",
      "* * * * \n",
      "\n"
     ]
    }
   ],
   "source": [
    "#P20\n",
    "def star(n):\n",
    "    for i in range(n):\n",
    "        print('*',end=\" \")\n",
    "        \n",
    "def space(n):\n",
    "    for i in range(n):\n",
    "        print(' ',end=\" \")\n",
    "\n",
    "for i in range(n):\n",
    "    if i==0 or i==n-1:\n",
    "        star(n-1)\n",
    "    else:\n",
    "        star(1)\n",
    "        space(n-3)\n",
    "        star(1)\n",
    "    print('\\n')"
   ]
  },
  {
   "cell_type": "code",
   "execution_count": 106,
   "id": "7315c081",
   "metadata": {},
   "outputs": [
    {
     "name": "stdout",
     "output_type": "stream",
     "text": [
      "4 4 4 4 4 4 4 \n",
      "4 3 3 3 3 3 4 \n",
      "4 3 2 2 2 3 4 \n",
      "4 3 2 1 2 3 4 \n",
      "4 3 2 2 2 3 4 \n",
      "4 3 3 3 3 3 4 \n",
      "4 4 4 4 4 4 4 \n",
      "\n"
     ]
    }
   ],
   "source": [
    "#P21\n",
    "for i in range(n-1,0,-1):\n",
    "    cnt = n-1\n",
    "    for j in range(n-1,0,-1):\n",
    "        if i<j:\n",
    "            print(cnt,end=\" \")\n",
    "            cnt -=1\n",
    "        else:\n",
    "            print(cnt, end = \" \")\n",
    "    cnt = i\n",
    "    for j in range(1,n):\n",
    "        if j==1:\n",
    "            continue\n",
    "        if i>=j:\n",
    "            print(cnt,end=\" \")\n",
    "        else:\n",
    "            cnt += 1\n",
    "            print(cnt, end=\" \")          \n",
    "    print()\n",
    "\n",
    "for i in range(2,n):\n",
    "    cnt = n\n",
    "    for j in range(n-1,0,-1):\n",
    "        if i>j:\n",
    "            print(cnt,end=\" \")\n",
    "        else:\n",
    "            cnt-=1\n",
    "            print(cnt,end=\" \")\n",
    "    cnt = i\n",
    "    for j in range(1,n):\n",
    "        if j==1:\n",
    "            continue\n",
    "        if i>=j:\n",
    "            print(cnt,end=\" \")\n",
    "        else:\n",
    "            cnt += 1\n",
    "            print(cnt, end=\" \")\n",
    "    print()\n",
    "print()"
   ]
  },
  {
   "cell_type": "code",
   "execution_count": 102,
   "id": "df170618",
   "metadata": {},
   "outputs": [
    {
     "name": "stdout",
     "output_type": "stream",
     "text": [
      "4 4 4 4 4 4 4 4 \n",
      "4 3 3 3 3 3 3 4 \n",
      "4 3 2 2 2 2 3 4 \n",
      "4 3 2 1 1 2 3 4 \n",
      "4 3 2 1 1 2 3 4 \n",
      "4 3 2 2 2 2 3 4 \n",
      "4 3 3 3 3 3 3 4 \n",
      "4 4 4 4 4 4 4 4 \n",
      "\n"
     ]
    }
   ],
   "source": [
    "#Extra\n",
    "\n",
    "for i in range(n-1,0,-1):\n",
    "    cnt = n-1\n",
    "    for j in range(n-1,0,-1):\n",
    "        if i<j:\n",
    "            print(cnt,end=\" \")\n",
    "            cnt -=1\n",
    "        else:\n",
    "            print(cnt, end = \" \")\n",
    "    cnt = i\n",
    "    for j in range(1,n):\n",
    "        if i>=j:\n",
    "            print(cnt,end=\" \")\n",
    "        else:\n",
    "            cnt += 1\n",
    "            print(cnt, end=\" \")          \n",
    "    print()\n",
    "\n",
    "for i in range(1,n):\n",
    "    cnt = n\n",
    "    for j in range(n-1,0,-1):\n",
    "        if i>j:\n",
    "            print(cnt,end=\" \")\n",
    "        else:\n",
    "            cnt-=1\n",
    "            print(cnt,end=\" \")\n",
    "    cnt = i\n",
    "    for j in range(1,n):\n",
    "        if i>=j:\n",
    "            print(cnt,end=\" \")\n",
    "        else:\n",
    "            cnt += 1\n",
    "            print(cnt, end=\" \")\n",
    "    print()\n",
    "print()"
   ]
  },
  {
   "cell_type": "code",
   "execution_count": null,
   "id": "8b23bc0e",
   "metadata": {},
   "outputs": [],
   "source": []
  }
 ],
 "metadata": {
  "kernelspec": {
   "display_name": "Python 3",
   "language": "python",
   "name": "python3"
  },
  "language_info": {
   "codemirror_mode": {
    "name": "ipython",
    "version": 3
   },
   "file_extension": ".py",
   "mimetype": "text/x-python",
   "name": "python",
   "nbconvert_exporter": "python",
   "pygments_lexer": "ipython3",
   "version": "3.8.8"
  }
 },
 "nbformat": 4,
 "nbformat_minor": 5
}
