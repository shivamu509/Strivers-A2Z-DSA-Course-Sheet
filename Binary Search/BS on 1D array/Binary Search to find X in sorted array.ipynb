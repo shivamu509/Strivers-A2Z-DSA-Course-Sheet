{
 "cells": [
  {
   "cell_type": "markdown",
   "id": "755acd34",
   "metadata": {},
   "source": [
    "## Binary Search\n",
    "### Given a sorted array of size N and an integer K, find the position at which K is present in the array using binary search.\n",
    "\n",
    "<b>Example 1:</b><br>\n",
    "<b>Input:</b><br>\n",
    "N = 5<br>\n",
    "arr[] = {1 2 3 4 5} <br>\n",
    "K = 4<br>\n",
    "<b>Output: </b><br>\n",
    "3<br>\n",
    "<b>Explanation: </b><br>\n",
    "4 appears at index 3.\n",
    "\n",
    "<b>Example 2:</b><br>\n",
    "<b>Input:</b><br>\n",
    "N = 5<br>\n",
    "arr[] = {11 22 33 44 55} <br>\n",
    "K = 445<br>\n",
    "<b>Output: </b><br>\n",
    "-1<br>\n",
    "<b>Explanation: </b><br>\n",
    "445 is not present.<br>"
   ]
  },
  {
   "cell_type": "code",
   "execution_count": null,
   "id": "028ac303",
   "metadata": {},
   "outputs": [],
   "source": []
  },
  {
   "cell_type": "code",
   "execution_count": 1,
   "id": "b80d0f9a",
   "metadata": {},
   "outputs": [],
   "source": [
    "#Approach 1 (Brute Force)\n",
    "#TC : O(N)\n",
    "#SC: O(1)\n",
    "def search(n,arr,k):\n",
    "    for i in range(n):\n",
    "        if arr[i]==k:\n",
    "            return i\n",
    "    return -1"
   ]
  },
  {
   "cell_type": "code",
   "execution_count": 3,
   "id": "152e92d8",
   "metadata": {},
   "outputs": [
    {
     "data": {
      "text/plain": [
       "3"
      ]
     },
     "execution_count": 3,
     "metadata": {},
     "output_type": "execute_result"
    }
   ],
   "source": [
    "N = 5\n",
    "arr = [1, 2, 3, 4, 5]\n",
    "K = 4\n",
    "search(N,arr,K)"
   ]
  },
  {
   "cell_type": "code",
   "execution_count": 4,
   "id": "2eed09de",
   "metadata": {},
   "outputs": [
    {
     "data": {
      "text/plain": [
       "-1"
      ]
     },
     "execution_count": 4,
     "metadata": {},
     "output_type": "execute_result"
    }
   ],
   "source": [
    "N = 5\n",
    "arr = [11, 22, 33, 44, 55]\n",
    "K = 445\n",
    "search(N,arr,K)"
   ]
  },
  {
   "cell_type": "code",
   "execution_count": null,
   "id": "9e66f2b2",
   "metadata": {},
   "outputs": [],
   "source": []
  },
  {
   "cell_type": "code",
   "execution_count": 5,
   "id": "d342d722",
   "metadata": {},
   "outputs": [],
   "source": [
    "#Approach II\n",
    "#TC : O(logN)\n",
    "#SC: O(1)\n",
    "def search(n,arr,k):\n",
    "    i = 0\n",
    "    j = n-1\n",
    "    while i<=j:\n",
    "        mid = i + (j-i)//2\n",
    "        if arr[mid]==k:\n",
    "            return mid\n",
    "        if arr[mid]<k:\n",
    "            i = mid + 1\n",
    "        else:\n",
    "            j = mid - 1\n",
    "    return -1"
   ]
  },
  {
   "cell_type": "code",
   "execution_count": 6,
   "id": "c228b725",
   "metadata": {},
   "outputs": [
    {
     "data": {
      "text/plain": [
       "3"
      ]
     },
     "execution_count": 6,
     "metadata": {},
     "output_type": "execute_result"
    }
   ],
   "source": [
    "N = 5\n",
    "arr = [1, 2, 3, 4, 5]\n",
    "K = 4\n",
    "search(N,arr,K)"
   ]
  },
  {
   "cell_type": "code",
   "execution_count": 7,
   "id": "db5babd1",
   "metadata": {},
   "outputs": [
    {
     "data": {
      "text/plain": [
       "-1"
      ]
     },
     "execution_count": 7,
     "metadata": {},
     "output_type": "execute_result"
    }
   ],
   "source": [
    "N = 5\n",
    "arr = [11, 22, 33, 44, 55]\n",
    "K = 445\n",
    "search(N,arr,K)"
   ]
  },
  {
   "cell_type": "code",
   "execution_count": null,
   "id": "4f5d8489",
   "metadata": {},
   "outputs": [],
   "source": []
  }
 ],
 "metadata": {
  "kernelspec": {
   "display_name": "Python 3",
   "language": "python",
   "name": "python3"
  },
  "language_info": {
   "codemirror_mode": {
    "name": "ipython",
    "version": 3
   },
   "file_extension": ".py",
   "mimetype": "text/x-python",
   "name": "python",
   "nbconvert_exporter": "python",
   "pygments_lexer": "ipython3",
   "version": "3.8.8"
  }
 },
 "nbformat": 4,
 "nbformat_minor": 5
}
