{
 "cells": [
  {
   "cell_type": "markdown",
   "id": "ceb7ce02",
   "metadata": {},
   "source": [
    "## Floor in a Sorted Array\n",
    "### Given a sorted array arr[] of size N without duplicates, and given a value x. Floor of x is defined as the largest element K in arr[] such that K is smaller than or equal to x. Find the index of K(0-based indexing).\n",
    "\n",
    "<b>Example 1:</b><br>\n",
    "<b>Input:</b><br>\n",
    "N = 7,<br>x = 0<br>\n",
    "arr[] = {1,2,8,10,11,12,19}<br>\n",
    "<b>Output: </b><br>\n",
    "-1<br>\n",
    "<b>Explanation: </b><br>\n",
    "No element less than 0 is found. So output is \"-1\".\n",
    "\n",
    "<b>Example 2:</b><br>\n",
    "<b>Input:</b><br>\n",
    "N = 7,<br>x = 5 <br>\n",
    "arr[] = {1,2,8,10,11,12,19}<br>\n",
    "<b>Output: </b><br>\n",
    "1<br>\n",
    "<b>Explanation: </b><br>\n",
    "Largest Number less than 5 is 2 (i.e K = 2), whose index is 1(0-based indexing)."
   ]
  },
  {
   "cell_type": "code",
   "execution_count": null,
   "id": "3b40de9f",
   "metadata": {},
   "outputs": [],
   "source": []
  },
  {
   "cell_type": "code",
   "execution_count": 1,
   "id": "7cc7db9b",
   "metadata": {},
   "outputs": [],
   "source": [
    "#Approach I (Brute Force)\n",
    "#TC: O(N)\n",
    "#SC: O(1)\n",
    "def floor(arr,x):\n",
    "    n = len(arr)\n",
    "    ans = -1\n",
    "    for i in range(n):\n",
    "        if arr[i]==x:\n",
    "            ans = i\n",
    "            break\n",
    "        elif arr[i]>x:\n",
    "            break\n",
    "        else:\n",
    "            ans = i\n",
    "    return ans"
   ]
  },
  {
   "cell_type": "code",
   "execution_count": 2,
   "id": "86adebd8",
   "metadata": {},
   "outputs": [
    {
     "data": {
      "text/plain": [
       "-1"
      ]
     },
     "execution_count": 2,
     "metadata": {},
     "output_type": "execute_result"
    }
   ],
   "source": [
    "arr = [1,2,8,10,11,12,19]\n",
    "x = 0\n",
    "floor(arr,x)"
   ]
  },
  {
   "cell_type": "code",
   "execution_count": 3,
   "id": "9dbd20f5",
   "metadata": {},
   "outputs": [
    {
     "data": {
      "text/plain": [
       "1"
      ]
     },
     "execution_count": 3,
     "metadata": {},
     "output_type": "execute_result"
    }
   ],
   "source": [
    "arr = [1,2,8,10,11,12,19]\n",
    "x = 5\n",
    "floor(arr,x)"
   ]
  },
  {
   "cell_type": "code",
   "execution_count": null,
   "id": "22f85e59",
   "metadata": {},
   "outputs": [],
   "source": []
  },
  {
   "cell_type": "code",
   "execution_count": 1,
   "id": "0a5ab856",
   "metadata": {},
   "outputs": [],
   "source": [
    "#Approach II (Binary Search)\n",
    "#TC:O(logN)\n",
    "#SC: O(1)\n",
    "def floor(arr,x):\n",
    "    i = 0\n",
    "    j = len(arr)-1\n",
    "    ans = -1\n",
    "    while i<=j:\n",
    "        mid = i+(j-i)//2\n",
    "        if arr[mid]<=x:\n",
    "            ans = mid\n",
    "            if arr[mid]==x:\n",
    "                j = mid - 1\n",
    "            else:\n",
    "                i = mid + 1\n",
    "        else:\n",
    "            j = mid - 1\n",
    "    return ans"
   ]
  },
  {
   "cell_type": "code",
   "execution_count": 2,
   "id": "54c49314",
   "metadata": {},
   "outputs": [
    {
     "data": {
      "text/plain": [
       "-1"
      ]
     },
     "execution_count": 2,
     "metadata": {},
     "output_type": "execute_result"
    }
   ],
   "source": [
    "arr = [1,2,8,10,11,12,19]\n",
    "x = 0\n",
    "floor(arr,x)"
   ]
  },
  {
   "cell_type": "code",
   "execution_count": 3,
   "id": "a1d0f5d3",
   "metadata": {},
   "outputs": [
    {
     "data": {
      "text/plain": [
       "1"
      ]
     },
     "execution_count": 3,
     "metadata": {},
     "output_type": "execute_result"
    }
   ],
   "source": [
    "arr = [1,2,8,10,11,12,19]\n",
    "x = 5\n",
    "floor(arr,x)"
   ]
  },
  {
   "cell_type": "code",
   "execution_count": 4,
   "id": "9a8770e9",
   "metadata": {},
   "outputs": [
    {
     "data": {
      "text/plain": [
       "2"
      ]
     },
     "execution_count": 4,
     "metadata": {},
     "output_type": "execute_result"
    }
   ],
   "source": [
    "arr = [1,2,5,5,8,10,11,12,19]\n",
    "x = 5\n",
    "floor(arr,x)"
   ]
  },
  {
   "cell_type": "code",
   "execution_count": null,
   "id": "16c309e2",
   "metadata": {},
   "outputs": [],
   "source": []
  }
 ],
 "metadata": {
  "kernelspec": {
   "display_name": "Python 3",
   "language": "python",
   "name": "python3"
  },
  "language_info": {
   "codemirror_mode": {
    "name": "ipython",
    "version": 3
   },
   "file_extension": ".py",
   "mimetype": "text/x-python",
   "name": "python",
   "nbconvert_exporter": "python",
   "pygments_lexer": "ipython3",
   "version": "3.8.8"
  }
 },
 "nbformat": 4,
 "nbformat_minor": 5
}
